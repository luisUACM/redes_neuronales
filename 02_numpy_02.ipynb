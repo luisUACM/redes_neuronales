{
 "cells": [
  {
   "cell_type": "markdown",
   "metadata": {},
   "source": [
    "![image](figs/fig-numpy.png)\n",
    "# Introducción a NumPy (...Continuación)\n"
   ]
  },
  {
   "cell_type": "markdown",
   "metadata": {},
   "source": [
    "\n",
    "### - NumPy es una de las bibliotecas fundamentales en el ecosistema de Python para la ciencia de datos y la computación numérica. \n",
    "\n",
    "### - Proporciona soporte para arreglos multidimensionales y funciones matemáticas avanzadas.\n",
    "### - La convierte en una herramienta esencial para el análisis de datos\n",
    "\n",
    "### [https://numpy.org](https://numpy.org)\n",
    "\n",
    "\n",
    "# <br>\n",
    "# <br>\n",
    "# <br>"
   ]
  },
  {
   "cell_type": "markdown",
   "metadata": {},
   "source": [
    "\n",
    "## ¿Qué es NumPy?\n",
    "\n",
    "### NumPy (Numerical Python) es una biblioteca de Python que ofrece:\n",
    "\n",
    "###  - **Arreglos multidimensionales:** Estructuras de datos eficientes para almacenar y manipular grandes conjuntos de datos numéricos.\n",
    "\n",
    "### - **Funciones matemáticas avanzadas:** Operaciones matemáticas y estadísticas que funcionan de manera eficiente en arreglos completos.\n",
    "\n",
    "### - **Operaciones vectorizadas:** Cálculos rápidos sin necesidad de bucles explícitos, gracias a la implementación en C.\n",
    "\n",
    "# <br>\n",
    "# <br>\n",
    "# <br>\n"
   ]
  },
  {
   "cell_type": "markdown",
   "metadata": {},
   "source": [
    "\n",
    "# Contenido del Tutorial\n",
    "\n",
    "###  1. **Instalación de NumPy**\n",
    "  #### - Cómo instalar NumPy usando `pip` o `conda`.\n",
    "\n",
    "### 2. **Conceptos Básicos de Arreglos**\n",
    "   #### - Creación de arreglos con `np.array()`.\n",
    "   #### - Indexación y segmentación de arreglos.\n",
    "   #### - Tipos de datos y conversiones entre tipos.\n",
    "\n",
    "### 3. **Operaciones Matemáticas y Estadísticas**\n",
    "   #### - Operaciones aritméticas básicas: suma, resta, multiplicación y división.\n",
    "   #### - Funciones estadísticas: media, mediana, desviación estándar.\n",
    "\n",
    "### 4. **Manipulación de Arreglos**\n",
    "   #### - Cambio de forma con `reshape()`.\n",
    "   #### - Transposición y otras operaciones de reordenamiento.\n",
    "   #### - Combinación y división de arreglos.\n",
    "\n",
    "### 5. **Operaciones Avanzadas**\n",
    "   #### - Uso de funciones de álgebra lineal: productos matriciales, determinantes y valores singulares.\n",
    "\n",
    "\n",
    "# <br>\n",
    "# <br>\n",
    "# <br>"
   ]
  },
  {
   "cell_type": "code",
   "execution_count": null,
   "metadata": {},
   "outputs": [],
   "source": []
  },
  {
   "cell_type": "code",
   "execution_count": null,
   "metadata": {},
   "outputs": [],
   "source": []
  },
  {
   "cell_type": "code",
   "execution_count": null,
   "metadata": {},
   "outputs": [],
   "source": []
  },
  {
   "cell_type": "markdown",
   "metadata": {},
   "source": [
    "# Ejes de Numpy (AXIS)\n",
    "\n",
    "- ### Los ejes de NumPy son muy similares a los ejes de un sistema de coordenadas cartesianas.\n",
    "- ### Axis = 0 indica el primer eje. Suponiendo que estamos hablando de matrices multidimensionales, el eje 0 es el eje que de las filas (se aplica a 2d y arrays multidimensionales).\n",
    "- ### Axis = 1 indica el segundo eje. Este es el eje horizontal que cruza las columnas\n",
    "- ### Para entender cómo utilizar el parámetro de eje en las funciones de NumPy, es  importante comprender qué controla realmente el parámetro de eje para cada función.\n",
    "\n",
    "![image](./figs/fig-np-axis0-1.png)"
   ]
  },
  {
   "cell_type": "markdown",
   "metadata": {},
   "source": [
    "## Función $sum$  de NUMPY con AXIS = 0\n",
    "- ### La función $sum$ suma a través  de las columnas. El resultado es un nuevo array que contiene la suma de cada columna.\n",
    "- ### En np.sum(), el parámetro de eje (axis) controla qué eje se agregará. Es decir, el parámetro axis controla qué eje se contraerá.\n",
    "\n",
    "- ### Funciones como sum(), mean(), min(), median() y otras funciones estadísticas agregan sus datos.\n",
    "\n",
    "- ### Cuando establecemos axis = 0, la función suma las columnas. El resultado es una nueva matriz de NumPy que contiene la suma de cada columna.\n",
    "\n",
    "- ### En la figura, se colapsan los renglones (axis=0) y calcula la suma de cada columna.\n",
    "\n",
    "\n",
    "![image](./figs/fig-np-axis0.png)"
   ]
  },
  {
   "cell_type": "code",
   "execution_count": null,
   "metadata": {},
   "outputs": [],
   "source": [
    "#A = np.arange(0, 6).reshape([2,3])\n",
    "import numpy as np\n",
    "A = np.array([[0, 1, 2],\n",
    "              [3, 4, 5]\n",
    "              ])\n",
    "\n",
    "print(f\"A=\\n{A}\\n\")\n",
    "\n",
    "print(np.sum(A, axis=0))"
   ]
  },
  {
   "cell_type": "code",
   "execution_count": null,
   "metadata": {},
   "outputs": [],
   "source": [
    "#Suma las columnas pero mantiene las dimensiones originales con keepdims\n",
    "print(np.sum(A, axis=0, keepdims=True))"
   ]
  },
  {
   "cell_type": "markdown",
   "metadata": {},
   "source": [
    "## SUM de NUMPY con AXIS = 1\n",
    "\n",
    "- ### La función $sum$ suma a través  de los renglones. El resultado es un nuevo array que contiene la suma de cada columna.\n",
    "\n",
    "- ### Cuando establecemos axis = 1, la función suma los renglones. El resultado es una nueva matriz de NumPy que contiene la suma de cada renglon.\n",
    "\n",
    "- ### En la figura, se colapsan las columnas  (axis=1) y se calcula la suma de cada renglon.\n",
    "\n",
    "\n",
    "![image](./figs/fig-np-axis1.png)"
   ]
  },
  {
   "cell_type": "code",
   "execution_count": null,
   "metadata": {},
   "outputs": [],
   "source": [
    "# A = np.arange(0, 6).reshape([2,3])\n",
    "\n",
    "A = np.array([[0, 1, 2],\n",
    "              [3, 4, 5]\n",
    "              ])\n",
    "\n",
    "print(f\"A=\\n{A}\\n\")\n",
    "print(np.sum(A, axis=1))\n"
   ]
  },
  {
   "cell_type": "code",
   "execution_count": null,
   "metadata": {},
   "outputs": [],
   "source": [
    "\n",
    "B= np.sum(A, axis=1)\n",
    "print(f\"B=\\n{B}\\n\")\n",
    "B.shape"
   ]
  },
  {
   "cell_type": "markdown",
   "metadata": {},
   "source": [
    "## Suma las columnas pero mantiene las dimensiones originales con $keepdims$\n"
   ]
  },
  {
   "cell_type": "code",
   "execution_count": null,
   "metadata": {},
   "outputs": [],
   "source": [
    "# Suma las columnas pero mantiene las dimensiones originales con keepdims\n",
    "\n",
    "print(f\"A=\\n{A}\\n\")\n",
    "print(np.sum(A, axis=1, keepdims=True))\n",
    "\n"
   ]
  },
  {
   "cell_type": "code",
   "execution_count": null,
   "metadata": {},
   "outputs": [],
   "source": [
    "B= np.sum(A, axis=1, keepdims=True)\n",
    "print(f\"B=\\n{B}\\n\")\n",
    "B.shape"
   ]
  },
  {
   "cell_type": "markdown",
   "metadata": {},
   "source": [
    "## SUM de NUMPY sin  AXIS \n",
    "\n",
    "- ### Suma de manera global\n"
   ]
  },
  {
   "cell_type": "code",
   "execution_count": null,
   "metadata": {},
   "outputs": [],
   "source": [
    "\n",
    "A = np.array([[0, 1, 2],\n",
    "              [3, 4, 5]\n",
    "              ])\n",
    "\n",
    "print(f\"A=\\n{A}\\n\")\n",
    "print(np.sum(A))"
   ]
  },
  {
   "cell_type": "code",
   "execution_count": null,
   "metadata": {},
   "outputs": [],
   "source": []
  },
  {
   "cell_type": "code",
   "execution_count": null,
   "metadata": {},
   "outputs": [],
   "source": []
  },
  {
   "cell_type": "markdown",
   "metadata": {},
   "source": [
    "# Ejercicios:\n",
    "\n"
   ]
  },
  {
   "cell_type": "markdown",
   "metadata": {},
   "source": [
    "## Dada la siguiente: matriz score_matrix Realizar las operaciones que se indican\n",
    "\n",
    "```Python\n",
    "import numpy as np\n",
    "\n",
    "# Cada fila representa a un estudiante\n",
    "# y cada columna representa una materia  diferente con sus puntuaciones\n",
    "scores_matrix = np.array([\n",
    "    [85, 78, 92, 88, 76],  # Puntuaciones del estudiante 1\n",
    "    [90, 85, 89, 92, 84],  # Puntuaciones del estudiante 2\n",
    "    [70, 65, 80, 75, 72],  # Puntuaciones del estudiante 3\n",
    "    [88, 90, 85, 91, 87],  # Puntuaciones del estudiante 4\n",
    "    [76, 80, 78, 74, 73],  # Puntuaciones del estudiante 5\n",
    "    [95, 92, 90, 94, 91]   # Puntuaciones del estudiante 6\n",
    "])\n",
    "```\n"
   ]
  },
  {
   "cell_type": "markdown",
   "metadata": {},
   "source": [
    "# Operaciones\n",
    "- ### 1. Obtener la media de calificaciones por estudiante \n",
    "\n",
    "- ### 2. Obtener la desviación estándar de las calificaciones  por  cada estudiante\n",
    "\n",
    "- ### 3. Obtener la calificación máxima por estudiante\n",
    "\n",
    "- ### 4. Obtener la Puntuación Máxima y Mínima por materia\n",
    "\n",
    "- ### 5. Obtener la desviación estándar de las calificaciones para cada materia\n",
    "\n",
    "- ### 6. Media de las Puntuaciones por cada materia"
   ]
  },
  {
   "cell_type": "code",
   "execution_count": null,
   "metadata": {},
   "outputs": [],
   "source": [
    "import numpy as np\n",
    "\n",
    "scores_matrix = np.array([\n",
    "    [85, 78, 92, 88, 76],  # Puntuaciones del estudiante 1\n",
    "    [90, 85, 89, 92, 84],  # Puntuaciones del estudiante 2\n",
    "    [70, 65, 80, 75, 72],  # Puntuaciones del estudiante 3\n",
    "    [88, 90, 85, 91, 87],  # Puntuaciones del estudiante 4\n",
    "    [76, 80, 78, 74, 73],  # Puntuaciones del estudiante 5\n",
    "    [95, 92, 90, 94, 91]   # Puntuaciones del estudiante 6\n",
    "])\n",
    "\n",
    "media = np.mean(scores_matrix, axis=1, keepdims=True)\n",
    "print(media)\n"
   ]
  },
  {
   "cell_type": "code",
   "execution_count": null,
   "metadata": {},
   "outputs": [],
   "source": []
  },
  {
   "cell_type": "code",
   "execution_count": null,
   "metadata": {},
   "outputs": [],
   "source": []
  },
  {
   "cell_type": "markdown",
   "metadata": {},
   "source": [
    "# Concatenación de matrices"
   ]
  },
  {
   "cell_type": "markdown",
   "metadata": {},
   "source": [
    "## $Concatenate$ de NUMPY con AXIS = 0\n",
    "- ### Cuando usamos el parámetro axis con la función np.concatenate(), el parámetro axis define el eje a lo largo del cual se apilan las matrices.\n",
    "- ### Cuando establecemos axis = 0, le estamos indicando a la función concatenar que apile las dos matrices a lo largo de las filas. \n",
    "- ### Estamos especificando que queremos concatenar las matrices a lo largo del eje 0.\n",
    "\n",
    "![image](./figs/fig-np-concatenate-axis0.png)\n"
   ]
  },
  {
   "cell_type": "code",
   "execution_count": null,
   "metadata": {},
   "outputs": [],
   "source": [
    "A= np.array([[1, 1, 1],\n",
    "             [1, 1, 1]])\n",
    "\n",
    "B = np.array([[9, 9, 9],\n",
    "              [9, 9, 9]])\n",
    "\n",
    "print(f'A=\\n{A}\\n')\n",
    "print(f'B=\\n{B}\\n')\n",
    "\n",
    "np.concatenate([A, B], axis = 0)"
   ]
  },
  {
   "cell_type": "markdown",
   "metadata": {},
   "source": [
    "## $Concatenate$ de NUMPY con AXIS = 1\n",
    "- ### Cuando usamos el parámetro axis con la función np.concatenate(), el parámetro axis define el eje a lo largo del cual se apilan las matrices.\n",
    "- ### Cuando establecemos axis = 1, le estamos indicando a la función concatenar que apile las dos matrices de manera horizontal, a lo largo de las columnas. \n",
    "- ### Estamos especificando que queremos concatenar las matrices a lo largo del eje 1.\n",
    "\n",
    "![image](./figs/fig-np-concatenate-axis1.png)\n"
   ]
  },
  {
   "cell_type": "code",
   "execution_count": null,
   "metadata": {},
   "outputs": [],
   "source": [
    "A= np.array([[1, 1, 1],\n",
    "             [1, 1, 1]])\n",
    "\n",
    "B = np.array([[9, 9, 9],\n",
    "              [9, 9, 9]])\n",
    "\n",
    "print(f'A=\\n{A}\\n')\n",
    "print(f'B=\\n{B}\\n')\n",
    "\n",
    "np.concatenate((A, B), axis = 1)"
   ]
  },
  {
   "cell_type": "code",
   "execution_count": null,
   "metadata": {},
   "outputs": [],
   "source": []
  },
  {
   "cell_type": "markdown",
   "metadata": {},
   "source": [
    "## Arrays de 1-DIMENSIONAL\n",
    "\n",
    "- ### Estos arreglos solo tiene un eje (axis=0)\n",
    "- ### En este caso, la función funciona correctamente. NumPy concatena estas matrices (1-d) a lo largo del eje 0. \n",
    "- ### El problema es que en las matrices unidimensionales, el eje 0 no apunta \"hacia abajo\" como lo hace en una matriz bidimensional."
   ]
  },
  {
   "cell_type": "code",
   "execution_count": null,
   "metadata": {},
   "outputs": [],
   "source": [
    "a = np.array([1,1,1])\n",
    "b = np.array([9,9,9])\n",
    "\n",
    "print(f'a=\\n{a}\\n')\n",
    "print(f'b=\\n{b}\\n')\n",
    "\n",
    "\n",
    "np.hstack((a, b))\n",
    "\n"
   ]
  },
  {
   "cell_type": "markdown",
   "metadata": {},
   "source": [
    "## $hstack$\n",
    "\n",
    "- ### Apila matrices en secuencia horizontalmente (columna por columna).\n",
    "\n",
    "- ### Esto es equivalente a la concatenación a lo largo del segundo eje, excepto para matrices 1-D donde se concatena a lo largo del primer eje.\n",
    "- ### Reconstruye matrices divididas por $hsplit$."
   ]
  },
  {
   "cell_type": "code",
   "execution_count": null,
   "metadata": {},
   "outputs": [],
   "source": [
    "import numpy as np\n",
    "\n",
    "a = np.array([[1, 2],\n",
    "              [3, 4]])\n",
    "\n",
    "b = np.array([[5, 6, 7],\n",
    "              [8, 9, 10]])\n",
    "print(f'a=\\n{a}\\n')\n",
    "print(f'b=\\n{b}\\n')\n",
    "\n",
    "print(\"hstack\\n\", np.hstack((a, b)))\n",
    "\n"
   ]
  },
  {
   "cell_type": "markdown",
   "metadata": {},
   "source": [
    "# Vectores columna\n",
    "$$\n",
    "\\mathbf{a} = \\begin{bmatrix} 1 \\\\ 2 \\\\ 3 \\end{bmatrix}, \\quad\n",
    "\\mathbf{b} = \\begin{bmatrix} 4 \\\\ 5 \\\\ 6 \\end{bmatrix}\n",
    "\\quad\n",
    "\n",
    "\\mathbf{c} = \\mathbf{[a|b]= }  \\begin{bmatrix}\n",
    "1 & 4 \\\\\n",
    "2 & 5 \\\\\n",
    "3 & 6 \\\\\n",
    "\\end{bmatrix}\n",
    "\n",
    "$$"
   ]
  },
  {
   "cell_type": "code",
   "execution_count": null,
   "metadata": {},
   "outputs": [],
   "source": [
    "import numpy as np\n",
    "\n",
    "# Vectores columna\n",
    "a = np.array([[1],\n",
    "              [2],\n",
    "              [3]])\n",
    "\n",
    "b = np.array([[4],\n",
    "              [5],\n",
    "              [6]])\n",
    "\n",
    "print(f'a=\\n{a}\\n')\n",
    "print(f'b=\\n{b}\\n')\n",
    "\n",
    "c = np.hstack((a,b))\n",
    "print(f'c=\\n{c}\\n')\n",
    "print(c.shape)\n"
   ]
  },
  {
   "cell_type": "markdown",
   "metadata": {},
   "source": [
    "## $vstack$\n",
    "\n",
    "- ### Apila matrices en secuencia verticalmente (fila por fila).\n",
    "\n",
    "- ### Esto es equivalente a la concatenación a lo largo del primer eje después de que las matrices 1-D de forma (N,) hayan sido reformadas a (1,N). \n",
    "\n",
    "- ### Reconstruye matrices divididas por vsplit."
   ]
  },
  {
   "cell_type": "code",
   "execution_count": null,
   "metadata": {},
   "outputs": [],
   "source": [
    "\n",
    "a = np.array([[1, 2],\n",
    "              [3, 4]])\n",
    "\n",
    "b = np.array([[5, 6],\n",
    "              [8, 9],\n",
    "              [10, 11]])\n",
    "\n",
    "print(f'a= \\n{a}\\n')\n",
    "print(f'b= \\n{b}\\n')\n",
    "print(\"\\nvstack\\n\", np.vstack((a, b)))\n",
    "\n"
   ]
  },
  {
   "cell_type": "markdown",
   "metadata": {},
   "source": [
    "## $vsplit$ \n",
    "- ### Dividir una matriz en múltiples submatrices verticalmente (fila por fila)"
   ]
  },
  {
   "cell_type": "code",
   "execution_count": null,
   "metadata": {},
   "outputs": [],
   "source": [
    "import numpy as np\n",
    "x = np.arange(24).reshape(6, 4)\n",
    "print(f'x= \\n{x}\\n')\n",
    "np.vsplit(x, 2)"
   ]
  },
  {
   "cell_type": "markdown",
   "metadata": {},
   "source": [
    "## $hsplit$ \n",
    "- ### Dividir una matriz en múltiples submatrices horizontalmente (columna por columna)"
   ]
  },
  {
   "cell_type": "code",
   "execution_count": null,
   "metadata": {},
   "outputs": [],
   "source": [
    "import numpy as np\n",
    "x = np.arange(24).reshape(6, 4)\n",
    "print(f'x= \\n{x}\\n')\n",
    "np.hsplit(x, 2)"
   ]
  },
  {
   "cell_type": "markdown",
   "metadata": {},
   "source": [
    "## Operaciones con matrices\n",
    " - ### suma, resta"
   ]
  },
  {
   "cell_type": "code",
   "execution_count": null,
   "metadata": {},
   "outputs": [],
   "source": [
    "# Crear matrices\n",
    "A = np.array([[1, 2], [3, 4]])\n",
    "B = np.array([[5, 6], [7, 8]])\n",
    "\n",
    "print(\"Matriz A:\")\n",
    "print(A)\n",
    "\n",
    "print(\"\\nMatriz B:\")\n",
    "print(B)\n",
    "\n",
    "# Suma y resta de matrices\n",
    "suma = A + B\n",
    "resta = A - B\n",
    "\n",
    "print(\"\\nSuma de matrices:\")\n",
    "print(suma)\n",
    "\n",
    "print(\"\\nResta de matrices:\")\n",
    "print(resta)"
   ]
  },
  {
   "cell_type": "markdown",
   "metadata": {},
   "source": [
    "## Producto Hadamard\n",
    "### El producto Hadamard $ C $ se expresa como:\n",
    "$ C = A \\odot B $  \n",
    "\n",
    "### o \n",
    "\n",
    "$ C = A * B $\n",
    "\n",
    "### donde cada elemento $ c_{ij} $ de la matriz $ C $ se calcula como:\n",
    "\n",
    "### $ c_{ij} = a_{ij} \\odot b_{ij} $\n",
    "\n",
    "## donde $ a_{ij} $ y $ b_{ij} $ son los elementos correspondientes de las matrices $ A $ y $ B $, respectivamente."
   ]
  },
  {
   "cell_type": "code",
   "execution_count": null,
   "metadata": {},
   "outputs": [],
   "source": [
    "# Crear matrices\n",
    "A = np.array([[1, 2], [3, 4]])\n",
    "B = np.array([[5, 6], [7, 8]])\n",
    "\n",
    "print(\"Matriz A:\")\n",
    "print(A)\n",
    "\n",
    "print(\"\\nMatriz B:\")\n",
    "print(B)\n",
    "\n",
    "# Multiplicación de matrices (Elemento a elemento )\n",
    "multiplicacion_elemental = A * B  # Multiplicación elemento a elemento\n",
    "\n",
    "print(\"\\nMultiplicación elemento a elemento de matrices:\")\n",
    "print(multiplicacion_elemental)\n",
    "\n",
    "# Multiplicación de matrices (Elemento a elemento )\n",
    "multiplicacion_elemental2 = np.multiply(A, B) # Multiplicación elemento a elemento\n",
    "\n",
    "print(\"\\nMultiplicación elemento a elemento de matrices:\")\n",
    "print(multiplicacion_elemental2)\n",
    "\n"
   ]
  },
  {
   "cell_type": "code",
   "execution_count": null,
   "metadata": {},
   "outputs": [],
   "source": [
    "\n",
    "multiplicacion_matricial = np.dot(A, B)  # Multiplicación matricial 1 (caso especial para 1-D matriz, se realiza el producto escalar)\n",
    "\n",
    "multiplicacion_matricial2 = np.matmul(A, B)  # Multiplicación matricial 2\n",
    "\n",
    "multiplicacion_matricial3 = A @ B  # Multiplicación matricial 3\n",
    "\n",
    "\n",
    "# El resultado es el mismo con 3 formas de realizarlo \n",
    "\n",
    "print(\"\\nMultiplicación matricial:\")\n",
    "print(multiplicacion_matricial)\n",
    "\n",
    "print(\"\\nMultiplicación matricial (matmul):\")\n",
    "print(multiplicacion_matricial2)\n",
    "\n",
    "print(\"\\nMultiplicación matricial (@):\")\n",
    "print(multiplicacion_matricial2)\n"
   ]
  },
  {
   "cell_type": "markdown",
   "metadata": {},
   "source": [
    "## Operaciones sobre matrices\n",
    " - ### Transpuesta\n",
    " - ### Inversa: La inversa de A (debe ser cuadrada) se denota $ A^{-1} $  cumple que $A \\cdot A^{-1} = I$ ; el determinante es no nulo\n",
    " - ### Determinante"
   ]
  },
  {
   "cell_type": "code",
   "execution_count": null,
   "metadata": {},
   "outputs": [],
   "source": [
    "# Transposición\n",
    "transpuesta_A = np.transpose(A)\n",
    "transpuesta_B = np.transpose(B)\n",
    "\n",
    "print(\"A=\\n\", A)\n",
    "print(\"\\nTransposición de la matriz A:\")\n",
    "print(transpuesta_A)\n",
    "\n",
    "print(\"\\nTransposición de la matriz A con operador T:\")\n",
    "print(A.T)\n",
    "\n",
    "print(\"\\nB=\\n\", B)\n",
    "print(\"\\nTransposición de la matriz B:\")\n",
    "print(transpuesta_B)\n",
    "\n",
    "print(\"\\nTransposición de la matriz B con operador T:\")\n",
    "print(B.T)"
   ]
  },
  {
   "cell_type": "code",
   "execution_count": null,
   "metadata": {},
   "outputs": [],
   "source": [
    "# Determinante\n",
    "\n",
    "A = np.array([[1, 2], \n",
    "              [3, 4]])\n",
    "\n",
    "B = np.array([[5, 6], \n",
    "              [7, 8]])\n",
    "\n",
    "\n",
    "determinante_A = np.linalg.det(A)\n",
    "determinante_B = np.linalg.det(B)\n",
    "\n",
    "print(\"\\nDeterminante de la matriz A:\")\n",
    "print(determinante_A)\n",
    "\n",
    "print(\"\\nDeterminante de la matriz B:\")\n",
    "print(determinante_B)\n",
    "\n",
    "np.linalg.inv(A)"
   ]
  },
  {
   "cell_type": "code",
   "execution_count": null,
   "metadata": {},
   "outputs": [],
   "source": [
    "# Matriz Inversa\n",
    "A = np.array([[0, -1], \n",
    "              [2, 0]])\n",
    "              \n",
    "\n",
    "print(\"Matriz A= \")\n",
    "print(A)              \n",
    "inversa_A = np.linalg.inv(A)\n",
    "\n",
    "inversa_B = np.linalg.inv(B)\n",
    "\n",
    "print(\"\\nInversa de la matriz A:\")\n",
    "print(inversa_A)\n",
    "\n",
    "print(\"\\nMultiplicacion de la matriz A @ A(-1):\")\n",
    "\n",
    "print(A @ inversa_A)\n",
    "\n",
    "print(\"\\nInversa de la matriz B:\")\n",
    "print(inversa_B)\n",
    "\n"
   ]
  },
  {
   "cell_type": "code",
   "execution_count": null,
   "metadata": {},
   "outputs": [],
   "source": [
    "\n",
    "#Matriz no invertible\n",
    "\n",
    "A = np.array([[2, 4],\n",
    "              [1, 2]])\n",
    "print(\"\\nInversa de la matriz A:\")\n",
    "print(A)              \n",
    "\n",
    "try: \n",
    "    print(\"determinante de A = \", np.linalg.det(A))\n",
    "    inversa_A = np.linalg.inv(A)\n",
    "    print(inversa_A)\n",
    "except np.linalg.LinAlgError as err:\n",
    "    print(\"error:\", err)\n",
    "    print(\"la matriz no es invertible\")"
   ]
  },
  {
   "cell_type": "markdown",
   "metadata": {},
   "source": [
    "## Filtrado de datos de un arreglo"
   ]
  },
  {
   "cell_type": "code",
   "execution_count": null,
   "metadata": {},
   "outputs": [],
   "source": [
    "# Generar matriz aleatoria\n",
    "matriz = np.random.randint(1, 10, (4, 4))\n",
    "\n",
    "# Filtrar elementos mayores a 5\n",
    "elementos_filtrados = matriz[matriz > 5] #Filtrado de datos\n",
    "\n",
    "print(\"Matriz original:\")\n",
    "print(matriz)\n",
    "print(\"\\nElementos mayores a 5:\")\n",
    "print(elementos_filtrados)"
   ]
  },
  {
   "cell_type": "markdown",
   "metadata": {},
   "source": [
    "## Ejercicios\n",
    "\n",
    "### 1. **Transponer e Invertir**:\n",
    "   - ### Crea una matriz $ 3 \\times 3 $, transponerla  y calcula su inversa (si es posible).\n",
    "   - ### Verifica si la matriz Identidad es igual al producto de la matriz y su inversa.\n",
    "\n",
    "\n",
    "### 2. **Producto de Hadamard y Determinante**:\n",
    "   - ### Crea dos matrices $ 3 \\times 3 $ y calcula el producto de Hadamard.\n",
    "   - ### Calcula el determinante de una matriz $ 4 \\times 4 $ \n",
    "\n",
    "### 3. **Filtrado de datos**:\n",
    "   - ### Genera una matriz 4x4 de números aleatorios entre 1 y 20. Filtra las filas cuya suma de elementos es mayor a 30.\n"
   ]
  },
  {
   "cell_type": "code",
   "execution_count": null,
   "metadata": {},
   "outputs": [],
   "source": []
  },
  {
   "cell_type": "markdown",
   "metadata": {},
   "source": [
    "## Ejercicio: Análisis de Temperaturas\n",
    "\n",
    "### **Descripción**\n",
    "#### Una estación meteorológica registra las temperaturas (en grados Celsius) en una ciudad durante una semana a tres diferentes horas del día: **mañana (8 AM), tarde (2 PM) y noche (8 PM)**. Los datos se almacenan en una matriz de NumPy de la siguiente forma:\n",
    "\n",
    "```\n",
    "T =\n",
    "[[15, 22, 18],\n",
    " [14, 24, 17],\n",
    " [16, 23, 19],\n",
    " [15, 25, 20],\n",
    " [17, 26, 21],\n",
    " [18, 27, 22],\n",
    " [19, 28, 23]]\n",
    "```\n",
    "\n",
    "#### Donde:\n",
    "- #### **Filas**: representan los días de la semana (de lunes a domingo).\n",
    "- #### **Columnas**: representan las horas del día (mañana, tarde, noche).\n",
    "\n",
    "### **Instrucciones**\n",
    "####  1. **Crear la matriz** `T` en NumPy con los datos proporcionados.\n",
    "#### 2. **Obtener la temperatura promedio** de cada día.\n",
    "#### 3. **Obtener la temperatura promedio** de cada horario (mañana, tarde y noche).\n",
    "#### 4. **Determinar el día más frío** (día con menor temperatura promedio).\n",
    "#### 5. **Determinar el día más caluroso** (día con mayor temperatura promedio).\n",
    "#### 6. **Determinar la temperatura máxima y mínima** de toda la semana."
   ]
  }
 ],
 "metadata": {
  "kernelspec": {
   "display_name": "RNA",
   "language": "python",
   "name": "python3"
  },
  "language_info": {
   "codemirror_mode": {
    "name": "ipython",
    "version": 3
   },
   "file_extension": ".py",
   "mimetype": "text/x-python",
   "name": "python",
   "nbconvert_exporter": "python",
   "pygments_lexer": "ipython3",
   "version": "3.13.1"
  }
 },
 "nbformat": 4,
 "nbformat_minor": 2
}
