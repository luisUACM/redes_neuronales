{
 "cells": [
  {
   "cell_type": "markdown",
   "metadata": {},
   "source": [
    "## Regularización: Dropout\n",
    "\n",
    "- ### Es una técnica de regularización utilizada en redes neuronales para reducir el riesgo de sobreajuste (overfitting). \n",
    "- ### Es una forma de regularizar una red neuronal añadiendo ruido a sus unidades ocultas.\n",
    "- ### Es evitar que la red neuronal dependa demasiado de ciertos nodos o combinaciones de nodos durante el entrenamiento, promoviendo la generalización y mejorando el desempeño en datos nuevos.\n",
    "- ### Se puede interpretar como una forma de promediar el modelo.\n",
    "\n",
    "- ### En el entrenamiento, las activaciones se escalan por un factor de $\\frac{1}{1-p}$\n",
    "- ### En la evaluación, las activaciones se multiplican por $p$ \n",
    "\n"
   ]
  },
  {
   "cell_type": "markdown",
   "metadata": {},
   "source": [
    "### Definición de una capa Dropout"
   ]
  },
  {
   "cell_type": "code",
   "execution_count": null,
   "metadata": {},
   "outputs": [],
   "source": [
    "import torch\n",
    "import numpy as np\n",
    "\n",
    "#Establecer la semilla para la generación de números aleatorios\n",
    "np.random.seed(42)\n",
    "torch.manual_seed(42)\n",
    "\n",
    "def dropout_layer(X, dropout):\n",
    "    assert 0 <= dropout <= 1, \"El parámetro dropout debe estar en el rango [0, 1]\"    \n",
    "    if dropout == 0:  # Sin dropout\n",
    "        return X\n",
    "    if dropout == 1:  # Apaga todas las neuronas\n",
    "        return torch.zeros_like(X)\n",
    "    \n",
    "    # Generar la máscara de dropout con distribución de Bernoulli\n",
    "    mask = torch.bernoulli((1 - dropout) * torch.ones_like(X))\n",
    "    \n",
    "    # Aplicar la máscara y escalar\n",
    "    return mask * X / (1.0 - dropout)\n",
    "\n",
    "X = torch.arange(16, dtype = torch.float32).reshape((2, 8)) \n",
    "print(\"tensor: \", X)"
   ]
  },
  {
   "cell_type": "code",
   "execution_count": null,
   "metadata": {},
   "outputs": [],
   "source": [
    "(1 - 0.5) * torch.ones_like(X)"
   ]
  },
  {
   "cell_type": "code",
   "execution_count": null,
   "metadata": {},
   "outputs": [],
   "source": [
    "# Ejemplo de máscara \n",
    "mask = torch.bernoulli((1 - 0.5) * torch.ones_like(X))\n",
    "print(mask)"
   ]
  },
  {
   "cell_type": "markdown",
   "metadata": {},
   "source": [
    "### Capa Dropout con p=0"
   ]
  },
  {
   "cell_type": "code",
   "execution_count": null,
   "metadata": {},
   "outputs": [],
   "source": [
    "print(\"tensor: \", X)\n",
    "print('dropout_p = 0:', dropout_layer(X, 0)) \n"
   ]
  },
  {
   "cell_type": "markdown",
   "metadata": {},
   "source": [
    "### Capa Dropout con p=0.25"
   ]
  },
  {
   "cell_type": "code",
   "execution_count": null,
   "metadata": {},
   "outputs": [],
   "source": [
    "print(\"tensor: \", X)\n",
    "print('dropout_p = 0.25:', dropout_layer(X, 0.25)) "
   ]
  },
  {
   "cell_type": "markdown",
   "metadata": {},
   "source": [
    "### Capa Dropout con p=0.5"
   ]
  },
  {
   "cell_type": "code",
   "execution_count": null,
   "metadata": {},
   "outputs": [],
   "source": [
    "print(\"tensor: \", X)\n",
    "print('dropout_p = 0.5:', dropout_layer(X, 0.5)) \n"
   ]
  },
  {
   "cell_type": "markdown",
   "metadata": {},
   "source": [
    "### Capa Dropout con p=1"
   ]
  },
  {
   "cell_type": "code",
   "execution_count": null,
   "metadata": {},
   "outputs": [],
   "source": [
    "print(\"tensor: \", X)\n",
    "print('dropout_p = 1:', dropout_layer(X, 1))\n"
   ]
  },
  {
   "cell_type": "markdown",
   "metadata": {},
   "source": [
    "### Implementación de capa Dropout con Pytorch"
   ]
  },
  {
   "cell_type": "markdown",
   "metadata": {},
   "source": [
    "### Capa Dropout con p=0.25"
   ]
  },
  {
   "cell_type": "code",
   "execution_count": null,
   "metadata": {},
   "outputs": [],
   "source": [
    "import torch.nn as nn\n",
    "# Definir una capa de Dropout con 50% de probabilidad de apagar neuronas\n",
    "X = torch.arange(16, dtype = torch.float32).reshape((2, 8)) \n",
    "dropout = nn.Dropout(p=0.25)\n",
    "output = dropout(X)\n",
    "print(\"tensor: \", X)\n",
    "print(output)"
   ]
  },
  {
   "cell_type": "markdown",
   "metadata": {},
   "source": [
    "### Capa Dropout con p=0.5"
   ]
  },
  {
   "cell_type": "code",
   "execution_count": null,
   "metadata": {},
   "outputs": [],
   "source": [
    "import torch.nn as nn\n",
    "# Definir una capa de Dropout con 50% de probabilidad de apagar neuronas\n",
    "X = torch.arange(16, dtype = torch.float32).reshape((2, 8)) \n",
    "dropout = nn.Dropout(p=0.5)\n",
    "output = dropout(X)\n",
    "print(\"tensor: \", X)\n",
    "print(output)"
   ]
  },
  {
   "cell_type": "markdown",
   "metadata": {},
   "source": [
    "### Ejemplo en una red neuronal con 2 capas de dropout con diferentes probabilidades"
   ]
  },
  {
   "cell_type": "code",
   "execution_count": null,
   "metadata": {},
   "outputs": [],
   "source": [
    "import torch\n",
    "import torch.nn as nn\n",
    "\n",
    "class NeuralNet(nn.Module):\n",
    "    def __init__(self):\n",
    "        super().__init__()\n",
    "        self.fc1 = nn.Linear(784, 256)  # Capa completamente conectada\n",
    "        self.dropout1 = nn.Dropout(p=0.5)  # Apagar 50% de las neuronas\n",
    "        self.fc2 = nn.Linear(256, 10)\n",
    "        self.dropout2 = nn.Dropout(p=0.2)  # Apagar 20% de las neuronas\n",
    "        self.output = nn.Linear(10, 3)\n",
    "        self.act1 = nn.ReLU()\n",
    "        self.act2 = nn.ReLU()\n",
    "\n",
    "    def forward(self, x):\n",
    "        x = self.fc1(x)\n",
    "        x = self.act1(x)\n",
    "        x = self.dropout1(x)  # Aplicar Dropout1\n",
    "        x = self.fc2(x)\n",
    "        x = self.act2(x)\n",
    "        x = self.dropout2(x)  # Aplicar Dropout2\n",
    "        x = self.output(x)\n",
    "        return x\n",
    "    "
   ]
  },
  {
   "cell_type": "markdown",
   "metadata": {},
   "source": [
    "### Propagación hacia adelante de la red (forward pass)"
   ]
  },
  {
   "cell_type": "code",
   "execution_count": null,
   "metadata": {},
   "outputs": [],
   "source": [
    "input_size = 784\n",
    "batch_size = 3\n",
    "input_tensor = torch.rand(batch_size, input_size)\n",
    "model = NeuralNet()\n",
    "y_pred = model(input_tensor)\n",
    "print(y_pred)"
   ]
  },
  {
   "cell_type": "markdown",
   "metadata": {},
   "source": [
    "# Ejercicios"
   ]
  },
  {
   "cell_type": "markdown",
   "metadata": {},
   "source": [
    "# Ejercicio 1 \n",
    "- ## Para la arquitectura de red sobre el conjunto de datos de agresividad y representación con word embeddings: \n",
    "    ### 1. Aplicar una capa de dropout (50%) a la primer capa oculta\n",
    "    ### 2. Evaluar el desempeño "
   ]
  },
  {
   "cell_type": "markdown",
   "metadata": {},
   "source": [
    "# Ejercicio 2\n",
    "- ## Para la arquitectura de red sobre el conjunto de datos de agresividad y representación con word embeddings: \n",
    "    ### 1. Aplicar una capa de dropout a cada una de las capas ocultas. Recordar que los valores recomendables para p de la capa dropout están entre 0.2 y 0.5\n",
    "    ### 2. Evaluar el desempeño "
   ]
  },
  {
   "cell_type": "markdown",
   "metadata": {},
   "source": [
    "# Ejercicio 3\n",
    "\n",
    "- ## Para la arquitectura de red sobre el conjunto de datos de agresividad y representación con word embeddings: \n",
    "\n",
    "    ### 1. Aplicar una capa de dropout al tensor  de datos de entrada.  Recordar que los valores recomendables para p de la capa dropout están entre 0.2 y 0.5\n",
    "    ### 2. Aplicar una capa de dropout a cada una de las capas ocultas.  Recordar que los valores recomendables para p de la capa dropout están entre 0.2 y 0.5\n",
    "    ### 3. Evaluar el desempeño "
   ]
  },
  {
   "cell_type": "code",
   "execution_count": null,
   "metadata": {},
   "outputs": [],
   "source": []
  }
 ],
 "metadata": {
  "kernelspec": {
   "display_name": "PT",
   "language": "python",
   "name": "python3"
  },
  "language_info": {
   "codemirror_mode": {
    "name": "ipython",
    "version": 3
   },
   "file_extension": ".py",
   "mimetype": "text/x-python",
   "name": "python",
   "nbconvert_exporter": "python",
   "pygments_lexer": "ipython3",
   "version": "3.12.3"
  }
 },
 "nbformat": 4,
 "nbformat_minor": 2
}
