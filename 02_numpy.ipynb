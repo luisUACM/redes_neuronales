{
 "cells": [
  {
   "cell_type": "markdown",
   "metadata": {},
   "source": [
    "![image](figs/fig-numpy.png)\n",
    "# Introducción a NumPy\n"
   ]
  },
  {
   "cell_type": "markdown",
   "metadata": {},
   "source": [
    "\n",
    "### - NumPy es una de las bibliotecas fundamentales en el ecosistema de Python para la ciencia de datos y la computación numérica. \n",
    "\n",
    "### - Proporciona soporte para arreglos multidimensionales y funciones matemáticas avanzadas.\n",
    "### - La convierte en una herramienta esencial para el análisis de datos\n"
   ]
  },
  {
   "cell_type": "code",
   "execution_count": null,
   "metadata": {},
   "outputs": [],
   "source": []
  },
  {
   "cell_type": "markdown",
   "metadata": {},
   "source": [
    "\n",
    "## ¿Qué es NumPy?\n",
    "\n",
    "### NumPy (Numerical Python) es una biblioteca de Python que ofrece:\n",
    "\n",
    "###  - **Arreglos multidimensionales:** Estructuras de datos eficientes para almacenar y manipular grandes conjuntos de datos numéricos.\n",
    "\n",
    "### - **Funciones matemáticas avanzadas:** Operaciones matemáticas y estadísticas que funcionan de manera eficiente en arreglos completos.\n",
    "\n",
    "### - **Operaciones vectorizadas:** Cálculos rápidos sin necesidad de bucles explícitos, gracias a la implementación en C.\n",
    "\n",
    "# Contenido del Tutorial\n",
    "\n",
    "###  1. **Instalación de NumPy**\n",
    "  #### - Cómo instalar NumPy usando `pip` o `conda`.\n",
    "\n",
    "### 2. **Conceptos Básicos de Arreglos**\n",
    "   #### - Creación de arreglos con `np.array()`.\n",
    "   #### - Indexación y segmentación de arreglos.\n",
    "   #### - Tipos de datos y conversiones entre tipos.\n",
    "\n",
    "### 3. **Operaciones Matemáticas y Estadísticas**\n",
    "   #### - Operaciones aritméticas básicas: suma, resta, multiplicación y división.\n",
    "   #### - Funciones estadísticas: media, mediana, desviación estándar.\n",
    "\n",
    "### 4. **Manipulación de Arreglos**\n",
    "   #### - Cambio de forma con `reshape()`.\n",
    "   #### - Transposición y otras operaciones de reordenamiento.\n",
    "   #### - Combinación y división de arreglos.\n",
    "\n",
    "5. **Operaciones Avanzadas**\n",
    "   #### - Uso de funciones de álgebra lineal: productos matriciales, determinantes y valores singulares."
   ]
  },
  {
   "cell_type": "markdown",
   "metadata": {},
   "source": [
    "# 1. Instalación de NumPy"
   ]
  },
  {
   "cell_type": "markdown",
   "metadata": {},
   "source": [
    "### - El único requisito previo para instalar NumPy es Python.\n",
    "\n",
    "###  - NumPy se puede instalar con conda, con pip, con un gestor de paquetes en macOS y Linux, o desde el código fuente."
   ]
  },
  {
   "cell_type": "markdown",
   "metadata": {},
   "source": [
    "### 1.1  Crear con conda el ambiente virtual incluyendo  python [El nombre del ambiente es \"PT\" (Pytorch)]\n",
    "\n",
    "```bash\n",
    "conda create -n PT python\n",
    "```\n",
    "\n",
    "### Activar el ambiente \n",
    "\n",
    "```bash\n",
    "conda activate PT\n",
    "```\n",
    "\n",
    "### Desactivar el ambiente\n",
    "\n",
    "```bash\n",
    "conda deactivate\n",
    "```\n"
   ]
  },
  {
   "cell_type": "markdown",
   "metadata": {},
   "source": [
    "### 1.2  Instalar NumPy\n",
    "\n",
    "### Usando el administrador de paquetes CONDA\n",
    "\n",
    "```bash\n",
    "conda install numpy\n",
    "\n",
    "```\n",
    "\n",
    "### Usando el administrador de paquetes PIP\n",
    "\n",
    "```bash\n",
    "pip install numpy\n",
    "```\n"
   ]
  },
  {
   "cell_type": "markdown",
   "metadata": {},
   "source": [
    "## 2. Conceptos básicos de NumPy\n",
    "\n",
    "### ¿Qué es una \"matriz\"?\n",
    "\n",
    "#### - En programación, una matriz es una estructura para almacenar y recuperar datos. \n",
    "\n",
    "#### - A menudo hablamos de una matriz como si fuera una cuadrícula en el espacio, con cada celda almacenando un elemento de los datos. \n",
    "\n",
    "#### - Por ejemplo, si cada elemento de los datos fuera un número, podríamos visualizar una matriz “unidimensional” como una lista:\n",
    "\n",
    "\n",
    "![image](./figs/fig-np-1d.png)\n",
    "\n",
    "\n",
    "#### Una matriz bidimensional sería como una tabla:\n",
    "\n",
    "![image](./figs/fig-np-2d.png)\n",
    "\n",
    "#### - Una matriz tridimensional sería como un conjunto de tablas, tal vez apiladas como si estuvieran impresas en páginas separadas. \n",
    "\n",
    "#### - En NumPy, esta idea se generaliza a una cantidad arbitraria de dimensiones, la clase de matriz fundamental se llama ndarray: representa una \"matriz N-dimensional\".\n",
    "\n",
    "#### - La mayoría de las matrices de NumPy tienen algunas restricciones. Por ejemplo:\n",
    "\n",
    "   ####  + Todos los elementos de la matriz deben ser del mismo tipo de datos.\n",
    "\n",
    "   ####  + Una vez creada, el tamaño total de la matriz no puede cambiar.\n",
    "\n",
    "   ####  + La forma debe ser \"rectangular\", no \"irregular\"; Por ejemplo, cada fila de una matriz bidimensional debe tener la misma cantidad de columnas.\n",
    "\n",
    "   ####  +  Cuando se cumplen estas condiciones, NumPy aprovecha estas características para hacer que la matriz sea más rápida, más eficiente en el uso de la memoria y más cómoda de usar que las estructuras de datos menos restrictivas.\n",
    "\n",
    "#### En este contexto, se tilizaremos la palabra \"matriz\" para referirnos a una instancia de ndarray."
   ]
  },
  {
   "cell_type": "markdown",
   "metadata": {},
   "source": [
    "## 2.1 Fundamentos de las matrices\n",
    "#### Fundamentos de las matrices\n",
    "\n",
    "\n",
    "#### Una forma de inicializar una matriz es mediante una secuencia de Python, como una lista\n",
    "\n",
    "\n",
    "#### Para empezar a utilizar el paquete se debe importar el paquete NumPy, es común usar el alias $np$\n",
    "\n",
    "```python\n",
    "import numpy as np\n",
    "```\n"
   ]
  },
  {
   "cell_type": "code",
   "execution_count": null,
   "metadata": {},
   "outputs": [],
   "source": [
    "import numpy as np\n",
    "\n",
    "#Creación de un array de NumPy a partir de una lista proporcionada\n",
    "\n",
    "a = np.array([1, 2, 3, 4, 5, 6])\n",
    "print(a)"
   ]
  },
  {
   "cell_type": "markdown",
   "metadata": {},
   "source": [
    "#### Acceso a los elementos\n",
    "\n",
    "-  Se puede acceder a los elementos de una matriz de varias maneras.\n",
    "\n",
    "-  Por ejemplo, podemos acceder a un elemento individual de esta matriz como lo haríamos con un elemento de la lista original: utilizando el índice entero del elemento entre corchetes.\n",
    "- Se indexan desde la posición 0, similar a las listas de Python."
   ]
  },
  {
   "cell_type": "code",
   "execution_count": null,
   "metadata": {},
   "outputs": [],
   "source": [
    "# Extraer el valor del array en la posicón 0\n",
    "print(f\"a[0] = {a[0]}\")\n",
    "\n",
    "# Asignar el valor del array en la posicón 2\n",
    "a[2] = 10\n",
    "\n",
    "print(\"a[2] = {}\".format(a[2]))\n",
    "\n",
    "print(a)"
   ]
  },
  {
   "cell_type": "code",
   "execution_count": null,
   "metadata": {},
   "outputs": [],
   "source": [
    "# Slices (Rebanadas de datos)\n",
    "\n",
    "print(a[:3])\n",
    "\n",
    "print(a[2:])\n"
   ]
  },
  {
   "cell_type": "markdown",
   "metadata": {},
   "source": [
    "### Diferencia con slices\n",
    "- Una diferencia importante es que la indexación de una lista mediante \"slices\"  copia los elementos en una nueva lista, pero la segmentación de una matriz devuelve una vista.\n",
    "\n",
    "- La vista es un objeto que hace referencia a los datos de la matriz original. \n",
    "- La matriz original se puede modificar mediante la vista."
   ]
  },
  {
   "cell_type": "code",
   "execution_count": null,
   "metadata": {},
   "outputs": [],
   "source": [
    "# Se obtiene una slice de a, extrae los elementos de \"a\" a partir del índice 3 \n",
    "# a =[ 1  2 10  4  5  6]\n",
    "\n",
    "b = a[3:]\n",
    "\n",
    "print(b)\n",
    "\n",
    "# Se modifica la vista b (apunta a la dirección de memoria a)\n",
    "b[0] = 40\n",
    "\n",
    "# se imprime a que fue modificado a través de la vista b\n",
    "print(a)"
   ]
  },
  {
   "cell_type": "markdown",
   "metadata": {},
   "source": [
    "### Matrices de bidimensionales y de dimensiones superiores\n",
    "\n",
    "- Se pueden inicializar matrices bidimensionales y de dimensiones superiores a partir de secuencias anidadas de Python.\n",
    "\n",
    "- En NumPy, a la dimensión de una matriz se la denomina a veces “eje”. \n",
    "\n",
    "- Esta terminología puede resultar útil para distinguir entre la dimensionalidad de una matriz y la dimensionalidad de los datos representados por la matriz.\n",
    "\n",
    "- Por ejemplo, la matriz \"A\"  podría representar tres puntos, cada uno de ellos dentro de un espacio de cuatro dimensiones, pero A tiene solo dos “ejes”.\n",
    "\n",
    "- Otra diferencia entre una matriz y una lista de listas es que se puede acceder a un elemento de la matriz especificando el índice a lo largo de cada eje dentro de un único conjunto de corchetes, separados por comas. Por ejemplo, el elemento 8 está en la fila 1 y la columna 3: A[1,3]"
   ]
  },
  {
   "cell_type": "code",
   "execution_count": null,
   "metadata": {},
   "outputs": [],
   "source": [
    "A = np.array([[1, 2, 3, 4], \n",
    "              [5, 6, 7, 8], \n",
    "              [9, 10, 11, 12]])\n",
    "print(A)"
   ]
  },
  {
   "cell_type": "code",
   "execution_count": null,
   "metadata": {},
   "outputs": [],
   "source": [
    "# Acceso a la matriz dentro del mismo corchete\n",
    "print(A[1,3])\n",
    "\n",
    "# De manera haitual en Python\n",
    "print(A[1][3])\n"
   ]
  },
  {
   "cell_type": "markdown",
   "metadata": {},
   "source": [
    "### 2.1.1  Attributos de Array\n",
    "\n",
    "### ndim\n",
    "- El número de dimensiones de una matriz está contenido en el atributo ndim."
   ]
  },
  {
   "cell_type": "code",
   "execution_count": null,
   "metadata": {},
   "outputs": [],
   "source": [
    "print(A.ndim)"
   ]
  },
  {
   "cell_type": "markdown",
   "metadata": {},
   "source": [
    "\n",
    "### shape\n",
    "- La forma de una matriz es una tupla de números enteros no negativos que especifican la cantidad de elementos a lo largo de cada dimensión."
   ]
  },
  {
   "cell_type": "code",
   "execution_count": null,
   "metadata": {},
   "outputs": [],
   "source": [
    "print(A.shape)\n",
    "# matriz de 3 x 4 (renglones x columnas)"
   ]
  },
  {
   "cell_type": "markdown",
   "metadata": {},
   "source": [
    "\n",
    "### size\n",
    "El número total fijo de elementos de la matriz está contenido en el atributo de tamaño."
   ]
  },
  {
   "cell_type": "code",
   "execution_count": null,
   "metadata": {},
   "outputs": [],
   "source": [
    "print(A.size)\n",
    "# matriz de 3 x 4 (12 elementos)"
   ]
  },
  {
   "cell_type": "markdown",
   "metadata": {},
   "source": [
    "\n",
    "### dtype\n",
    "Las matrices suelen ser \"homogéneas\", lo que significa que contienen elementos de un solo \"tipo de datos\". El tipo de datos se registra en el atributo dtype."
   ]
  },
  {
   "cell_type": "code",
   "execution_count": null,
   "metadata": {},
   "outputs": [],
   "source": [
    "print(A.dtype)\n",
    "\n",
    "# para especificar el tamaño del tipo de dato en la creación del array, float de 64 bits\n",
    "B = np.array([[1, 2, 3, 4], \n",
    "              [5, 6, 7, 8], \n",
    "              [9, 10, 11, 12]], dtype=np.float64)\n",
    "print(B.dtype)              "
   ]
  },
  {
   "cell_type": "markdown",
   "metadata": {},
   "source": [
    "\n",
    "### 2.1.2 Tipos de datos y conversión"
   ]
  },
  {
   "cell_type": "code",
   "execution_count": null,
   "metadata": {},
   "outputs": [],
   "source": [
    "import numpy as np\n",
    "\n",
    "# Crear arreglos con diferentes tipos de datos\n",
    "\n",
    "arr_int = np.array([1, 2, 3, 4], dtype=np.int32)  # Arreglo de enteros 32 bits\n",
    "arr_float = np.array([1.1, 2.0, 3.0, 4.0], dtype=np.float64)  # Arreglo de flotantes 64 bits\n",
    "arr_str = np.array(['A', '2', '3', '4'], dtype=np.str_)  # Arreglo de cadenas unicode\n",
    "\n",
    "print(\"Arreglo de enteros:\")\n",
    "print(arr_int)\n",
    "print(\"Tipo de dato:\", arr_int.dtype)\n",
    "\n",
    "print(\"\\nArreglo de flotantes:\")\n",
    "print(arr_float)\n",
    "print(\"Tipo de dato:\", arr_float.dtype)\n",
    "\n",
    "print(\"\\nArreglo de cadenas:\")\n",
    "print(arr_str)\n",
    "print(\"Tipo de dato:\", arr_str.dtype)\n",
    "            "
   ]
  },
  {
   "cell_type": "code",
   "execution_count": null,
   "metadata": {},
   "outputs": [],
   "source": [
    "\n",
    "# Conversión de tipos de datos\n",
    "arr_int_to_float = arr_int.astype(np.float64)  # Convertir enteros a flotantes\n",
    "arr_float_to_int = arr_float.astype(np.int32)  # Convertir flotantes a enteros\n",
    "\n",
    "print(\"\\nArreglo de enteros convertido a flotantes:\")\n",
    "print(arr_int_to_float)\n",
    "print(\"Tipo de dato:\", arr_int_to_float.dtype)\n",
    "\n",
    "print(\"\\nArreglo de flotantes convertido a enteros:\")\n",
    "print(arr_float_to_int)\n",
    "print(\"Tipo de dato:\", arr_float_to_int.dtype)\n"
   ]
  },
  {
   "cell_type": "markdown",
   "metadata": {},
   "source": [
    "## Otros métodos útiles\n",
    "\n",
    "- Un objeto ndarray tiene muchos métodos que operan sobre la matriz o con ella de alguna manera, y que normalmente devuelven un resultado de matriz.\n",
    "\n",
    "-  Estos métodos se explican brevemente a continuación. (para ver los detalles visitar la documentación de numpy [ver numpy.org](https://numpy.org/doc/stable/reference/arrays.ndarray.html#arrays-ndarray)).\n",
    "\n",
    "| Método                | Descripción                                                       |\n",
    "|-----------------------|-------------------------------------------------------------------|\n",
    "| `numpy.zeros()`       | Crea un arreglo lleno de ceros con la forma especificada.         |\n",
    "| `numpy.ones()`        | Crea un arreglo lleno de unos con la forma especificada.          |\n",
    "| `numpy.empty()`       | Crea un arreglo sin inicializar con la forma especificada.        |\n",
    "| `numpy.arange()`      | Crea un arreglo con valores igualmente espaciados en un rango especificado. |\n",
    "| `numpy.linspace()`    | Crea un arreglo con un número específico de valores igualmente espaciados en un intervalo. |\n",
    "| `numpy.reshape()`     | Cambia la forma de un arreglo sin cambiar sus datos.              |\n",
    "| `numpy.flatten()`     | Devuelve una copia aplanada del arreglo en una dimensión.         |\n",
    "| `numpy.transpose()`   | Devuelve el transpuesto del arreglo.                              |\n",
    "| `numpy.sum()`         | Devuelve la suma de todos los elementos del arreglo o a lo largo de un eje especificado. |\n",
    "| `numpy.mean()`        | Devuelve la media de los elementos del arreglo.                   |\n",
    "| `numpy.std()`         | Devuelve la desviación estándar de los elementos del arreglo.     |\n",
    "| `numpy.min()`         | Devuelve el valor mínimo de los elementos del arreglo.            |\n",
    "| `numpy.max()`         | Devuelve el valor máximo de los elementos del arreglo.            |\n",
    "| `numpy.argmin()`      | Devuelve el índice del valor mínimo en el arreglo.                |\n",
    "| `numpy.argmax()`      | Devuelve el índice del valor máximo en el arreglo.                |\n",
    "| `numpy.sort()`        | Devuelve una copia ordenada del arreglo.                          |\n",
    "| `numpy.unique()`      | Devuelve los elementos únicos del arreglo.                        |\n"
   ]
  },
  {
   "cell_type": "markdown",
   "metadata": {},
   "source": [
    "### Ejemplos "
   ]
  },
  {
   "cell_type": "markdown",
   "metadata": {},
   "source": [
    "### np.ones"
   ]
  },
  {
   "cell_type": "code",
   "execution_count": null,
   "metadata": {},
   "outputs": [],
   "source": [
    "#Creacion de matriz inicializada con 1s\n",
    "np.ones((3,5))"
   ]
  },
  {
   "cell_type": "markdown",
   "metadata": {},
   "source": [
    "### np.zeros"
   ]
  },
  {
   "cell_type": "code",
   "execution_count": null,
   "metadata": {},
   "outputs": [],
   "source": [
    "#Creacion de matriz inicializada con 0s\n",
    "np.zeros((3,5))"
   ]
  },
  {
   "cell_type": "markdown",
   "metadata": {},
   "source": [
    "### np.eye"
   ]
  },
  {
   "cell_type": "code",
   "execution_count": null,
   "metadata": {},
   "outputs": [],
   "source": [
    "#Creacion de matriz cuadrada con 1s en la diagonal\n",
    "\n",
    "np.eye(5)"
   ]
  },
  {
   "cell_type": "markdown",
   "metadata": {},
   "source": [
    "### np.arange"
   ]
  },
  {
   "cell_type": "code",
   "execution_count": null,
   "metadata": {},
   "outputs": [],
   "source": [
    "# arange: crea un arreglo igualmente espaciado (inicio, parada, paso)\n",
    "print(np.arange(0,15, 1))\n",
    "\n",
    "print(np.arange(-10,10 + 1, 2))\n"
   ]
  },
  {
   "cell_type": "markdown",
   "metadata": {},
   "source": [
    "### np.random.rand"
   ]
  },
  {
   "cell_type": "code",
   "execution_count": null,
   "metadata": {},
   "outputs": [],
   "source": [
    "# randn: crera una muestra (muestras) de acuerdo a una distribución uniforme sobre  [0,1)\n",
    "# crea una matriz de 3x4\n",
    "a = np.random.rand(3,4)\n",
    "\n",
    "print(a)\n",
    "\n"
   ]
  },
  {
   "cell_type": "markdown",
   "metadata": {},
   "source": [
    "### np.random.randn"
   ]
  },
  {
   "cell_type": "code",
   "execution_count": null,
   "metadata": {},
   "outputs": [],
   "source": [
    "# randn: crera una muestra (muestras) de acuerdo a la distribución estándar normal, media=0, varianza=1\n",
    "# crea una matriz de 3x4\n",
    "a = np.random.randn(3,4)\n",
    "\n",
    "print(a)\n",
    "\n"
   ]
  },
  {
   "cell_type": "markdown",
   "metadata": {},
   "source": [
    "### np.random.normal"
   ]
  },
  {
   "cell_type": "code",
   "execution_count": null,
   "metadata": {},
   "outputs": [],
   "source": [
    "# normal: Extraer muestras aleatorias de una distribución normal (gaussiana).\n",
    "# crea una matriz de 3x4\n",
    "mu, sigma = 0, 0.1 # media y desviación estándard\n",
    "s = np.random.normal(mu, sigma, 10)\n",
    "print(s)\n",
    "\n"
   ]
  },
  {
   "cell_type": "code",
   "execution_count": null,
   "metadata": {},
   "outputs": [],
   "source": []
  },
  {
   "cell_type": "markdown",
   "metadata": {},
   "source": [
    "### np.random.randint"
   ]
  },
  {
   "cell_type": "code",
   "execution_count": null,
   "metadata": {},
   "outputs": [],
   "source": [
    "import numpy as np\n",
    "# randintn: Devuelve números enteros aleatorios desde un número inicial  (inclusive) hasta un valor final (exclusivo) de una distribución uniforme discreta.\n",
    "#  np.random.randint(inicial, final, size=xxx)\n",
    "\n",
    "a = np.random.randint(-10,10)\n",
    "print(a)\n",
    "\n",
    "# Devuelve un número entre 1 y 10 \n",
    "a = np.random.randint(1,10)\n",
    "print(a)\n",
    "\n",
    "# Devuelve un vector número entre 1 y 20 \n",
    "a = np.random.randint(1,20, size=10)\n",
    "print(a)\n",
    "\n",
    "# Crea una matriz de 3x4\n",
    "a = np.random.randint(1,10, (3,4))\n",
    "print(a)\n"
   ]
  },
  {
   "cell_type": "markdown",
   "metadata": {},
   "source": [
    "### np.linspace"
   ]
  },
  {
   "cell_type": "code",
   "execution_count": 3,
   "metadata": {},
   "outputs": [
    {
     "name": "stdout",
     "output_type": "stream",
     "text": [
      "[ 0.          0.34482759  0.68965517  1.03448276  1.37931034  1.72413793\n",
      "  2.06896552  2.4137931   2.75862069  3.10344828  3.44827586  3.79310345\n",
      "  4.13793103  4.48275862  4.82758621  5.17241379  5.51724138  5.86206897\n",
      "  6.20689655  6.55172414  6.89655172  7.24137931  7.5862069   7.93103448\n",
      "  8.27586207  8.62068966  8.96551724  9.31034483  9.65517241 10.        ]\n"
     ]
    }
   ],
   "source": [
    "# linspace: Devuelve el número de muestras espaciadas uniformemente, calculadas sobre el intervalo [inicio, fin] dependiendo del valor endpoint=True (default) incluye al valor \"fin\".\n",
    "# \n",
    "import numpy as np\n",
    "x = np.linspace(0, 10, 30)  # 30 puntos entre 0 y 10\n",
    "print(x)\n"
   ]
  },
  {
   "cell_type": "markdown",
   "metadata": {},
   "source": [
    "### np.ones_like"
   ]
  },
  {
   "cell_type": "code",
   "execution_count": null,
   "metadata": {},
   "outputs": [],
   "source": [
    "# ones_like: Devuelve una matriz de unos con la misma forma y tipo que una matriz dada.\n",
    "\n",
    "# Crea una matriz de 3x4\n",
    "y = np.random.normal(mu, sigma, (3,4))\n",
    "print(y)\n",
    "b = np.ones_like(y)\n",
    "print(b)\n"
   ]
  },
  {
   "cell_type": "code",
   "execution_count": null,
   "metadata": {},
   "outputs": [],
   "source": []
  },
  {
   "cell_type": "markdown",
   "metadata": {},
   "source": [
    "### np.reshape"
   ]
  },
  {
   "cell_type": "code",
   "execution_count": null,
   "metadata": {},
   "outputs": [],
   "source": [
    "# Cambia la forma de un arreglo sin cambiar sus datos\n",
    "\n",
    "A = np.arange(0,15)\n",
    "print(\"A =\",  A)\n",
    "print(A.shape)\n",
    "\n",
    "A = A.reshape(3,5)\n",
    "print(\"forma nueva A = \")\n",
    "print(A)\n",
    "print(A.shape)\n"
   ]
  },
  {
   "cell_type": "markdown",
   "metadata": {},
   "source": [
    "### np.full"
   ]
  },
  {
   "cell_type": "code",
   "execution_count": null,
   "metadata": {},
   "outputs": [],
   "source": [
    "# Crea un matriz con valores inicializados a un valor específico ( matriz, valor)\n",
    "\n",
    "np.full((3, 4), 8)\n"
   ]
  },
  {
   "cell_type": "markdown",
   "metadata": {},
   "source": [
    "### np.insert"
   ]
  },
  {
   "cell_type": "code",
   "execution_count": null,
   "metadata": {},
   "outputs": [],
   "source": [
    "# Insertar valores a lo largo del eje dado antes de los índices dados.\n",
    "\n",
    "a = np.array([1, 2, 3, 4])\n",
    "print(np.insert(a, 1, 5))\n",
    "\n",
    "print(np.insert(a, 1, [5, 6, 7, 8]))\n"
   ]
  },
  {
   "cell_type": "markdown",
   "metadata": {},
   "source": [
    "### np.flatten"
   ]
  },
  {
   "cell_type": "code",
   "execution_count": null,
   "metadata": {},
   "outputs": [],
   "source": [
    "# Devuelve una copia de la matriz colapsada en una dimensión.\n",
    "\n",
    "a = np.array([[1, 1], [2, 2], [3, 3]])\n",
    "print(a.flatten())\n"
   ]
  },
  {
   "cell_type": "markdown",
   "metadata": {},
   "source": [
    "### Ejemplo de graficación con matplotlib\n",
    "#### plot: se utiliza comúnmente para crear gráficos de líneas que conectan puntos de datos, lo que es ideal para mostrar cómo cambian los datos en relación con otra variable, como el tiempo."
   ]
  },
  {
   "cell_type": "code",
   "execution_count": 1,
   "metadata": {},
   "outputs": [
    {
     "name": "stdout",
     "output_type": "stream",
     "text": [
      "Intel MKL WARNING: Support of Intel(R) Streaming SIMD Extensions 4.2 (Intel(R) SSE4.2) enabled only processors has been deprecated. Intel oneAPI Math Kernel Library 2025.0 will require Intel(R) Advanced Vector Extensions (Intel(R) AVX) instructions.\n",
      "Intel MKL WARNING: Support of Intel(R) Streaming SIMD Extensions 4.2 (Intel(R) SSE4.2) enabled only processors has been deprecated. Intel oneAPI Math Kernel Library 2025.0 will require Intel(R) Advanced Vector Extensions (Intel(R) AVX) instructions.\n"
     ]
    },
    {
     "data": {
      "image/png": "[encoded data removed]",
      "text/plain": [
       "<Figure size 1000x600 with 1 Axes>"
      ]
     },
     "metadata": {},
     "output_type": "display_data"
    }
   ],
   "source": [
    "import matplotlib.pyplot as plt\n",
    "import numpy as np\n",
    "\n",
    "# Datos para el gráfico\n",
    "x = np.linspace(0, 10, 100)  # 100 puntos entre 0 y 10\n",
    "y1 = np.sin(x)               # Función seno\n",
    "y2 = np.cos(x)               # Función coseno\n",
    "\n",
    "# Crear una nueva figura\n",
    "plt.figure(figsize=(10, 6))\n",
    "\n",
    "# Graficar la función seno\n",
    "# datos tabulares para el eje x =x; eje y = y1\n",
    "\n",
    "plt.plot(x, y1, label='Seno', color='blue', linestyle='-', linewidth=2)\n",
    "\n",
    "# Graficar la función coseno\n",
    "\n",
    "plt.plot(x, y2, label='Coseno', color='red', linestyle='--', linewidth=2)\n",
    "\n",
    "# Añadir título y etiquetas\n",
    "plt.title('Funciones Seno y Coseno')\n",
    "plt.xlabel('Eje X')\n",
    "plt.ylabel('Eje Y')\n",
    "\n",
    "# Añadir una leyenda\n",
    "plt.legend()\n",
    "\n",
    "# Mostrar el gráfico\n",
    "plt.grid(True)\n",
    "plt.show()"
   ]
  },
  {
   "cell_type": "markdown",
   "metadata": {},
   "source": [
    "### Ejemplo. Gráfico de barras\n",
    "#### la función \"bar\" se utiliza para crear gráficos de barras. Los gráficos de barras son útiles para visualizar datos categóricos o discretos, permitiendo comparar fácilmente diferentes categorías en términos de una variable cuantitativa."
   ]
  },
  {
   "cell_type": "code",
   "execution_count": 2,
   "metadata": {},
   "outputs": [
    {
     "data": {
      "image/png": "[encoded data removed]",
      "text/plain": [
       "<Figure size 1000x600 with 1 Axes>"
      ]
     },
     "metadata": {},
     "output_type": "display_data"
    }
   ],
   "source": [
    "import matplotlib.pyplot as plt\n",
    "\n",
    "\n",
    "# Datos de ejemplo\n",
    "materias = ['Matemáticas', 'Ciencia', 'Historia', 'Lengua', 'Arte']\n",
    "calificaciones = [85, 90, 78, 88, 95]\n",
    "\n",
    "# Crear el gráfico de barras\n",
    "plt.figure(figsize=(10, 6))\n",
    "plt.bar(materias, calificaciones, color='skyblue', edgecolor='black')\n",
    "\n",
    "# Añadir título y etiquetas\n",
    "plt.title('Calificaciones del Estudiante')\n",
    "plt.xlabel('Materias')\n",
    "plt.ylabel('Calificaciones')\n",
    "\n",
    "# Mostrar el gráfico\n",
    "plt.grid(axis='y', linestyle='--', alpha=0.7)\n",
    "plt.show()\n"
   ]
  },
  {
   "cell_type": "code",
   "execution_count": 3,
   "metadata": {},
   "outputs": [
    {
     "data": {
      "image/png": "[encoded data removed]",
      "text/plain": [
       "<Figure size 640x480 with 1 Axes>"
      ]
     },
     "metadata": {},
     "output_type": "display_data"
    }
   ],
   "source": [
    "import matplotlib.pyplot as plt\n",
    "import numpy as np\n",
    "\n",
    "# Generar arreglo\n",
    "arreglo = np.random.randn(1000)\n",
    "\n",
    "# Crear histograma  bins= tamaño del espaciado delos datos\n",
    "plt.hist(arreglo, bins=50, edgecolor='black')\n",
    "plt.title(\"Histograma de datos generados con randn\")\n",
    "plt.xlabel(\"Valor\")\n",
    "plt.ylabel(\"Frecuencia\")\n",
    "plt.show()"
   ]
  },
  {
   "cell_type": "markdown",
   "metadata": {},
   "source": [
    "### Ejercicios\n",
    "\n",
    "1. **Crear Matrices**:\n",
    "   - Crea una matriz $ 3 \\times 3 $ con valores enteros del 1 al 9.\n",
    "   - Crea una matriz diagonal de $ 4 \\times 4 $ con valores 1 en la diagonal principal y 0 en el resto.\n",
    "\n",
    "2. **Extraer Submatrices y Cambiar Forma**: \n",
    "   - Extrae una submatriz de $ 2 \\times 2 $ de una matriz $ 4 \\times 4 $.\n",
    "   - Cambia la forma de una matriz $ 6 \\times 2 $ a una matriz $ 3 \\times 4 $.\n",
    "\n",
    "\n",
    "3. **Graficación con matplorlib**: \n",
    "   - Crear un conjunto de datos para la función $ f(x) =  x^2 + 3 $\n",
    "   - Graficar los datos\n"
   ]
  },
  {
   "cell_type": "code",
   "execution_count": null,
   "metadata": {},
   "outputs": [],
   "source": []
  },
  {
   "cell_type": "markdown",
   "metadata": {},
   "source": [
    "##  3. **Operaciones Matemáticas y Estadísticas**"
   ]
  },
  {
   "cell_type": "code",
   "execution_count": null,
   "metadata": {},
   "outputs": [],
   "source": [
    "import numpy as np\n",
    "\n",
    "# Crear arreglos\n",
    "A = np.array([1, 2, 3, 4])\n",
    "B = np.array([5, 6, 7, 8])\n",
    "\n",
    "\n",
    "# Operaciones elementales\n",
    "print(\"Arreglo  A:\", A)\n",
    "print(\"Arreglo B:\", B)\n",
    "\n",
    "# Suma y resta\n",
    "suma = A + B\n",
    "resta = A - B\n",
    "\n",
    "print(\"\\nSuma de A+B:\")\n",
    "print(suma)\n",
    "\n",
    "print(\"\\nResta de A-B :\")\n",
    "print(resta)\n"
   ]
  },
  {
   "cell_type": "code",
   "execution_count": null,
   "metadata": {},
   "outputs": [],
   "source": [
    "\n",
    "# Multiplicación y división (elemento a elemento)\n",
    "\n",
    "multiplicacion = A * B\n",
    "division = A / B\n",
    "\n",
    "print(\"\\nMultiplicación de arreglos:\")\n",
    "print(multiplicacion)\n",
    "\n",
    "print(\"\\nDivisión de arreglos:\")\n",
    "print(division)\n"
   ]
  },
  {
   "cell_type": "markdown",
   "metadata": {},
   "source": [
    "### Operaciones avanzadas"
   ]
  },
  {
   "cell_type": "code",
   "execution_count": null,
   "metadata": {},
   "outputs": [],
   "source": [
    "# Operaciones matemáticas\n",
    "\n",
    "print(\"\\nOperaciones matemáticas avanzadas:\")\n",
    "\n",
    "# Potencia\n",
    "C = np.power(A, 2)  # Eleva cada elemento de A al cuadrado\n",
    "print(\"Potencia (A^2):\")\n",
    "print(C)"
   ]
  },
  {
   "cell_type": "code",
   "execution_count": null,
   "metadata": {},
   "outputs": [],
   "source": [
    "\n",
    "# Raíz cuadrada\n",
    "\n",
    "D = np.sqrt(B)  # Calcula la raíz cuadrada de cada elemento de B\n",
    "print(\"Raíz cuadrada de B:\")\n",
    "print(D)\n",
    "\n"
   ]
  },
  {
   "cell_type": "code",
   "execution_count": null,
   "metadata": {},
   "outputs": [],
   "source": [
    "\n",
    "# Estadísticas\n",
    "print(\"\\nEstadísticas:\")\n",
    "\n",
    "# Media y desviación estándar\n",
    "media = np.mean(A)\n",
    "desviacion_estandar = np.std(A)\n",
    "\n",
    "print(\"Media de A:\")\n",
    "print(media)\n"
   ]
  },
  {
   "cell_type": "code",
   "execution_count": null,
   "metadata": {},
   "outputs": [],
   "source": [
    "\n",
    "print(\"Desviación estándar de A:\")\n",
    "print(desviacion_estandar)\n"
   ]
  },
  {
   "cell_type": "code",
   "execution_count": null,
   "metadata": {},
   "outputs": [],
   "source": [
    "\n",
    "# Máximo y mínimo\n",
    "\n",
    "maximo = np.max(B)\n",
    "minimo = np.min(B)\n",
    "\n",
    "print(\"\\nValor máximo de B:\")\n",
    "print(maximo)\n",
    "\n",
    "print(\"Valor mínimo de B:\")\n",
    "print(minimo)\n"
   ]
  },
  {
   "cell_type": "code",
   "execution_count": null,
   "metadata": {},
   "outputs": [],
   "source": [
    "\n",
    "# Producto escalar\n",
    "producto_escalar = np.dot(A, B)\n",
    "print(\"\\nProducto escalar de A y B:\")\n",
    "print(producto_escalar)"
   ]
  },
  {
   "cell_type": "markdown",
   "metadata": {},
   "source": [
    "## Ejercicios\n",
    "\n",
    "\n",
    "1. **Generación y graficación de datos**:\n",
    "   - Genera un arreglo de 5000 elementos de enteros aleatorios . Luego, calcular y mostrar la media, la mediana y la desviación estándar del arreglo. \n",
    "   - Graficar el histograma\n",
    "\n",
    "2. **Generación y graficación de datos**:\n",
    "   - Genera un arreglo de 5000 elementos con una distribución normal. Luego, calcular y mostrar la media, la mediana y la desviación estándar del arreglo. \n",
    "   - Graficar el histograma\n",
    "\n",
    "3. **Generación y graficación de datos**:\n",
    "   - Genera un arreglo de 5000 elementos de enteros aleatorios . Luego, calcular y mostrar la media, la mediana y la desviación estándar del arreglo. Normalizar los datos \n",
    "   - Generar el histograma"
   ]
  },
  {
   "cell_type": "code",
   "execution_count": null,
   "metadata": {},
   "outputs": [],
   "source": []
  },
  {
   "cell_type": "code",
   "execution_count": null,
   "metadata": {},
   "outputs": [],
   "source": []
  },
  {
   "cell_type": "code",
   "execution_count": null,
   "metadata": {},
   "outputs": [],
   "source": []
  },
  {
   "cell_type": "markdown",
   "metadata": {},
   "source": [
    "## Ejes de Numpy (AXIS)\n",
    "\n",
    "- Los ejes de NumPy son muy similares a los ejes de un sistema de coordenadas cartesianas.\n",
    "- Axis = 0 indica el primer eje. Suponiendo que estamos hablando de matrices multidimensionales, el eje 0 es el eje que de las filas (se aplica a 2d y arrays multidimensionales).\n",
    "- Axis = 1 indica el segundo eje. Este es el eje horizontal que cruza las columnas\n",
    "- Para entender cómo utilizar el parámetro de eje en las funciones de NumPy, es  importante comprender qué controla realmente el parámetro de eje para cada función.\n",
    "\n",
    "![image](./figs/fig-np-axis0-1.png)"
   ]
  },
  {
   "cell_type": "markdown",
   "metadata": {},
   "source": [
    "## Función $sum$  de NUMPY con AXIS = 0\n",
    "- La función $sum$ suma a través  de las columnas. El resultado es un nuevo array que contiene la suma de cada columna.\n",
    "- En np.sum(), el parámetro de eje (axis) controla qué eje se agregará. Es decir, el parámetro axis controla qué eje se contraerá.\n",
    "\n",
    "- Funciones como sum(), mean(), min(), median() y otras funciones estadísticas agregan sus datos.\n",
    "\n",
    "- Cuando establecemos axis = 0, la función suma las columnas. El resultado es una nueva matriz de NumPy que contiene la suma de cada columna.\n",
    "\n",
    "- En la figura, se colapsan los renglones (axis=0) y calcula la suma de cada columna.\n",
    "\n",
    "\n",
    "![image](./figs/fig-np-axis0.png)"
   ]
  },
  {
   "cell_type": "code",
   "execution_count": null,
   "metadata": {},
   "outputs": [],
   "source": [
    "#A = np.arange(0, 6).reshape([2,3])\n",
    "\n",
    "A = np.array([[0, 1, 2],\n",
    "              [3, 4, 5]\n",
    "              ])\n",
    "\n",
    "print(f\"A={A}\\n\")\n",
    "print(np.sum(A, axis=0))"
   ]
  },
  {
   "cell_type": "markdown",
   "metadata": {},
   "source": [
    "## SUM de NUMPY con AXIS = 1\n",
    "\n",
    "- La función $sum$ suma a través  de los renglones. El resultado es un nuevo array que contiene la suma de cada columna.\n",
    "\n",
    "- Cuando establecemos axis = 1, la función suma los renglones. El resultado es una nueva matriz de NumPy que contiene la suma de cada renglon.\n",
    "\n",
    "- En la figura, se colapsan las columnas  (axis=1) y se calcula la suma de cada renglon.\n",
    "\n",
    "\n",
    "![image](./figs/fig-np-axis1.png)"
   ]
  },
  {
   "cell_type": "code",
   "execution_count": null,
   "metadata": {},
   "outputs": [],
   "source": [
    "# A = np.arange(0, 6).reshape([2,3])\n",
    "\n",
    "A = np.array([[0, 1, 2],\n",
    "              [3, 4, 5]\n",
    "              ])\n",
    "\n",
    "print(f\"A={A}\\n\")\n",
    "print(np.sum(A, axis=1))"
   ]
  },
  {
   "cell_type": "code",
   "execution_count": null,
   "metadata": {},
   "outputs": [],
   "source": []
  },
  {
   "cell_type": "code",
   "execution_count": null,
   "metadata": {},
   "outputs": [],
   "source": []
  },
  {
   "cell_type": "code",
   "execution_count": null,
   "metadata": {},
   "outputs": [],
   "source": []
  },
  {
   "cell_type": "markdown",
   "metadata": {},
   "source": [
    "## Ejercicios:\n",
    "\n"
   ]
  },
  {
   "cell_type": "markdown",
   "metadata": {},
   "source": [
    "Dada la siguiente: matriz score_matrix Realizar las operaciones que se indican\n",
    "\n",
    "```Python\n",
    "import numpy as np\n",
    "\n",
    "# Cada fila representa a un estudiante\n",
    "# y cada columna representa una materia  diferente con sus puntuaciones\n",
    "scores_matrix = np.array([\n",
    "    [85, 78, 92, 88, 76],  # Puntuaciones del estudiante 1\n",
    "    [90, 85, 89, 92, 84],  # Puntuaciones del estudiante 2\n",
    "    [70, 65, 80, 75, 72],  # Puntuaciones del estudiante 3\n",
    "    [88, 90, 85, 91, 87],  # Puntuaciones del estudiante 4\n",
    "    [76, 80, 78, 74, 73],  # Puntuaciones del estudiante 5\n",
    "    [95, 92, 90, 94, 91]   # Puntuaciones del estudiante 6\n",
    "])\n",
    "```\n"
   ]
  },
  {
   "cell_type": "code",
   "execution_count": null,
   "metadata": {},
   "outputs": [],
   "source": [
    "# Obtener la media de calificaciones por estudiante \n",
    "\n",
    "# Obtener la desviación estandard de las calificaciones  por  cada estudiante\n",
    "\n",
    "# Obtener la calificación máxima por estudiante\n",
    "\n",
    "# Obtener la Puntuación Máxima y Mínima por materia\n",
    "\n",
    "# Obtener la desviación estándar de las calificaciones en cada materia\n",
    "\n",
    "# Media de las Puntuaciones en cada materia"
   ]
  },
  {
   "cell_type": "code",
   "execution_count": null,
   "metadata": {},
   "outputs": [],
   "source": []
  },
  {
   "cell_type": "code",
   "execution_count": null,
   "metadata": {},
   "outputs": [],
   "source": []
  },
  {
   "cell_type": "code",
   "execution_count": null,
   "metadata": {},
   "outputs": [],
   "source": []
  },
  {
   "cell_type": "markdown",
   "metadata": {},
   "source": [
    "# Concatenación de matrices"
   ]
  },
  {
   "cell_type": "markdown",
   "metadata": {},
   "source": [
    "## Concatenate de NUMPY con AXIS = 0\n",
    "- Cuando usamos el parámetro axis con la función np.concatenate(), el parámetro axis define el eje a lo largo del cual se apilan las matrices.\n",
    "- Cuando establecemos axis = 0, le estamos indicando a la función concatenar que apile las dos matrices a lo largo de las filas. \n",
    "- Estamos especificando que queremos concatenar las matrices a lo largo del eje 0.\n",
    "\n",
    "![image](./figs/fig-np-concatenate-axis0.png)\n"
   ]
  },
  {
   "cell_type": "code",
   "execution_count": null,
   "metadata": {},
   "outputs": [],
   "source": [
    "A= np.array([[1, 1, 1],\n",
    "             [1, 1, 1]])\n",
    "\n",
    "B = np.array([[9, 9, 9],\n",
    "              [9, 9, 9]])\n",
    "\n",
    "np.concatenate([A, B], axis = 0)"
   ]
  },
  {
   "cell_type": "markdown",
   "metadata": {},
   "source": [
    "## Concatenate de NUMPY con AXIS = 1\n",
    "- Cuando usamos el parámetro axis con la función np.concatenate(), el parámetro axis define el eje a lo largo del cual se apilan las matrices.\n",
    "- Cuando establecemos axis = 1, le estamos indicando a la función concatenar que apile las dos matrices de manera horizontal, a lo largo de las columnas. \n",
    "- Estamos especificando que queremos concatenar las matrices a lo largo del eje 1.\n",
    "\n",
    "![image](./figs/fig-np-concatenate-axis1.png)\n"
   ]
  },
  {
   "cell_type": "code",
   "execution_count": null,
   "metadata": {},
   "outputs": [],
   "source": [
    "A= np.array([[1, 1, 1],\n",
    "             [1, 1, 1]])\n",
    "\n",
    "B = np.array([[9, 9, 9],\n",
    "              [9, 9, 9]])\n",
    "\n",
    "np.concatenate([A, B], axis = 1)"
   ]
  },
  {
   "cell_type": "markdown",
   "metadata": {},
   "source": [
    "## Arrays de 1-DIMENSIONAL\n",
    "\n",
    "- Estos arreglos solo tiene un eje (axis=0)\n",
    ". En este caso, la función funciona correctamente. NumPy concatena estas matrices (1-d) a lo largo del eje 0. El problema es que en las matrices unidimensionales, el eje 0 no apunta \"hacia abajo\" como lo hace en una matriz bidimensional."
   ]
  },
  {
   "cell_type": "code",
   "execution_count": null,
   "metadata": {},
   "outputs": [],
   "source": [
    "a = np.array([1,1,1])\n",
    "b = np.array([9,9,9])\n",
    "\n",
    "np.concatenate([a, b], axis = 0)\n",
    "\n"
   ]
  },
  {
   "cell_type": "markdown",
   "metadata": {},
   "source": [
    "### hstack\n",
    "\n",
    "- Apila matrices en secuencia horizontalmente (columna por columna).\n",
    "\n",
    "- Esto es equivalente a la concatenación a lo largo del segundo eje, excepto para matrices 1-D donde se concatena a lo largo del primer eje.\n",
    "-  Reconstruye matrices divididas por hsplit."
   ]
  },
  {
   "cell_type": "code",
   "execution_count": null,
   "metadata": {},
   "outputs": [],
   "source": [
    "import numpy as np\n",
    "\n",
    "a = np.array([[1, 2],\n",
    "              [3, 4]])\n",
    "\n",
    "b = np.array([[5, 6, 7],\n",
    "              [8, 9, 10]])\n",
    "print(f'a={a}')\n",
    "print(f'b={b}')\n",
    "print(\"hstack\\n\", np.hstack((a, b)))"
   ]
  },
  {
   "cell_type": "markdown",
   "metadata": {},
   "source": [
    "### vstack\n",
    "\n",
    "- Apila matrices en secuencia verticalmente (fila por fila).\n",
    "\n",
    "- Esto es equivalente a la concatenación a lo largo del primer eje después de que las matrices 1-D de forma (N,) hayan sido reformadas a (1,N). \n",
    "\n",
    "- Reconstruye matrices divididas por vsplit."
   ]
  },
  {
   "cell_type": "code",
   "execution_count": null,
   "metadata": {},
   "outputs": [],
   "source": [
    "\n",
    "a = np.array([[1, 2],\n",
    "              [3, 4]])\n",
    "\n",
    "b = np.array([[5, 6],\n",
    "              [8, 9],\n",
    "              [10, 11]])\n",
    "\n",
    "print(f'a={a}')\n",
    "print(f'b={b}')\n",
    "print(\"vstack\\n\", np.vstack((a, b)))\n",
    "\n"
   ]
  },
  {
   "cell_type": "code",
   "execution_count": null,
   "metadata": {},
   "outputs": [],
   "source": []
  },
  {
   "cell_type": "markdown",
   "metadata": {},
   "source": [
    "## Operaciones con matrices\n",
    " - suma, resta"
   ]
  },
  {
   "cell_type": "code",
   "execution_count": null,
   "metadata": {},
   "outputs": [],
   "source": [
    "# Crear matrices\n",
    "A = np.array([[1, 2], [3, 4]])\n",
    "B = np.array([[5, 6], [7, 8]])\n",
    "\n",
    "print(\"Matriz A:\")\n",
    "print(A)\n",
    "\n",
    "print(\"\\nMatriz B:\")\n",
    "print(B)\n",
    "\n",
    "# Suma y resta de matrices\n",
    "suma = A + B\n",
    "resta = A - B\n",
    "\n",
    "print(\"\\nSuma de matrices:\")\n",
    "print(suma)\n",
    "\n",
    "print(\"\\nResta de matrices:\")\n",
    "print(resta)"
   ]
  },
  {
   "cell_type": "markdown",
   "metadata": {},
   "source": [
    "## Producto Hadamard\n",
    "### El producto Hadamard $ C $ se expresa como:\n",
    "$ C = A \\odot B $  \n",
    "\n",
    "o \n",
    "\n",
    "$ C = A * B $\n",
    "\n",
    "donde cada elemento $ c_{ij} $ de la matriz $ C $ se calcula como:\n",
    "\n",
    "$ c_{ij} = a_{ij} \\odot b_{ij} $\n",
    "\n",
    "donde $ a_{ij} $ y $ b_{ij} $ son los elementos correspondientes de las matrices $ A $ y $ B $, respectivamente."
   ]
  },
  {
   "cell_type": "code",
   "execution_count": null,
   "metadata": {},
   "outputs": [],
   "source": [
    "\n",
    "print(\"Matriz A:\")\n",
    "print(A)\n",
    "\n",
    "print(\"\\nMatriz B:\")\n",
    "print(B)\n",
    "\n",
    "# Multiplicación de matrices (Elemento a elemento )\n",
    "multiplicacion_elemental = A * B  # Multiplicación elemento a elemento\n",
    "\n",
    "print(\"\\nMultiplicación elemento a elemento de matrices:\")\n",
    "print(multiplicacion_elemental)\n",
    "\n",
    "# Multiplicación de matrices (Elemento a elemento )\n",
    "multiplicacion_elemental2 = np.multiply(A, B) # Multiplicación elemento a elemento\n",
    "\n",
    "print(\"\\nMultiplicación elemento a elemento de matrices:\")\n",
    "print(multiplicacion_elemental2)\n",
    "\n"
   ]
  },
  {
   "cell_type": "code",
   "execution_count": null,
   "metadata": {},
   "outputs": [],
   "source": [
    "\n",
    "multiplicacion_matricial = np.dot(A, B)  # Multiplicación matricial 1 (caso especial para 1-D matriz, se realiza el producto escalar)\n",
    "\n",
    "multiplicacion_matricial2 = np.matmul(A, B)  # Multiplicación matricial 2\n",
    "\n",
    "multiplicacion_matricial3 = A @ B  # Multiplicación matricial 3\n",
    "\n",
    "\n",
    "# El resultado es el mismo con 3 formas de realizarlo \n",
    "\n",
    "print(\"\\nMultiplicación matricial:\")\n",
    "print(multiplicacion_matricial)\n",
    "\n",
    "print(\"\\nMultiplicación matricial (matmul):\")\n",
    "print(multiplicacion_matricial2)\n",
    "\n",
    "print(\"\\nMultiplicación matricial (@):\")\n",
    "print(multiplicacion_matricial2)\n"
   ]
  },
  {
   "cell_type": "markdown",
   "metadata": {},
   "source": [
    "### Operaciones sobre matrices\n",
    " - Transpuesta\n",
    " - Inversa: La inversa de A (debe ser cuadrada) se denota $ A^{-1} $  cumple que $A \\cdot A^{-1} = I$ ; el determinante es no nulo\n",
    " - Determinante"
   ]
  },
  {
   "cell_type": "code",
   "execution_count": null,
   "metadata": {},
   "outputs": [],
   "source": [
    "# Transposición\n",
    "transpuesta_A = np.transpose(A)\n",
    "transpuesta_B = np.transpose(B)\n",
    "\n",
    "print(\"A=\", A)\n",
    "print(\"\\nTransposición de la matriz A:\")\n",
    "print(transpuesta_A)\n",
    "\n",
    "print(\"\\nTransposición de la matriz A con operador T:\")\n",
    "print(A.T)\n",
    "\n",
    "print(\"\\nB=\", B)\n",
    "print(\"\\nTransposición de la matriz B:\")\n",
    "print(transpuesta_B)\n",
    "\n",
    "print(\"\\nTransposición de la matriz B con operador T:\")\n",
    "print(B.T)"
   ]
  },
  {
   "cell_type": "code",
   "execution_count": null,
   "metadata": {},
   "outputs": [],
   "source": [
    "# Determinante\n",
    "\n",
    "A = np.array([[1, 2], [3, 4]])\n",
    "B = np.array([[5, 6], [7, 8]])\n",
    "\n",
    "\n",
    "determinante_A = np.linalg.det(A)\n",
    "determinante_B = np.linalg.det(B)\n",
    "\n",
    "print(\"\\nDeterminante de la matriz A:\")\n",
    "print(determinante_A)\n",
    "\n",
    "print(\"\\nDeterminante de la matriz B:\")\n",
    "print(determinante_B)\n",
    "\n",
    "np.linalg.inv(A)"
   ]
  },
  {
   "cell_type": "code",
   "execution_count": null,
   "metadata": {},
   "outputs": [],
   "source": [
    "# Matriz Inversa\n",
    "A = np.array([[0, -1], \n",
    "              [2, 0]])\n",
    "              \n",
    "\n",
    "print(\"Matriz A= \")\n",
    "print(A)              \n",
    "inversa_A = np.linalg.inv(A)\n",
    "\n",
    "inversa_B = np.linalg.inv(B)\n",
    "\n",
    "print(\"\\nInversa de la matriz A:\")\n",
    "print(inversa_A)\n",
    "\n",
    "print(\"\\nMultiplicacion de la matriz A @ A(-1):\")\n",
    "\n",
    "print(inversa_A @ A)\n",
    "\n",
    "print(\"\\nInversa de la matriz B:\")\n",
    "print(inversa_B)\n",
    "\n"
   ]
  },
  {
   "cell_type": "code",
   "execution_count": null,
   "metadata": {},
   "outputs": [],
   "source": [
    "\n",
    "#Matriz no invertible\n",
    "\n",
    "A = np.array([[2, 4],\n",
    "              [1, 2]])\n",
    "print(\"\\nInversa de la matriz A:\")\n",
    "print(A)              \n",
    "\n",
    "try: \n",
    "    print(\"determinante de A = \", np.linalg.det(A))\n",
    "    inversa_A = np.linalg.inv(A)\n",
    "    print(inversa_A)\n",
    "except np.linalg.LinAlgError as err:\n",
    "    print(err)\n",
    "    print(\"la matriz no es invertible\")"
   ]
  },
  {
   "cell_type": "markdown",
   "metadata": {},
   "source": [
    "## Filtrado de datos de un arreglo"
   ]
  },
  {
   "cell_type": "code",
   "execution_count": null,
   "metadata": {},
   "outputs": [],
   "source": [
    "# Generar matriz aleatoria\n",
    "matriz = np.random.randint(1, 10, (4, 4))\n",
    "\n",
    "# Filtrar elementos mayores a 5\n",
    "elementos_filtrados = matriz[matriz > 5] #Filtrado de datos\n",
    "\n",
    "print(\"Matriz original:\")\n",
    "print(matriz)\n",
    "print(\"\\nElementos mayores a 5:\")\n",
    "print(elementos_filtrados)"
   ]
  },
  {
   "cell_type": "markdown",
   "metadata": {},
   "source": [
    "### Ejercicios\n",
    "\n",
    "1. **Transponer e Invertir**:\n",
    "   - Crea una matriz $ 3 \\times 3 $, transponerla  y calcula su inversa (si es posible).\n",
    "   - Verifica si la matriz Identidad es igual al producto de la matriz y su inversa.\n",
    "\n",
    "\n",
    "2. **Producto de Hadamard y Determinante**:\n",
    "   - Crea dos matrices $ 3 \\times 3 $ y calcula el producto de Hadamard.\n",
    "   - Calcula el determinante de una matriz $ 4 \\times 4 $ \n",
    "\n",
    "3. **Filtrado de datos**:\n",
    "   - Genera una matriz 4x4 de números aleatorios entre 1 y 20. Filtra las filas cuya suma de elementos es mayor a 30.\n"
   ]
  },
  {
   "cell_type": "code",
   "execution_count": null,
   "metadata": {},
   "outputs": [],
   "source": []
  },
  {
   "cell_type": "code",
   "execution_count": null,
   "metadata": {},
   "outputs": [],
   "source": []
  },
  {
   "cell_type": "code",
   "execution_count": null,
   "metadata": {},
   "outputs": [],
   "source": []
  },
  {
   "cell_type": "markdown",
   "metadata": {},
   "source": [
    "# Broadcasting \n",
    "- El término broadcasting describe cómo NumPy trata las matrices con diferentes formas durante las operaciones aritméticas. \n",
    "- Sujeto a ciertas restricciones, la matriz más pequeña se \"transmite\" a través de la matriz más grande para que tengan formas compatibles.\n",
    "\n",
    "- Las operaciones de NumPy se realizan normalmente en pares de matrices, elemento por elemento. En el caso más simple, las dos matrices deben tener exactamente la misma forma.\n",
    "\n",
    "- Al operar sobre dos matrices, NumPy compara sus formas elemento por elemento. Comienza con la dimensión final (es decir, la más a la derecha) y avanza hacia la izquierda. Dos dimensiones son compatibles cuando: son iguales o una de ellas es 1.\n",
    "\n",
    "- Las matrices de entrada no necesitan tener la misma cantidad de dimensiones. \n",
    "- La matriz resultante tendrá la misma cantidad de dimensiones que la matriz de entrada con la mayor cantidad de dimensiones, donde el tamaño de cada dimensión es el tamaño más grande de la dimensión correspondiente entre las matrices de entrada. \n",
    "- Considere que se supone que las dimensiones faltantes tienen un tamaño de uno.\n",
    "\n",
    "\n",
    "- En numpy, el comando A * B calcula la multiplicación elemento por elemento de las matrices o tensores A y B. Si estas matrices tienen formas diferentes, se convertirán automáticamente para que tengan formas compatibles replicando implícitamente ciertas dimensiones; esto se denomina broadcasting. Las siguientes reglas de conversión se aplican en orden:\n",
    "\n",
    "1. Si las dos matrices difieren en su número de dimensiones, la forma de la que tiene menos dimensiones se rellena con unos en el lado izquierdo. Por ejemplo, un escalar se convertirá en un vector y un vector en una matriz con una fila.\n",
    "2. Si la forma de las dos matrices no coincide en ninguna dimensión, la matriz con forma igual a 1 en esa dimensión se estira para que coincida con la otra forma, replicando el contenido correspondiente.\n",
    "3. Si en alguna dimensión los tamaños no coinciden y ninguno es igual a 1, se genera un error.\n"
   ]
  },
  {
   "cell_type": "markdown",
   "metadata": {},
   "source": [
    "## Ejemplo 1\n",
    "![image](./figs/fig-broadcasting1.png)\n",
    "\n",
    "- Una matriz unidimensional (b) agregada a una matriz bidimensional (a) da como resultado un \"broadcasting\" si el número de elementos de la matriz unidimensional coincide con el número de columnas de la matriz bidimensional."
   ]
  },
  {
   "cell_type": "code",
   "execution_count": null,
   "metadata": {},
   "outputs": [],
   "source": [
    "a = np.array([[ 0.0,  0.0,  0.0],\n",
    "              [10.0, 10.0, 10.0],\n",
    "              [20.0, 20.0, 20.0],\n",
    "              [30.0, 30.0, 30.0]])\n",
    "b = np.array([1.0, 2.0, 3.0])\n",
    "a + b\n"
   ]
  },
  {
   "cell_type": "markdown",
   "metadata": {},
   "source": [
    "## Ejemplo 2\n",
    "![image](./figs/fig-broadcasting2.png)\n"
   ]
  },
  {
   "cell_type": "code",
   "execution_count": null,
   "metadata": {},
   "outputs": [],
   "source": [
    "\n",
    "a = np.array([[ 0.],\n",
    "       [10.],\n",
    "       [20.],\n",
    "       [30.]])\n",
    "b = np.array([1.0, 2.0, 3.0])\n",
    "a + b"
   ]
  },
  {
   "cell_type": "code",
   "execution_count": null,
   "metadata": {},
   "outputs": [],
   "source": [
    "\n",
    "# teniendo \"a\" como vector fila se puede agregar una dimensión adicional con np.newaxis para tener en un formato compatible para el broadasting\n",
    "\n",
    "a = np.array([0.0, 10.0, 20.0, 30.0])\n",
    "b = np.array([1.0, 2.0, 3.0])\n",
    "a = a[:, np.newaxis] #agrega una dimension\n",
    "print(a)\n",
    "a+b"
   ]
  },
  {
   "cell_type": "markdown",
   "metadata": {},
   "source": [
    "## Ejercicios\n",
    "\n",
    "Dada la siguiente: matriz score_matrix Realizar las operaciones que se indican\n",
    "\n",
    "```Python\n",
    "# Definir un conjunto de datos de ventas (4 tiendas x 3 meses)\n",
    "sales_data = np.array([\n",
    "    [200, 220, 250],  # Ventas de la tienda 1\n",
    "    [150, 180, 210],  # Ventas de la tienda 2\n",
    "    [300, 320, 350],  # Ventas de la tienda 3\n",
    "    [400, 420, 430]   # Ventas de la tienda 4\n",
    "])\n",
    "\n",
    "```\n",
    "\n",
    "- Normalizar los datos de acuerdo al mes por medio de las matrices y vectores correspondientes:\n",
    "    normalizado =  (datos de ventas  - media de ventas) / desviación estandar de las ventas\n",
    "\n"
   ]
  },
  {
   "cell_type": "code",
   "execution_count": null,
   "metadata": {},
   "outputs": [],
   "source": []
  }
 ],
 "metadata": {
  "kernelspec": {
   "display_name": "PT",
   "language": "python",
   "name": "python3"
  },
  "language_info": {
   "codemirror_mode": {
    "name": "ipython",
    "version": 3
   },
   "file_extension": ".py",
   "mimetype": "text/x-python",
   "name": "python",
   "nbconvert_exporter": "python",
   "pygments_lexer": "ipython3",
   "version": "3.12.3"
  }
 },
 "nbformat": 4,
 "nbformat_minor": 2
}
