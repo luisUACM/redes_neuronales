{
 "cells": [
  {
   "cell_type": "markdown",
   "metadata": {},
   "source": [
    "![image](figs/fig-numpy.png)\n",
    "# Introducción a NumPy (...Continuación)\n"
   ]
  },
  {
   "cell_type": "markdown",
   "metadata": {},
   "source": [
    "\n",
    "### - NumPy es una de las bibliotecas fundamentales en el ecosistema de Python para la ciencia de datos y la computación numérica. \n",
    "\n",
    "### - Proporciona soporte para arreglos multidimensionales y funciones matemáticas avanzadas.\n",
    "### - La convierte en una herramienta esencial para el análisis de datos\n",
    "\n",
    "### [https://numpy.org](https://numpy.org)"
   ]
  },
  {
   "cell_type": "markdown",
   "metadata": {},
   "source": [
    "\n",
    "## ¿Qué es NumPy?\n",
    "\n",
    "### NumPy (Numerical Python) es una biblioteca de Python que ofrece:\n",
    "\n",
    "###  - **Arreglos multidimensionales:** Estructuras de datos eficientes para almacenar y manipular grandes conjuntos de datos numéricos.\n",
    "\n",
    "### - **Funciones matemáticas avanzadas:** Operaciones matemáticas y estadísticas que funcionan de manera eficiente en arreglos completos.\n",
    "\n",
    "### - **Operaciones vectorizadas:** Cálculos rápidos sin necesidad de bucles explícitos, gracias a la implementación en C."
   ]
  },
  {
   "cell_type": "markdown",
   "metadata": {},
   "source": [
    "\n",
    "# Contenido del Tutorial\n",
    "\n",
    "###  1. **Instalación de NumPy**\n",
    "  #### - Cómo instalar NumPy usando `pip` o `conda`.\n",
    "\n",
    "### 2. **Conceptos Básicos de Arreglos**\n",
    "   #### - Creación de arreglos con `np.array()`.\n",
    "   #### - Indexación y segmentación de arreglos.\n",
    "   #### - Tipos de datos y conversiones entre tipos.\n",
    "\n",
    "### 3. **Operaciones Matemáticas y Estadísticas**\n",
    "   #### - Operaciones aritméticas básicas: suma, resta, multiplicación y división.\n",
    "   #### - Funciones estadísticas: media, mediana, desviación estándar.\n",
    "\n",
    "### 4. **Manipulación de Arreglos**\n",
    "   #### - Cambio de forma con `reshape()`.\n",
    "   #### - Transposición y otras operaciones de reordenamiento.\n",
    "   #### - Combinación y división de arreglos.\n",
    "\n",
    "### 5. **Operaciones Avanzadas**\n",
    "   #### - Uso de funciones de álgebra lineal: productos matriciales, determinantes y valores singulares.\n"
   ]
  },
  {
   "cell_type": "code",
   "execution_count": 1,
   "metadata": {},
   "outputs": [],
   "source": [
    "import numpy as np"
   ]
  },
  {
   "cell_type": "markdown",
   "metadata": {},
   "source": [
    "# Broadcasting \n",
    "- ### El término broadcasting describe cómo NumPy trata las matrices con diferentes formas durante las operaciones aritméticas. \n",
    "- ### Sujeto a ciertas restricciones, la matriz más pequeña se \"transmite\" a través de la matriz más grande para que tengan formas compatibles.\n",
    "\n",
    "- ### Las operaciones de NumPy se realizan normalmente en pares de matrices, elemento por elemento. En el caso más simple, las dos matrices deben tener exactamente la misma forma.\n",
    "\n",
    "- ### Al operar sobre dos matrices, NumPy compara sus formas elemento por elemento. Comienza con la dimensión final (es decir, la más a la derecha) y avanza hacia la izquierda. \n",
    "    - ### <span style=\"color:red;\">Dos dimensiones son compatibles cuando: son iguales o una de ellas es de dimensión 1.</span> \n",
    "\n",
    "- ### Las matrices de entrada no necesitan tener la misma cantidad de dimensiones. \n",
    "- ### <span style=\"color:red;\">La matriz resultante tendrá la misma cantidad de dimensiones que la matriz de entrada con la mayor cantidad de dimensiones</span>, donde el tamaño de cada dimensión es el tamaño más grande de la dimensión correspondiente entre las matrices de entrada. \n",
    "- ### Considere que se supone que las dimensiones faltantes tienen un tamaño de uno.\n",
    "\n",
    "\n",
    "- ### En numpy, la instrucción A * B calcula la multiplicación elemento por elemento de las matrices o tensores A y B. \n",
    "    - ### <span style=\"color:red;\">Si las matrices tienen formas diferentes, se convertirán automáticamente para que tengan formas compatibles</span> __replicando implícitamente ciertas dimensiones__; esto <span style=\"color:red;\"> se denomina broadcasting</span> . Las siguientes reglas de conversión se aplican en orden:\n",
    "\n",
    "        - #### 1. Si las dos matrices difieren en su número de dimensiones, la forma de la matriz que tiene menos dimensiones se rellena con dimensiones 1 en el lado izquierdo. Por ejemplo, un escalar se convertirá en un vector shape=(1,) y un vector en una matriz con una fila shape=(1,N).\n",
    "        - #### 2. Si la forma de las dos matrices no coincide en ninguna dimensión, la matriz con forma igual a 1 en esa dimensión se estira para que coincida con la otra forma, replicando el contenido correspondiente.\n",
    "        - #### 3. Si en alguna dimensión los tamaños no coinciden y ninguno es igual a 1, se genera un error.\n"
   ]
  },
  {
   "cell_type": "markdown",
   "metadata": {},
   "source": [
    "## Ejemplo 1\n",
    "![image](./figs/fig-broadcasting1.png)\n",
    "\n",
    "- Una matriz unidimensional (b) agregada a una matriz bidimensional (a) da como resultado un \"broadcasting\" si el número de elementos de la matriz unidimensional coincide con el número de columnas de la matriz bidimensional."
   ]
  },
  {
   "cell_type": "code",
   "execution_count": null,
   "metadata": {},
   "outputs": [
    {
     "name": "stdout",
     "output_type": "stream",
     "text": [
      "a=\n",
      "[[ 0.  0.  0.]\n",
      " [10. 10. 10.]\n",
      " [20. 20. 20.]\n",
      " [30. 30. 30.]]\n",
      "\n",
      "a.shape=\n",
      "(4, 3)\n",
      "\n",
      "b=\n",
      "[1. 2. 3.]\n",
      "\n",
      "b.shape=\n",
      "(3,)\n",
      "\n",
      "a+b=\n",
      "[[ 1.  2.  3.]\n",
      " [11. 12. 13.]\n",
      " [21. 22. 23.]\n",
      " [31. 32. 33.]]\n",
      "\n"
     ]
    }
   ],
   "source": [
    "import numpy as np\n",
    "\n",
    "a = np.array([[ 0.0,  0.0,  0.0],\n",
    "              [10.0, 10.0, 10.0],\n",
    "              [20.0, 20.0, 20.0],\n",
    "              [30.0, 30.0, 30.0]])\n",
    "\n",
    "b = np.array([1.0, 2.0, 3.0])\n",
    "\n",
    "print(f'a=\\n{a}\\n')\n",
    "print(f'a.shape=\\n{a.shape}\\n')\n",
    "\n",
    "print(f'b=\\n{b}\\n')\n",
    "print(f'b.shape=\\n{b.shape}\\n')\n",
    "\n",
    "print(f'a+b=\\n{a+b}\\n')"
   ]
  },
  {
   "cell_type": "markdown",
   "metadata": {},
   "source": [
    "## Ejemplo 2\n",
    "![image](./figs/fig-broadcasting2.png)\n"
   ]
  },
  {
   "cell_type": "code",
   "execution_count": null,
   "metadata": {},
   "outputs": [],
   "source": [
    "import numpy as np\n",
    "\n",
    "a = np.array([[ 0.],\n",
    "              [10.],\n",
    "              [20.],\n",
    "              [30.]])\n",
    "\n",
    "b = np.array([1.0, 2.0, 3.0])\n",
    "\n",
    "print(f'a=\\n{a}\\n')\n",
    "print(f'a.shape=\\n{a.shape}\\n')\n",
    "\n",
    "print(f'b=\\n{b}\\n')\n",
    "print(f'b.shape=\\n{b.shape}\\n')\n",
    "\n",
    "print(f'a+b=\\n{a+b}\\n')"
   ]
  },
  {
   "cell_type": "markdown",
   "metadata": {},
   "source": [
    "# Expandir dimensiones\n",
    "- ## $np.expand\\_dims$: Inserta un nuevo eje que aparecerá en la posición del eje en la forma de la matriz expandida.\n",
    "- ## Útil para hacer broadcasting"
   ]
  },
  {
   "cell_type": "markdown",
   "metadata": {},
   "source": [
    "## Vector fila, se agrega mediante axis=0"
   ]
  },
  {
   "cell_type": "code",
   "execution_count": null,
   "metadata": {},
   "outputs": [
    {
     "name": "stdout",
     "output_type": "stream",
     "text": [
      "a=\n",
      "[1 2 3]\n",
      "\n",
      "a.shape=\n",
      "(3,)\n",
      "\n",
      "b=\n",
      "[[1 2 3]]\n",
      "\n",
      "b.shape=\n",
      "(1, 3)\n",
      "\n"
     ]
    }
   ],
   "source": [
    "a = np.array([1, 2, 3])\n",
    "\n",
    "print(f'a=\\n{a}\\n')\n",
    "print(f'a.shape=\\n{a.shape}\\n')\n",
    "\n",
    "# agregar dimensión al vector a, lo convierte en vector fila\n",
    "b = np.expand_dims(a, axis=0)\n",
    "\n",
    "print(f'b=\\n{b}\\n')\n",
    "print(f'b.shape=\\n{b.shape}\\n')"
   ]
  },
  {
   "cell_type": "markdown",
   "metadata": {},
   "source": [
    "### Forma equivalente con $np.newaxis$ equivalente a agregar $None$ en el eje de las filas"
   ]
  },
  {
   "cell_type": "code",
   "execution_count": null,
   "metadata": {},
   "outputs": [],
   "source": [
    "\n",
    "# teniendo \"a\" como vector se puede agregar una dimensión adicional con np.newaxis es equivalente a gregar None \n",
    "\n",
    "a = np.array([0, 10, 20, 30])\n",
    "\n",
    "print(f'a=\\n{a}\\n')\n",
    "\n",
    "b = a[np.newaxis, :] # agrega una dimension en el eje de las filas\n",
    "\n",
    "print(f'b=\\n{b}\\n')\n",
    "print(f'b.shape=\\n{b.shape}\\n')\n",
    "\n",
    "c = a[None, :] # agrega una dimension en el eje de las filas\n",
    "\n",
    "print(f'c=\\n{c}\\n')\n",
    "print(f'c.shape=\\n{c.shape}\\n')"
   ]
  },
  {
   "cell_type": "markdown",
   "metadata": {},
   "source": [
    "## Vector columna, se agrega mediante axis=1"
   ]
  },
  {
   "cell_type": "code",
   "execution_count": null,
   "metadata": {},
   "outputs": [],
   "source": [
    "a = np.array([1, 2, 3])\n",
    "\n",
    "print(f'a=\\n{a}\\n')\n",
    "print(f'a.shape=\\n{a.shape}\\n')\n",
    "\n",
    "# # agregar dimensión al vector a, lo convierte en vector columna \n",
    "b = np.expand_dims(a, axis=1)\n",
    "\n",
    "print(f'b=\\n{b}\\n')\n",
    "print(f'b.shape=\\n{b.shape}\\n')"
   ]
  },
  {
   "cell_type": "markdown",
   "metadata": {},
   "source": [
    "### Forma equivalente con $np.newaxis$ equivalente a agregar $None$ en el eje de las columnas"
   ]
  },
  {
   "cell_type": "code",
   "execution_count": null,
   "metadata": {},
   "outputs": [],
   "source": [
    "\n",
    "# teniendo \"a\" como vector se puede agregar una dimensión adicional con np.newaxis es equivalente a gregar None \n",
    "\n",
    "a = np.array([0, 10, 20, 30])\n",
    "\n",
    "print(f'a=\\n{a}\\n')\n",
    "\n",
    "b = a[:, np.newaxis] # agrega una dimension en el eje de las columnas\n",
    "\n",
    "print(f'b=\\n{b}\\n')\n",
    "print(f'b.shape=\\n{b.shape}\\n')\n",
    "\n",
    "c = a[:, None] # agrega una dimension en el eje de las columnas\n",
    "\n",
    "print(f'c=\\n{c}\\n')\n",
    "print(f'c.shape=\\n{c.shape}\\n')"
   ]
  },
  {
   "cell_type": "markdown",
   "metadata": {},
   "source": [
    "### Formas equivalentes reshape: comodín -1  (ajusta los elementos para completar la forma adecuada, usar solo una dimensión no conocida) "
   ]
  },
  {
   "cell_type": "code",
   "execution_count": null,
   "metadata": {},
   "outputs": [],
   "source": [
    "# teniendo \"a\" como vector se puede agregar una dimensión adicional con np.newaxis es equivalente a usar reshape\n",
    "\n",
    "a = np.array([0, 10, 20, 30])\n",
    "\n",
    "print(f'a=\\n{a}\\n')\n",
    "\n",
    "b = a[np.newaxis, :] # agrega una dimension en el eje de las filas\n",
    "\n",
    "print(f'b=\\n{b}\\n')\n",
    "print(f'b.shape=\\n{b.shape}\\n')\n",
    "\n",
    "c = a.reshape(-1, 4) # agrega una dimension en el eje de las filas\n",
    "\n",
    "print(f'c=\\n{c}\\n')\n",
    "print(f'c.shape=\\n{c.shape}\\n')"
   ]
  },
  {
   "cell_type": "code",
   "execution_count": null,
   "metadata": {},
   "outputs": [],
   "source": [
    "# teniendo \"a\" como vector se puede agregar una dimensión adicional con np.newaxis es equivalente a usar reshape\n",
    "\n",
    "a = np.array([0, 10, 20, 30])\n",
    "\n",
    "print(f'a=\\n{a}\\n')\n",
    "\n",
    "b = a[:, np.newaxis] # agrega una dimension en el eje de las columnas\n",
    "\n",
    "print(f'b=\\n{b}\\n')\n",
    "print(f'b.shape=\\n{b.shape}\\n')\n",
    "\n",
    "c = a.reshape(4, -1) # agrega una dimension en el eje de las filas\n",
    "\n",
    "print(f'c=\\n{c}\\n')\n",
    "print(f'c.shape=\\n{c.shape}\\n')"
   ]
  },
  {
   "cell_type": "code",
   "execution_count": null,
   "metadata": {},
   "outputs": [],
   "source": [
    "a = np.array([[1, 2],\n",
    "              [3, 4]])\n",
    "\n",
    "\n",
    "b = np.array([[5, 6, 7],\n",
    "              [8, 9, 10]])\n",
    "\n",
    "c = a[np.newaxis,:].reshape()\n",
    "c+b"
   ]
  },
  {
   "cell_type": "markdown",
   "metadata": {},
   "source": [
    "# $np.squeeze$ Remover ejes (dimesión) de longitud 1 de la matriz."
   ]
  },
  {
   "cell_type": "code",
   "execution_count": null,
   "metadata": {},
   "outputs": [
    {
     "name": "stdout",
     "output_type": "stream",
     "text": [
      "a=\n",
      "[[[0]\n",
      "  [1]\n",
      "  [2]]]\n",
      "\n",
      "a.shape=\n",
      "(1, 3, 1)\n",
      "\n",
      "b=\n",
      "[0 1 2]\n",
      "\n",
      "b.shape=\n",
      "(3,)\n",
      "\n"
     ]
    }
   ],
   "source": [
    "a = np.array([[[0], [1], [2]]])\n",
    "\n",
    "print(f\"a=\\n{a}\\n\")\n",
    "print(f\"a.shape=\\n{a.shape}\\n\")\n",
    "\n",
    "b = np.squeeze(a)\n",
    "\n",
    "print(f\"b=\\n{b}\\n\")\n",
    "print(f\"b.shape=\\n{b.shape}\\n\")"
   ]
  },
  {
   "cell_type": "code",
   "execution_count": null,
   "metadata": {},
   "outputs": [
    {
     "name": "stdout",
     "output_type": "stream",
     "text": [
      "a=\n",
      "[[[0]\n",
      "  [1]\n",
      "  [2]]]\n",
      "\n",
      "a.shape=\n",
      "(1, 3, 1)\n",
      "\n",
      "b=\n",
      "[[0]\n",
      " [1]\n",
      " [2]]\n",
      "\n",
      "b.shape=\n",
      "(3, 1)\n",
      "\n"
     ]
    }
   ],
   "source": [
    "# Eliminar eje 0\n",
    "a = np.array([[[0], [1], [2]]])\n",
    "\n",
    "print(f\"a=\\n{a}\\n\")\n",
    "print(f\"a.shape=\\n{a.shape}\\n\")\n",
    "\n",
    "b = np.squeeze(a, axis=0)\n",
    "\n",
    "print(f\"b=\\n{b}\\n\")\n",
    "print(f\"b.shape=\\n{b.shape}\\n\")"
   ]
  },
  {
   "cell_type": "code",
   "execution_count": null,
   "metadata": {},
   "outputs": [
    {
     "name": "stdout",
     "output_type": "stream",
     "text": [
      "a=\n",
      "[[[0]\n",
      "  [1]\n",
      "  [2]]]\n",
      "\n",
      "a.shape=\n",
      "(1, 3, 1)\n",
      "\n",
      "b=\n",
      "[[0 1 2]]\n",
      "\n",
      "b.shape=\n",
      "(1, 3)\n",
      "\n"
     ]
    }
   ],
   "source": [
    "# Eliminar eje 2\n",
    "a = np.array([[[0], [1], [2]]])\n",
    "\n",
    "print(f\"a=\\n{a}\\n\")\n",
    "print(f\"a.shape=\\n{a.shape}\\n\")\n",
    "\n",
    "b = np.squeeze(a, axis=2)\n",
    "\n",
    "print(f\"b=\\n{b}\\n\")\n",
    "print(f\"b.shape=\\n{b.shape}\\n\")"
   ]
  },
  {
   "cell_type": "markdown",
   "metadata": {},
   "source": [
    "# Ejercicios\n",
    "\n",
    "## Dada la siguiente: matriz score_matrix Realizar las operaciones que se indican\n",
    "\n",
    "```Python\n",
    "# Definir un conjunto de datos de ventas (4 tiendas x 3 meses)\n",
    "sales_data = np.array([\n",
    "    [200000, 220000, 250000],  # Ventas de la tienda 1\n",
    "    [150000, 180000, 210000],  # Ventas de la tienda 2\n",
    "    [300000, 320000, 350000],  # Ventas de la tienda 3\n",
    "    [400000, 420000, 430000]   # Ventas de la tienda 4\n",
    "])\n",
    "\n",
    "```\n",
    "\n",
    "- ### Normalizar los datos de acuerdo al mes por medio de las matrices y vectores correspondientes:\n",
    "   - ### dato\\_normalizado =  (datos de ventas  - media de ventas) / desviación estandar de las ventas\n",
    "   - ### Mostrar la media por mes\n",
    "   - ### Mostrar la desviación estándar por mes\n",
    "   - ### Mostrar los datos normalizados\n",
    "\n",
    "\n"
   ]
  },
  {
   "cell_type": "code",
   "execution_count": 3,
   "metadata": {},
   "outputs": [
    {
     "data": {
      "text/plain": [
       "array([[-0.91458954, -0.7014813 , -0.38181893],\n",
       "       [-1.44736014, -1.12769778, -0.80803542],\n",
       "       [ 0.15095167,  0.36405991,  0.68372227],\n",
       "       [ 1.21649288,  1.42960112,  1.53615524]])"
      ]
     },
     "execution_count": 3,
     "metadata": {},
     "output_type": "execute_result"
    }
   ],
   "source": [
    "sales_data = np.array([\n",
    "    [200000, 220000, 250000],\n",
    "    [150000, 180000, 210000],\n",
    "    [300000, 320000, 350000],\n",
    "    [400000, 420000, 430000] \n",
    "])\n",
    "mu = np.mean(sales_data)\n",
    "sigma = np.std(sales_data)\n",
    "datos_normalizados = (sales_data - mu) / sigma\n",
    "datos_normalizados"
   ]
  },
  {
   "cell_type": "markdown",
   "metadata": {},
   "source": [
    "## Ejercicios Broadcasting"
   ]
  },
  {
   "cell_type": "markdown",
   "metadata": {},
   "source": [
    "# Ejercicio1. \n",
    "\n",
    "### Dada la siguientes definiciones para A y v, explicar ¿Qué pasos sigue NumPy para realizar esta suma y cómo afecta el resultado final?\"\n",
    "\n",
    "```Python\n",
    "import numpy as np\n",
    "\n",
    "A = np.array([[1, 2, 3],\n",
    "              [4, 5, 6],\n",
    "              [7, 8, 9]])\n",
    "\n",
    "v = np.array([1, 0, -1])\n",
    "\n",
    "B = A + v\n",
    "\n",
    "```\n",
    "\n"
   ]
  },
  {
   "cell_type": "markdown",
   "metadata": {},
   "source": [
    "<span style=\"color:lightgreen;\">Ya que **A** tiene una dimensión mayor **(3,3)**, al vector **v** con forma **(3,)** se le agregan dimensiones para tener forma **(3,3)**. Los datos faltantes son \"estirados\" utilizando el vector **v** original, de manera que **v** se convierte en la matriz:</span>\n",
    "```Python\n",
    "[[1, 0, -1]\n",
    "[1, 0, -1]\n",
    "[1, 0, -1]]\n",
    "```\n",
    "<span style=\"color:lightgreen;\">Luego, la operacion se hace como si de una suma de matrices comun se tratara</span>\n"
   ]
  },
  {
   "cell_type": "code",
   "execution_count": 11,
   "metadata": {},
   "outputs": [
    {
     "data": {
      "text/plain": [
       "array([[2, 2, 2],\n",
       "       [5, 5, 5],\n",
       "       [8, 8, 8]])"
      ]
     },
     "execution_count": 11,
     "metadata": {},
     "output_type": "execute_result"
    }
   ],
   "source": [
    "A = np.array([[1, 2, 3],\n",
    "              [4, 5, 6],\n",
    "              [7, 8, 9]])\n",
    "\n",
    "v = np.array([1, 0, -1])\n",
    "\n",
    "B = A + v\n",
    "B"
   ]
  },
  {
   "cell_type": "markdown",
   "metadata": {},
   "source": [
    "## Ejercicio2. \n",
    "\n",
    "### Dada la siguientes definiciones para A y v, explicar ¿Qué pasos sigue NumPy para realizar esta suma y cómo afecta el resultado final?\"\n",
    "\n",
    "\n",
    "```Python\n",
    "import numpy as np\n",
    "\n",
    "# Crear una matriz 3x3\n",
    "A = np.array([[1, 2, 3],\n",
    "              [4, 5, 6],\n",
    "              [7, 8, 9]])\n",
    "\n",
    "\n",
    "v = np.array([[1],\n",
    "              [2],\n",
    "              [3]])\n",
    "\n",
    "\n",
    "B = A * v\n",
    "\n",
    "print(B)\n",
    "\n",
    "```"
   ]
  },
  {
   "cell_type": "markdown",
   "metadata": {},
   "source": [
    "<span style=\"color:lightgreen;\">Ya que **A** tiene una dimensión mayor **(3,3)**, al vector vertical **v** con forma **(1,3)** se le agregan dimensiones para tener forma **(3,3)** en el eje que faltan. Los datos faltantes son \"estirados\" utilizando el vector **v** original, de manera que **v** se convierte en la matriz:</span>\n",
    "```Python\n",
    "[[1, 1, 1]\n",
    "[2, 2, 2]\n",
    "[3, 3, 3]]\n",
    "```\n",
    "<span style=\"color:lightgreen;\">Luego, la operacion se hace como si de un producto Hadamard se tratara</span>"
   ]
  },
  {
   "cell_type": "code",
   "execution_count": 10,
   "metadata": {},
   "outputs": [
    {
     "data": {
      "text/plain": [
       "array([[ 1,  2,  3],\n",
       "       [ 8, 10, 12],\n",
       "       [21, 24, 27]])"
      ]
     },
     "execution_count": 10,
     "metadata": {},
     "output_type": "execute_result"
    }
   ],
   "source": [
    "A = np.array([[1, 2, 3],\n",
    "              [4, 5, 6],\n",
    "              [7, 8, 9]])\n",
    "\n",
    "\n",
    "v = np.array([[1],\n",
    "              [2],\n",
    "              [3]])\n",
    "\n",
    "\n",
    "B = A * v\n",
    "B"
   ]
  },
  {
   "cell_type": "markdown",
   "metadata": {},
   "source": [
    "## Ejercicio3. \n",
    "\n",
    "### Dada la siguientes definiciones para A y v, explicar ¿Qué pasos sigue NumPy para realizar esta suma y cómo afecta el resultado final?\"\n",
    "\n",
    "```Python\n",
    "import numpy as np\n",
    "\n",
    "# Crear una matriz 3x3\n",
    "A = np.array([[1, 2, 3],\n",
    "              [4, 5, 6],\n",
    "              [7, 8, 9]])\n",
    "\n",
    "# Sumar un escalar a la matriz\n",
    "c = 10\n",
    "B = A + c\n",
    "\n",
    "print(B)\n",
    "\n",
    "```"
   ]
  },
  {
   "cell_type": "markdown",
   "metadata": {},
   "source": [
    "<span style=\"color:lightgreen;\">Se compara la dimension de **A** y **c**, ya que **A** es la más grande con forma **(3,3)** se busca igualar **c** en dimensiones, primero se convierte en vector con forma **(1,)** luego en forma **(1,3)** y se estiran los datos. Finalmente se incrementea la dimensión 1 a **(3,3)** y se estiran los datos. En este punto se hace una suma de matrices normal.</span>"
   ]
  },
  {
   "cell_type": "code",
   "execution_count": 9,
   "metadata": {},
   "outputs": [
    {
     "data": {
      "text/plain": [
       "array([[11, 12, 13],\n",
       "       [14, 15, 16],\n",
       "       [17, 18, 19]])"
      ]
     },
     "execution_count": 9,
     "metadata": {},
     "output_type": "execute_result"
    }
   ],
   "source": [
    "A = np.array([[1, 2, 3],\n",
    "              [4, 5, 6],\n",
    "              [7, 8, 9]])\n",
    "\n",
    "# Sumar un escalar a la matriz\n",
    "c = 10\n",
    "B = A + c\n",
    "B"
   ]
  },
  {
   "cell_type": "markdown",
   "metadata": {},
   "source": [
    "## Ejercicio4. \n",
    "\n",
    "### Dada la siguientes definiciones para A y v, explicar ¿Qué pasos sigue NumPy para realizar esta suma y cómo afecta el resultado final?\"\n",
    "\n",
    "```Python\n",
    "import numpy as np\n",
    "\n",
    "# Crear un vector de longitud 3\n",
    "v = np.array([1, 2, 3])\n",
    "\n",
    "# Crear una matriz 2x3\n",
    "A = np.array([[4, 5, 6],\n",
    "              [7, 8, 9]])\n",
    "\n",
    "# Multiplicar el vector por la matriz\n",
    "B = v * A\n",
    "\n",
    "print(B)\n",
    "```"
   ]
  },
  {
   "cell_type": "markdown",
   "metadata": {},
   "source": [
    "<span style=\"color:lightgreen;\">Se comparan las formas de **A (2,3)** y **v (3,)**. Dado que **A** es más grande, se busca igualar **v** estirando sus elementos en el eje de las filas hasta llegar a una matriz de forma **(2,3)**. Luego el producto Hadamard se hace normalmente</span>\n"
   ]
  },
  {
   "cell_type": "code",
   "execution_count": 8,
   "metadata": {},
   "outputs": [
    {
     "data": {
      "text/plain": [
       "array([[ 4, 10, 18],\n",
       "       [ 7, 16, 27]])"
      ]
     },
     "execution_count": 8,
     "metadata": {},
     "output_type": "execute_result"
    }
   ],
   "source": [
    "v = np.array([1, 2, 3])\n",
    "\n",
    "# Crear una matriz 2x3\n",
    "A = np.array([[4, 5, 6],\n",
    "              [7, 8, 9]])\n",
    "\n",
    "# Multiplicar el vector por la matriz\n",
    "B = v * A\n",
    "B"
   ]
  },
  {
   "cell_type": "markdown",
   "metadata": {},
   "source": [
    "## Ejercicio5. \n",
    "\n",
    "### Dada la siguientes definiciones para A y v, explicar ¿Qué pasos sigue NumPy para realizar esta suma y cómo afecta el resultado final?\"\n",
    "\n",
    "```Python\n",
    "import numpy as np\n",
    "\n",
    "# Crear una matriz 4x3\n",
    "A = np.array([[1, 2, 3],\n",
    "              [4, 5, 6],\n",
    "              [7, 8, 9],\n",
    "              [10, 11, 12]])\n",
    "\n",
    "\n",
    "mean1 = A.mean(axis=0)\n",
    "print(mean1)\n",
    "\n",
    "mean2 = A.mean(axis=0, keepdims=True)\n",
    "print(mean2)\n",
    "\n",
    "\n",
    "mean3 = A.mean(axis=1)\n",
    "print(mean3)\n",
    "\n",
    "mean4 = A.mean(axis=1, keepdims=True)\n",
    "print(mean4)\n",
    "\n",
    "```"
   ]
  },
  {
   "cell_type": "markdown",
   "metadata": {},
   "source": [
    "<span style=\"color:lightgreen;\">**mean1** calcula las medias de cada una de las columnas, el resultado es un vector **(3,)**</br>**mean2** hace lo mismo pero su resultado mantiene las dimensiones originales, por lo que es una matriz **(1,3)**</br>**mean3** calcula las medias pero de cada una de las filas, el resultado es un vector con forma **(4,)**</br>**mean4** hace lo mismo que **mean3** pero al conservar la misma dimensión que la matriz original, el resultado lo da con forma **(4,1)**</span>"
   ]
  },
  {
   "cell_type": "code",
   "execution_count": null,
   "metadata": {},
   "outputs": [
    {
     "name": "stdout",
     "output_type": "stream",
     "text": [
      "[5.5 6.5 7.5]\n",
      "[[5.5 6.5 7.5]]\n",
      "[ 2.  5.  8. 11.]\n",
      "[[ 2.]\n",
      " [ 5.]\n",
      " [ 8.]\n",
      " [11.]]\n",
      "(4, 1)\n"
     ]
    }
   ],
   "source": [
    "A = np.array([[1, 2, 3],\n",
    "              [4, 5, 6],\n",
    "              [7, 8, 9],\n",
    "              [10, 11, 12]])\n",
    "\n",
    "\n",
    "mean1 = A.mean(axis=0)\n",
    "print(mean1)\n",
    "\n",
    "mean2 = A.mean(axis=0, keepdims=True)\n",
    "print(mean2)\n",
    "\n",
    "mean3 = A.mean(axis=1)\n",
    "print(mean3)\n",
    "\n",
    "mean4 = A.mean(axis=1, keepdims=True)\n",
    "print(mean4)"
   ]
  },
  {
   "cell_type": "markdown",
   "metadata": {},
   "source": [
    "## Ejercicio6. \n",
    "\n",
    "## En este ejemplo de normalización de filas presentado, explica cómo se realiza el broadcasting para restar la media y dividir por la desviación estándar en cada fila de la matriz. Detalla cómo NumPy ajusta las dimensiones de los arreglos mean y std para permitir estas operaciones. Si es el caso, indicar cómo se expanden las dimensiones y replican los datos.\n",
    "\n",
    "```Python\n",
    "import numpy as np\n",
    "# Crear una matriz 4x3\n",
    "A = np.array([[1, 2, 3],\n",
    "              [4, 5, 6],\n",
    "              [7, 8, 9],\n",
    "              [10, 11, 12]])\n",
    "\n",
    "# Calcular la media \n",
    "mean = A.mean(axis=1, keepdims=True)\n",
    "\n",
    "# Calcular la desviación estándar\n",
    "std = A.std(axis=1, keepdims=True)\n",
    "\n",
    "# Normalizar  (restar la media y dividir por la desviación estándar)\n",
    "B = (A - mean) / std\n",
    "\n",
    "print(B)\n",
    "\n",
    "```"
   ]
  },
  {
   "cell_type": "markdown",
   "metadata": {},
   "source": [
    "<span style=\"color:lightgreen;\">Se compara la dimension de **A (4,3)** y **mean (4,1)**, ya que **A** es la más grande se busca igualar **mean** en dimensiones, primero se le agregan dimensiones hasta llegar a la forma **(3,4)** y el vector columna es duplicado en las demas columnas. En este punto se hace la resta de **A** con **mean**. Esta operación da como resultado una matriz **(4,3)** por lo que ahora se compara con **std**. El proceso que ocurre es el mismo que pasó con **A**, al ser la más grande se busca incrementar la dimensión de **std (4,1)** y al igual que con **mean**  se incrementa a **(4,3)** y se duplican los datos de las columnas. Finalmente se realiza la operación de división.</span>"
   ]
  },
  {
   "cell_type": "code",
   "execution_count": null,
   "metadata": {},
   "outputs": [
    {
     "name": "stdout",
     "output_type": "stream",
     "text": [
      "[[0.81649658]\n",
      " [0.81649658]\n",
      " [0.81649658]\n",
      " [0.81649658]]\n",
      "[[-1.22474487  0.          1.22474487]\n",
      " [-1.22474487  0.          1.22474487]\n",
      " [-1.22474487  0.          1.22474487]\n",
      " [-1.22474487  0.          1.22474487]]\n"
     ]
    }
   ],
   "source": [
    "A = np.array([[1, 2, 3],\n",
    "              [4, 5, 6],\n",
    "              [7, 8, 9],\n",
    "              [10, 11, 12]])\n",
    "\n",
    "# Calcular la media \n",
    "mean = A.mean(axis=1, keepdims=True)\n",
    "\n",
    "# Calcular la desviación estándar\n",
    "std = A.std(axis=1, keepdims=True)\n",
    "\n",
    "# Normalizar  (restar la media y dividir por la desviación estándar)\n",
    "B = (A - mean) / std\n",
    "\n",
    "print(B)"
   ]
  },
  {
   "cell_type": "markdown",
   "metadata": {},
   "source": [
    "# Ejercicio7\n",
    "\n",
    "### En el ejemplo de cálculo de la distancia euclidiana, explica cómo se utiliza el broadcasting para restar el reference_point de todos los puntos en la matriz points. Además, describe cómo se aplica el broadcasting en la operación de elevación al cuadrado y la suma de los componentes para calcular la distancia.\n",
    "\n",
    "### - Práctica: Adicionalmente, después de realizar la actividad anterior, modificar el programa para que el resultado mantenga la forma de la matriz original. \n",
    "\n",
    "\n",
    "\n",
    "### La ecuación de la distancia euclidiana entre dos puntos $ A = (x_1, y_1) $ y $ B = (x_2, y_2) $ en un espacio 2D es:\n",
    "\n",
    "\n",
    "</br>\n",
    "\n",
    "$\n",
    "\\Large d(A, B) = \\sqrt{(x_2 - x_1)^2 + (y_2 - y_1)^2}\n",
    "$\n",
    "\n",
    "</br>\n",
    "\n",
    "\n",
    "```Python\n",
    "import numpy as np\n",
    "\n",
    "# Crear una matriz 5x2 donde cada fila es un punto (x, y) en 2D\n",
    "points = np.array([[1, 2],\n",
    "                   [3, 4],\n",
    "                   [5, 6],\n",
    "                   [7, 8],\n",
    "                   [9, 10]])\n",
    "\n",
    "# Definir un punto de referencia en 2D\n",
    "reference_point = np.array([4, 5])\n",
    "\n",
    "# Calcular la distancia euclidiana entre cada punto y el punto de referencia\n",
    "distances = np.sqrt(np.sum((points - reference_point) ** 2, axis=1))\n",
    "\n",
    "print(distances)\n",
    "\n",
    "```"
   ]
  },
  {
   "cell_type": "markdown",
   "metadata": {},
   "source": [
    "<span style=\"color:lightgreen;\">Se compara la dimension de **points (5,2)** y **reference_point (2,)**, ya que **points** es la más grande se busca igualar **reference_point** en dimensiones, primero se le agrega una dimensión hasta llegar a la forma **(1,2)**. La matriz ahora se incrementa en dimensión una vez más con forma **(5,2)** y se duplican las filas. En este punto se hace la resta de **points** con **reference_point**. Al resultado con forma **(5,2)** se compara con el escalar 2. En este caso el escalar pasa a ser primero un vector **(1,)** y luego un vector **(1,2)** duplicando el dato; ahora pasa a la forma **(5,2)** y se duplican las filas. La operación se hace normalmente.</span>"
   ]
  },
  {
   "cell_type": "code",
   "execution_count": 35,
   "metadata": {},
   "outputs": [
    {
     "name": "stdout",
     "output_type": "stream",
     "text": [
      "[[4.24264069]\n",
      " [1.41421356]\n",
      " [1.41421356]\n",
      " [4.24264069]\n",
      " [7.07106781]]\n"
     ]
    }
   ],
   "source": [
    "points = np.array([[1, 2],\n",
    "                   [3, 4],\n",
    "                   [5, 6],\n",
    "                   [7, 8],\n",
    "                   [9, 10]])\n",
    "\n",
    "# Definir un punto de referencia en 2D\n",
    "reference_point = np.array([4, 5])\n",
    "\n",
    "# Calcular la distancia euclidiana entre cada punto y el punto de referencia\n",
    "distances = np.sqrt(np.sum((points - reference_point) ** 2, axis=1, keepdims=True))\n",
    "\n",
    "print(distances)\n"
   ]
  },
  {
   "cell_type": "markdown",
   "metadata": {},
   "source": [
    "# Representación de datos $X$, pesos $W$,  sesgos $B$ ($bias$) y neuronas en el contexto de redes neuronales\n",
    "\n",
    "<img src=\"figs/fig-repr_red_neuronal.png\" width=\"500\">\n",
    "\n",
    "\n",
    "## En las siguientes representaciones, \n",
    " - ### $X$ : representa un conjunto de datos;  cada fila es un ejemplo y cada elemento (columna) representan una característica de los datos de entrenamiento, por ejemplo $x_{11}$\n",
    "\n",
    "</br>\n",
    "\n",
    "$$\n",
    "\\mathbf{X} = \\begin{bmatrix}\n",
    "x_{11} & x_{12} & \\cdots & x_{1n} \\\\\n",
    "x_{21} & x_{22} & \\cdots & x_{2n} \\\\\n",
    "\\vdots & \\vdots & \\ddots & \\vdots \\\\\n",
    "x_{m1} & x_{m2} & \\cdots & x_{mn} \\\\\n",
    "\\end{bmatrix} \\in \\mathbb{R}^{m \\times n}\n",
    "\n",
    "$$\n",
    "\n",
    "</br>\n",
    "\n",
    " - ### $W$ : representa un conjunto de neuronas; cada fila es una reurona y cada cada elemento (columna) representan un peso $w_{ik}$; neurona $i$; característica $k$\n",
    "\n",
    "</br>\n",
    "\n",
    "$$\n",
    "\\mathbf{W} = \\begin{bmatrix}\n",
    "w_{11} & w_{12} & \\cdots & w_{1n} \\\\\n",
    "w_{21} & w_{22} & \\cdots & w_{2n} \\\\\n",
    "\\vdots & \\vdots & \\ddots & \\vdots \\\\\n",
    "w_{m1} & w_{m2} & \\cdots & w_{mn} \\\\\n",
    "\\end{bmatrix} \\in \\mathbb{R}^{m \\times n}\n",
    "$$\n",
    "\n",
    "</br>\n",
    "\n",
    " - ### La neurona $N_1$ esta definida por la fila 1 de la matriz de pesos $W$: \n",
    "    $$ N_1 = \\begin{bmatrix}w_{11} & w_{12} & \\cdots & w_{1n}\\end{bmatrix}$$\n",
    "\n",
    "</br>\n",
    "\n",
    "### La salida de cada neurona para la imagen del ejemplo se calcularía de la siguiente forma:\n",
    "\n",
    "\n",
    "</br>\n",
    "\n",
    "$$\n",
    "    \\mathbf{Y} =  \\mathbf{X} \\cdot\\mathbf{W}^\\top + \\mathbf{B} = \n",
    "    \\begin{bmatrix}\n",
    "    x_1 & x_2 & x_3 & x_4 \n",
    "    \\end{bmatrix}\n",
    "    \\cdot\n",
    "    \\begin{bmatrix}\n",
    "    w_{11} & w_{21} \\\\\n",
    "    w_{12} & w_{22} \\\\\n",
    "    w_{13} & w_{23} \\\\\n",
    "    w_{14} & w_{24}\n",
    "    \\end{bmatrix}\n",
    "    \n",
    "    +\n",
    "    \\begin{bmatrix}\n",
    "    b_1 & b_2 \n",
    "    \\end{bmatrix}\n",
    "\n",
    "$$\n",
    "\n",
    "</br>\n",
    "</br>\n",
    "\n",
    "\n",
    "$$\n",
    "\\mathbf{Y} = \\mathbf{X} \\cdot \\mathbf{W}^\\top + \\mathbf{B} = \n",
    "\\begin{bmatrix}\n",
    "y_1 & y_2\n",
    "\\end{bmatrix}\n",
    "= \n",
    "\\begin{bmatrix}\n",
    "(x_1 w_{11} + x_2 w_{12} + x_3 w_{13} + x_4 w_{14}) + b_1 & (x_1 w_{21} + x_2 w_{22} + x_3 w_{23} + x_4 w_{24}) + b_2\n",
    "\\end{bmatrix}\n",
    "$$\n",
    "\n",
    "</br>\n",
    "</br>\n",
    "\n",
    "$$\n",
    "\n",
    "\\mathbf{y_1}  =  (x_1 w_{11} + x_2 w_{12} + x_3 w_{13} + x_4 w_{14}) + b_1\n",
    "\n",
    "$$\n",
    "\n",
    "$$\n",
    "\n",
    "\\mathbf{y_2}  =  (x_1 w_{21} + x_2 w_{22} + x_3 w_{23} + x_4 w_{24}) + b_2\n",
    "\n",
    "$$\n",
    "\n"
   ]
  },
  {
   "cell_type": "markdown",
   "metadata": {},
   "source": [
    "# Ejercicio"
   ]
  },
  {
   "cell_type": "markdown",
   "metadata": {},
   "source": [
    "## Para los siguientes datos, calcular la operación de cada neurona.\n",
    "## Ejercicio1: \n",
    "- ### Hacer el cálculo para una capa de una red neuronal con el siguiente ejemplo de entrenamiento que contiene 10 características\n",
    "- ### Definir la matriz de neuronas-pesos $W$ con 2 neuronas, inicializarla de forma aleatoria\n",
    "- ### Definir el vector de sesgos $B$ inicializarlo de manera aleatoria\n",
    "\n",
    "$$ \n",
    "\\mathbf{X} = \\begin{bmatrix}\n",
    "1.2 & 0.5 & -0.8 & 2.1 & -1.5 & 0.3 & 1.8 & -0.2 & 0.9 & 1.1 \\\\\n",
    "\\end{bmatrix} \\in \\mathbb{R}^{1 \\times 10}\n",
    "$$\n",
    "\n",
    "</br>\n",
    "</br>\n",
    "</br>\n",
    "\n",
    "## Ejercicio2: \n",
    "- ### Hacer el cálculo para una capa de una red neuronal con el siguiente conjunto  de entrenamiento (3 ejemplos) que contiene 5 características\n",
    "- ### Definir la matriz de neuronas-pesos $W$ con 2 neuronas, inicializarla de forma aleatoria\n",
    "- ### Definir el vector de sesgos $B$ inicializarlo de manera aleatoria\n",
    "\n",
    "\n",
    "$$ \n",
    "\\mathbf{X} = \\begin{bmatrix}\n",
    "1.2 & 0.5 & -0.8 & 2.1 & -1.5  \\\\\n",
    "0.8 & 1.2 & -0.3 & 1.5 & -0.8  \\\\\n",
    "-0.5 & 1.8 & 0.2 & 0.9 & -1.2  \\\\\n",
    "\\end{bmatrix} \\in \\mathbb{R}^{3 \\times 5}\n",
    "$$\n"
   ]
  },
  {
   "cell_type": "code",
   "execution_count": null,
   "metadata": {},
   "outputs": [
    {
     "name": "stdout",
     "output_type": "stream",
     "text": [
      "X =\n",
      "[ 1.2  0.5 -0.8  2.1 -1.5  0.3  1.8 -0.2  0.9  1.1]\n",
      "W =\n",
      "[[0.80395328 0.33881425 0.37207637 0.63494682 0.04450071 0.43537048\n",
      "  0.44717424 0.8962045  0.84572727 0.60182573]\n",
      " [0.80327662 0.22998242 0.44773362 0.48986366 0.13825427 0.97506632\n",
      "  0.87919152 0.03653238 0.50986106 0.96455705]]\n",
      "B =\n",
      "[0.08477496 0.55583302]\n",
      "\n",
      "X(W^T) + B = [4.36734889 5.48554742]\n"
     ]
    }
   ],
   "source": [
    "X = np.array([1.2, 0.5, -0.8, 2.1, -1.5, 0.3, 1.8, -0.2, 0.9, 1.1])\n",
    "W = np.random.rand(2,10)\n",
    "B = np.random.rand(2)\n",
    "\n",
    "print(f'X =\\n{X}\\nW =\\n{W}\\nB =\\n{B}\\n\\nX(W^T) + B = {(X@W.T) + B}')\n"
   ]
  },
  {
   "cell_type": "code",
   "execution_count": 51,
   "metadata": {},
   "outputs": [
    {
     "name": "stdout",
     "output_type": "stream",
     "text": [
      "X =\n",
      "[[ 1.2  0.5 -0.8  2.1 -1.5  0.3  1.8 -0.2  0.9  1.1]\n",
      " [ 0.8  1.2 -0.3  1.5 -0.8  0.6  2.1  0.1  1.2  0.7]\n",
      " [-0.5  1.8  0.2  0.9 -1.2  1.1  0.4 -0.3  0.8  1.5]]\n",
      "W =\n",
      "[[0.61828576 0.81270378 0.33553189 0.67255556 0.83223356 0.89767342\n",
      "  0.0811348  0.97206882 0.92489538 0.44042254]\n",
      " [0.13038883 0.26483378 0.09514136 0.34258216 0.0774024  0.99294112\n",
      "  0.39995743 0.94818061 0.25106671 0.29666139]]\n",
      "B =\n",
      "[0.41328701 0.0913158 ]\n",
      "\n",
      "X(W^T) + B = [[2.99497419 2.28786228]\n",
      " [4.34991134 2.97627267]\n",
      " [3.3695612  2.35090099]]\n"
     ]
    }
   ],
   "source": [
    "X = np.array([\n",
    "    [1.2,  0.5, -0.8,  2.1, -1.5,  0.3,  1.8, -0.2,  0.9,  1.1],\n",
    "    [0.8,  1.2, -0.3,  1.5, -0.8,  0.6,  2.1,  0.1,  1.2,  0.7],\n",
    "    [-0.5, 1.8,  0.2,  0.9, -1.2,  1.1,  0.4, -0.3,  0.8,  1.5]\n",
    "])\n",
    "W = np.random.rand(2,10)\n",
    "B = np.random.rand(2)\n",
    "\n",
    "print(f'X =\\n{X}\\nW =\\n{W}\\nB =\\n{B}\\n\\nX(W^T) + B = {(X@W.T) + B}')\n"
   ]
  }
 ],
 "metadata": {
  "kernelspec": {
   "display_name": "RNA",
   "language": "python",
   "name": "python3"
  },
  "language_info": {
   "codemirror_mode": {
    "name": "ipython",
    "version": 3
   },
   "file_extension": ".py",
   "mimetype": "text/x-python",
   "name": "python",
   "nbconvert_exporter": "python",
   "pygments_lexer": "ipython3",
   "version": "3.13.5"
  }
 },
 "nbformat": 4,
 "nbformat_minor": 2
}
