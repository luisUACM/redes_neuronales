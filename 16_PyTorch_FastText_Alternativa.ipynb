{
 "cells": [
  {
   "cell_type": "markdown",
   "metadata": {},
   "source": [
    "# Alternativa para usar word embeddings de FastText"
   ]
  },
  {
   "cell_type": "code",
   "execution_count": null,
   "metadata": {},
   "outputs": [],
   "source": [
    "!pip install torchtext"
   ]
  },
  {
   "cell_type": "markdown",
   "metadata": {},
   "source": [
    "## Cargar el modelo a partir de los vectores de texto"
   ]
  },
  {
   "cell_type": "code",
   "execution_count": null,
   "metadata": {},
   "outputs": [],
   "source": [
    "import torchtext.vocab as vocab\n",
    "\n",
    "fasttext = vocab.Vectors(name='/Volumes/data/temp/cc.es.300.vec')\n"
   ]
  },
  {
   "cell_type": "code",
   "execution_count": null,
   "metadata": {},
   "outputs": [],
   "source": [
    "fasttext.get_vecs_by_tokens(\"hola\")"
   ]
  },
  {
   "cell_type": "code",
   "execution_count": null,
   "metadata": {},
   "outputs": [],
   "source": []
  },
  {
   "cell_type": "code",
   "execution_count": null,
   "metadata": {},
   "outputs": [],
   "source": [
    "import numpy as np\n",
    "import torch\n",
    "\n",
    "# Cáculo de la norma del vector\n",
    "def l2_norm(x):\n",
    "   return torch.sqrt(torch.sum(x**2))\n",
    "\n",
    "# normalizar el vector \n",
    "def vector_normalize(x):\n",
    "   norm_value = l2_norm(x)\n",
    "   if norm_value > 0:\n",
    "       return x * ( 1.0 / norm_value)\n",
    "   else:\n",
    "       return x\n",
    "\n",
    "# Obtener los vectores \n",
    "vec1 = fasttext.get_vecs_by_tokens('hola')\n",
    "vec2 = fasttext.get_vecs_by_tokens('mundo')\n",
    "eos = fasttext.get_vecs_by_tokens('\\n')  # Fin de oración\n",
    "# promediarlos \n",
    "vectores_prom = (vector_normalize(vec1) + vector_normalize(vec2) + vector_normalize(eos)) / 3"
   ]
  },
  {
   "cell_type": "code",
   "execution_count": null,
   "metadata": {},
   "outputs": [],
   "source": [
    "vectores_prom"
   ]
  },
  {
   "cell_type": "code",
   "execution_count": null,
   "metadata": {},
   "outputs": [],
   "source": [
    "\n",
    "import torch\n",
    "from torchtext.vocab import Vocab\n",
    "\n",
    "vocab = fasttext\n",
    "# Mapear las palabras a sus correspondientes vectores\n",
    "embedding_size = 300\n",
    "weight = torch.zeros(len(vocab), embedding_size)\n",
    "for i, word in enumerate(vocab.itos):\n",
    "    if word in fasttext.stoi:\n",
    "        weight[i] = torch.Tensor(fasttext.vectors[fasttext.stoi[word]])\n",
    "        \n"
   ]
  },
  {
   "cell_type": "code",
   "execution_count": null,
   "metadata": {},
   "outputs": [],
   "source": [
    "fasttext.stoi[\"hola\"],  fasttext.vectors[fasttext.stoi[\"hola\"]]\n"
   ]
  }
 ],
 "metadata": {
  "kernelspec": {
   "display_name": "PT",
   "language": "python",
   "name": "python3"
  },
  "language_info": {
   "codemirror_mode": {
    "name": "ipython",
    "version": 3
   },
   "file_extension": ".py",
   "mimetype": "text/x-python",
   "name": "python",
   "nbconvert_exporter": "python",
   "pygments_lexer": "ipython3",
   "version": "3.12.3"
  }
 },
 "nbformat": 4,
 "nbformat_minor": 2
}
