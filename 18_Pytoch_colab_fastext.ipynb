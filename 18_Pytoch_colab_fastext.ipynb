{
 "cells": [
  {
   "cell_type": "markdown",
   "metadata": {},
   "source": [
    "# Entrenamiento de una red neuronal con word emmbeddings en COLAB"
   ]
  },
  {
   "cell_type": "markdown",
   "metadata": {},
   "source": [
    "# Entrar a colab\n",
    "https://colab.research.google.com/"
   ]
  },
  {
   "cell_type": "code",
   "execution_count": null,
   "metadata": {},
   "outputs": [],
   "source": []
  },
  {
   "cell_type": "markdown",
   "metadata": {},
   "source": [
    "# Crear un notebook e instalar fasttext\n"
   ]
  },
  {
   "cell_type": "code",
   "execution_count": 1,
   "metadata": {
    "colab": {
     "base_uri": "https://localhost:8080/"
    },
    "executionInfo": {
     "elapsed": 82198,
     "status": "ok",
     "timestamp": 1732245843492,
     "user": {
      "displayName": "Sabino Miranda Jimenez",
      "userId": "07512468615211987324"
     },
     "user_tz": 360
    },
    "id": "gWOfIB0p49J3",
    "outputId": "88d75b9c-f0d5-49aa-b001-e6ea533d1f0a"
   },
   "outputs": [
    {
     "name": "stdout",
     "output_type": "stream",
     "text": [
      "Collecting fasttext\n",
      "  Downloading fasttext-0.9.3.tar.gz (73 kB)\n",
      "\u001b[?25l     \u001b[90m━━━━━━━━━━━━━━━━━━━━━━━━━━━━━━━━━━━━━━━━\u001b[0m \u001b[32m0.0/73.4 kB\u001b[0m \u001b[31m?\u001b[0m eta \u001b[36m-:--:--\u001b[0m\r\u001b[2K     \u001b[90m━━━━━━━━━━━━━━━━━━━━━━━━━━━━━━━━━━━━━━━━\u001b[0m \u001b[32m73.4/73.4 kB\u001b[0m \u001b[31m4.0 MB/s\u001b[0m eta \u001b[36m0:00:00\u001b[0m\n",
      "\u001b[?25h  Installing build dependencies ... \u001b[?25l\u001b[?25hdone\n",
      "  Getting requirements to build wheel ... \u001b[?25l\u001b[?25hdone\n",
      "  Preparing metadata (pyproject.toml) ... \u001b[?25l\u001b[?25hdone\n",
      "Collecting pybind11>=2.2 (from fasttext)\n",
      "  Using cached pybind11-2.13.6-py3-none-any.whl.metadata (9.5 kB)\n",
      "Requirement already satisfied: setuptools>=0.7.0 in /usr/local/lib/python3.10/dist-packages (from fasttext) (75.1.0)\n",
      "Requirement already satisfied: numpy in /usr/local/lib/python3.10/dist-packages (from fasttext) (1.26.4)\n",
      "Using cached pybind11-2.13.6-py3-none-any.whl (243 kB)\n",
      "Building wheels for collected packages: fasttext\n",
      "  Building wheel for fasttext (pyproject.toml) ... \u001b[?25l\u001b[?25hdone\n",
      "  Created wheel for fasttext: filename=fasttext-0.9.3-cp310-cp310-linux_x86_64.whl size=4296182 sha256=621efeec37db8c1ade85dd9f2cd9b4b300d40b03e63201c9ce84b6d60b3d9775\n",
      "  Stored in directory: /root/.cache/pip/wheels/0d/a2/00/81db54d3e6a8199b829d58e02cec2ddb20ce3e59fad8d3c92a\n",
      "Successfully built fasttext\n",
      "Installing collected packages: pybind11, fasttext\n",
      "Successfully installed fasttext-0.9.3 pybind11-2.13.6\n"
     ]
    }
   ],
   "source": [
    "!pip install fasttext"
   ]
  },
  {
   "cell_type": "markdown",
   "metadata": {},
   "source": [
    "# Descargar los word embeddings de la página siguiente\n",
    "https://ingeotec.github.io/regional-spanish-models/\n",
    "\n",
    "### México\n",
    "\n",
    "http://geo.ingeotec.mx/~sadit/regional-spanish-models/MX.bin\n",
    "\n",
    "### España\n",
    "\n",
    "http://geo.ingeotec.mx/~sadit/regional-spanish-models/ES.bin"
   ]
  },
  {
   "cell_type": "markdown",
   "metadata": {},
   "source": [
    "### Descargar el archivo MX.bin con el comando wget"
   ]
  },
  {
   "cell_type": "code",
   "execution_count": 2,
   "metadata": {
    "colab": {
     "base_uri": "https://localhost:8080/"
    },
    "executionInfo": {
     "elapsed": 1237396,
     "status": "ok",
     "timestamp": 1732247300557,
     "user": {
      "displayName": "Sabino Miranda Jimenez",
      "userId": "07512468615211987324"
     },
     "user_tz": 360
    },
    "id": "U0PxBsCU5gBS",
    "outputId": "273e5a35-b782-4013-af6a-64b0be8ea50d"
   },
   "outputs": [
    {
     "name": "stdout",
     "output_type": "stream",
     "text": [
      "--2024-11-22 03:27:43--  http://geo.ingeotec.mx/~sadit/regional-spanish-models/MX.bin\n",
      "Resolving geo.ingeotec.mx (geo.ingeotec.mx)... 189.254.229.114\n",
      "Connecting to geo.ingeotec.mx (geo.ingeotec.mx)|189.254.229.114|:80... connected.\n",
      "HTTP request sent, awaiting response... 200 OK\n",
      "Length: 3459385830 (3.2G) [application/octet-stream]\n",
      "Saving to: ‘MX.bin’\n",
      "\n",
      "MX.bin              100%[===================>]   3.22G  2.45MB/s    in 20m 37s \n",
      "\n",
      "2024-11-22 03:48:20 (2.67 MB/s) - ‘MX.bin’ saved [3459385830/3459385830]\n",
      "\n"
     ]
    }
   ],
   "source": [
    "!wget http://geo.ingeotec.mx/~sadit/regional-spanish-models/MX.bin\n",
    "\n"
   ]
  },
  {
   "cell_type": "markdown",
   "metadata": {},
   "source": [
    "### Descargar el archivo ES.bin con el comando wget"
   ]
  },
  {
   "cell_type": "code",
   "execution_count": 23,
   "metadata": {
    "colab": {
     "base_uri": "https://localhost:8080/"
    },
    "executionInfo": {
     "elapsed": 107961,
     "status": "ok",
     "timestamp": 1732248270773,
     "user": {
      "displayName": "Sabino Miranda Jimenez",
      "userId": "07512468615211987324"
     },
     "user_tz": 360
    },
    "id": "-cwFHcV7CS2P",
    "outputId": "6a8584b5-2c2d-431a-e490-7d697360583d"
   },
   "outputs": [
    {
     "name": "stdout",
     "output_type": "stream",
     "text": [
      "--2024-11-22 04:02:42--  http://geo.ingeotec.mx/~sadit/regional-spanish-models/ES.bin\n",
      "Resolving geo.ingeotec.mx (geo.ingeotec.mx)... 189.254.229.114\n",
      "Connecting to geo.ingeotec.mx (geo.ingeotec.mx)|189.254.229.114|:80... connected.\n",
      "HTTP request sent, awaiting response... 200 OK\n",
      "Length: 3781144874 (3.5G) [application/octet-stream]\n",
      "Saving to: ‘ES.bin’\n",
      "\n",
      "ES.bin                8%[>                   ] 319.04M  1.96MB/s    eta 18m 24s^C\n"
     ]
    }
   ],
   "source": [
    "!wget http://geo.ingeotec.mx/~sadit/regional-spanish-models/ES.bin"
   ]
  },
  {
   "cell_type": "markdown",
   "metadata": {},
   "source": [
    "### Mostrar el contenido del directorio con el comando ls"
   ]
  },
  {
   "cell_type": "code",
   "execution_count": null,
   "metadata": {},
   "outputs": [],
   "source": [
    "!ls"
   ]
  },
  {
   "cell_type": "markdown",
   "metadata": {},
   "source": [
    "### Cargar el modelo de word embeddings"
   ]
  },
  {
   "cell_type": "code",
   "execution_count": 11,
   "metadata": {
    "colab": {
     "base_uri": "https://localhost:8080/"
    },
    "executionInfo": {
     "elapsed": 18951,
     "status": "ok",
     "timestamp": 1732247987726,
     "user": {
      "displayName": "Sabino Miranda Jimenez",
      "userId": "07512468615211987324"
     },
     "user_tz": 360
    },
    "id": "V0cEIMp-6Sxj",
    "outputId": "a2301878-2af4-4b23-8226-52ba9813e538"
   },
   "outputs": [
    {
     "name": "stdout",
     "output_type": "stream",
     "text": [
      "CPU times: user 4 µs, sys: 0 ns, total: 4 µs\n",
      "Wall time: 8.58 µs\n"
     ]
    }
   ],
   "source": [
    "import fasttext\n",
    "\n",
    "%time\n",
    "ft = fasttext.load_model(\"/content/MX.bin\")"
   ]
  },
  {
   "cell_type": "markdown",
   "metadata": {},
   "source": [
    "### Mostrar la ruta del directorio actual del sistema operativo"
   ]
  },
  {
   "cell_type": "code",
   "execution_count": 5,
   "metadata": {
    "colab": {
     "base_uri": "https://localhost:8080/"
    },
    "executionInfo": {
     "elapsed": 235,
     "status": "ok",
     "timestamp": 1732247513934,
     "user": {
      "displayName": "Sabino Miranda Jimenez",
      "userId": "07512468615211987324"
     },
     "user_tz": 360
    },
    "id": "zx1DKk30_1p1",
    "outputId": "585e7b76-c00e-4da6-e90a-3ca5579e8377"
   },
   "outputs": [
    {
     "name": "stdout",
     "output_type": "stream",
     "text": [
      "/content\n"
     ]
    }
   ],
   "source": [
    "!pwd"
   ]
  },
  {
   "cell_type": "markdown",
   "metadata": {},
   "source": [
    "### Mostrar el sistema operativo que se está utilizando"
   ]
  },
  {
   "cell_type": "code",
   "execution_count": 32,
   "metadata": {
    "colab": {
     "base_uri": "https://localhost:8080/"
    },
    "executionInfo": {
     "elapsed": 604,
     "status": "ok",
     "timestamp": 1732249373613,
     "user": {
      "displayName": "Sabino Miranda Jimenez",
      "userId": "07512468615211987324"
     },
     "user_tz": 360
    },
    "id": "vR9PDzF_GmYw",
    "outputId": "7b4ab75e-43be-4c3d-aa3d-dacee42369da"
   },
   "outputs": [
    {
     "name": "stdout",
     "output_type": "stream",
     "text": [
      "No LSB modules are available.\n",
      "Distributor ID:\tUbuntu\n",
      "Description:\tUbuntu 22.04.3 LTS\n",
      "Release:\t22.04\n",
      "Codename:\tjammy\n"
     ]
    }
   ],
   "source": [
    "\n",
    "!lsb_release -a"
   ]
  },
  {
   "cell_type": "markdown",
   "metadata": {},
   "source": [
    "### Montar la unidad de google drive de la cuenta personal"
   ]
  },
  {
   "cell_type": "code",
   "execution_count": 7,
   "metadata": {
    "colab": {
     "base_uri": "https://localhost:8080/"
    },
    "executionInfo": {
     "elapsed": 26420,
     "status": "ok",
     "timestamp": 1732247893505,
     "user": {
      "displayName": "Sabino Miranda Jimenez",
      "userId": "07512468615211987324"
     },
     "user_tz": 360
    },
    "id": "bwet2K1jBLUs",
    "outputId": "75a3c324-c43f-466b-dede-ebdec0424514"
   },
   "outputs": [
    {
     "name": "stdout",
     "output_type": "stream",
     "text": [
      "Mounted at /content/gdrive\n"
     ]
    }
   ],
   "source": [
    "from google.colab import drive\n",
    "drive.mount('/content/gdrive')"
   ]
  },
  {
   "cell_type": "markdown",
   "metadata": {},
   "source": [
    "### Mostrar los archivos del directorio actual"
   ]
  },
  {
   "cell_type": "code",
   "execution_count": 25,
   "metadata": {
    "colab": {
     "base_uri": "https://localhost:8080/"
    },
    "executionInfo": {
     "elapsed": 190,
     "status": "ok",
     "timestamp": 1732248274096,
     "user": {
      "displayName": "Sabino Miranda Jimenez",
      "userId": "07512468615211987324"
     },
     "user_tz": 360
    },
    "id": "N_ExdxvMCsrJ",
    "outputId": "933456cd-fb55-40cf-9dec-f624de765416"
   },
   "outputs": [
    {
     "name": "stdout",
     "output_type": "stream",
     "text": [
      "drive  ES.bin  gdrive  MX.bin  sample_data\n"
     ]
    }
   ],
   "source": [
    "!ls"
   ]
  },
  {
   "cell_type": "markdown",
   "metadata": {
    "id": "tztvABQjC9ub"
   },
   "source": [
    "### Mostrar los datos que hay en la carpeta My drive, en la cuenta de Google."
   ]
  },
  {
   "cell_type": "code",
   "execution_count": 4,
   "metadata": {
    "colab": {
     "base_uri": "https://localhost:8080/"
    },
    "executionInfo": {
     "elapsed": 183,
     "status": "ok",
     "timestamp": 1732248324292,
     "user": {
      "displayName": "Sabino Miranda Jimenez",
      "userId": "07512468615211987324"
     },
     "user_tz": 360
    },
    "id": "PC5SG72vCxwt",
    "outputId": "b99eab95-012b-44ba-be85-ae9e2d33f367"
   },
   "outputs": [
    {
     "name": "stdout",
     "output_type": "stream",
     "text": [
      "ls: gdrive/My Drive: No such file or directory\n"
     ]
    }
   ],
   "source": [
    "!ls \"gdrive/My Drive\"\n"
   ]
  },
  {
   "cell_type": "markdown",
   "metadata": {},
   "source": [
    "### Definición de la carga de datos y entrenamiento de la red"
   ]
  },
  {
   "cell_type": "code",
   "execution_count": 9,
   "metadata": {
    "colab": {
     "base_uri": "https://localhost:8080/"
    },
    "executionInfo": {
     "elapsed": 226,
     "status": "ok",
     "timestamp": 1732247925333,
     "user": {
      "displayName": "Sabino Miranda Jimenez",
      "userId": "07512468615211987324"
     },
     "user_tz": 360
    },
    "id": "-hS_SObR_IKa",
    "outputId": "4a9e902b-382c-4334-db41-a9840c3b121c"
   },
   "outputs": [
    {
     "name": "stdout",
     "output_type": "stream",
     "text": [
      "Total de ejemplos de entrenamiento\n",
      "klass\n",
      "nonaggressive    3655\n",
      "aggressive       1477\n",
      "Name: count, dtype: int64\n"
     ]
    }
   ],
   "source": [
    "import torch\n",
    "import torch.nn as nn\n",
    "import torch.optim as optim\n",
    "from torch.utils.data import DataLoader, TensorDataset\n",
    "import numpy as np\n",
    "from sklearn.model_selection import train_test_split\n",
    "import pandas as pd\n",
    "from sklearn.preprocessing import LabelEncoder\n",
    "from nltk.corpus import stopwords\n",
    "from sklearn.feature_extraction.text import TfidfVectorizer\n",
    "from nltk import word_tokenize\n",
    "from sklearn.model_selection import train_test_split\n",
    "import fasttext\n",
    "\n",
    "# colocar la semilla para la generación de números aleatorios para la reproducibilidad de experimentos\n",
    "\n",
    "random_state = 42\n",
    "torch.manual_seed(random_state)\n",
    "np.random.seed(random_state)\n",
    "\n",
    "#cargar los datos\n",
    "dataset = pd.read_json(\"/content/gdrive/My Drive/colab/data_aggressiveness_es.json\", lines=True)\n",
    "#conteo de clases\n",
    "print(\"Total de ejemplos de entrenamiento\")\n",
    "print(dataset.klass.value_counts())\n",
    "# Extracción de los textos en arreglos de numpy\n",
    "X = dataset['text'].to_numpy()\n",
    "# Extracción de las etiquetas o clases de entrenamiento\n",
    "Y = dataset['klass'].to_numpy()"
   ]
  },
  {
   "cell_type": "markdown",
   "metadata": {},
   "source": [
    "### Creación de los word embeddings del conjunto de datos"
   ]
  },
  {
   "cell_type": "code",
   "execution_count": null,
   "metadata": {
    "colab": {
     "base_uri": "https://localhost:8080/",
     "height": 206
    },
    "executionInfo": {
     "elapsed": 1517,
     "status": "ok",
     "timestamp": 1732247992449,
     "user": {
      "displayName": "Sabino Miranda Jimenez",
      "userId": "07512468615211987324"
     },
     "user_tz": 360
    },
    "id": "KGRJciZyBh-f",
    "outputId": "a66e1cf4-4e20-4a42-c94c-1fcd72805a4c"
   },
   "outputs": [
    {
     "data": {
      "application/vnd.google.colaboratory.intrinsic+json": {
       "summary": "{\n  \"name\": \"dataset\",\n  \"rows\": 5132,\n  \"fields\": [\n    {\n      \"column\": \"id\",\n      \"properties\": {\n        \"dtype\": \"number\",\n        \"std\": 2119,\n        \"min\": 2,\n        \"max\": 7332,\n        \"num_unique_values\": 5132,\n        \"samples\": [\n          4961,\n          4071,\n          2795\n        ],\n        \"semantic_type\": \"\",\n        \"description\": \"\"\n      }\n    },\n    {\n      \"column\": \"klass\",\n      \"properties\": {\n        \"dtype\": \"category\",\n        \"num_unique_values\": 2,\n        \"samples\": [\n          \"nonaggressive\",\n          \"aggressive\"\n        ],\n        \"semantic_type\": \"\",\n        \"description\": \"\"\n      }\n    },\n    {\n      \"column\": \"text\",\n      \"properties\": {\n        \"dtype\": \"string\",\n        \"num_unique_values\": 5132,\n        \"samples\": [\n          \"Orgulloso? Pinche bola de culos, festejales su mediocridad HD 60 mil PUTAS!!!\",\n          \"ya me tienen hasta la putisima madre con lo del congreso de medicina espacial alv putos pendejos como si nunca hubieran ido a puebla\"\n        ],\n        \"semantic_type\": \"\",\n        \"description\": \"\"\n      }\n    },\n    {\n      \"column\": \"embedding\",\n      \"properties\": {\n        \"dtype\": \"object\",\n        \"semantic_type\": \"\",\n        \"description\": \"\"\n      }\n    }\n  ]\n}",
       "type": "dataframe",
       "variable_name": "dataset"
      },
      "text/html": [
       "\n",
       "  <div id=\"df-d47fa174-2d72-48e5-9f25-11146e7f1c0f\" class=\"colab-df-container\">\n",
       "    <div>\n",
       "<style scoped>\n",
       "    .dataframe tbody tr th:only-of-type {\n",
       "        vertical-align: middle;\n",
       "    }\n",
       "\n",
       "    .dataframe tbody tr th {\n",
       "        vertical-align: top;\n",
       "    }\n",
       "\n",
       "    .dataframe thead th {\n",
       "        text-align: right;\n",
       "    }\n",
       "</style>\n",
       "<table border=\"1\" class=\"dataframe\">\n",
       "  <thead>\n",
       "    <tr style=\"text-align: right;\">\n",
       "      <th></th>\n",
       "      <th>id</th>\n",
       "      <th>klass</th>\n",
       "      <th>text</th>\n",
       "      <th>embedding</th>\n",
       "    </tr>\n",
       "  </thead>\n",
       "  <tbody>\n",
       "    <tr>\n",
       "      <th>0</th>\n",
       "      <td>24</td>\n",
       "      <td>aggressive</td>\n",
       "      <td>@USUARIO Lo que tu no respetas es al país HDP</td>\n",
       "      <td>[-0.047211677, -0.01908352, -0.01999174, 0.024...</td>\n",
       "    </tr>\n",
       "    <tr>\n",
       "      <th>1</th>\n",
       "      <td>1536</td>\n",
       "      <td>nonaggressive</td>\n",
       "      <td>no sé cómo pedirle a la señora que me ayuda a ...</td>\n",
       "      <td>[-0.033048205, -0.020297991, 0.025773568, -0.0...</td>\n",
       "    </tr>\n",
       "    <tr>\n",
       "      <th>2</th>\n",
       "      <td>2401</td>\n",
       "      <td>nonaggressive</td>\n",
       "      <td>¿Cómo hacer entender en el grupo de la familia...</td>\n",
       "      <td>[-0.045047347, 0.0062094647, -0.0025499659, 0....</td>\n",
       "    </tr>\n",
       "    <tr>\n",
       "      <th>3</th>\n",
       "      <td>923</td>\n",
       "      <td>nonaggressive</td>\n",
       "      <td>Jaja, perdón por esta vida loca. Nos vemos pro...</td>\n",
       "      <td>[-0.015040112, 0.008109028, 0.009956434, 0.006...</td>\n",
       "    </tr>\n",
       "    <tr>\n",
       "      <th>4</th>\n",
       "      <td>6075</td>\n",
       "      <td>nonaggressive</td>\n",
       "      <td>Pero que putas hacen esos argentinos hablando ...</td>\n",
       "      <td>[-0.029231621, -0.015333876, 0.0017929205, 0.0...</td>\n",
       "    </tr>\n",
       "  </tbody>\n",
       "</table>\n",
       "</div>\n",
       "    <div class=\"colab-df-buttons\">\n",
       "\n",
       "  <div class=\"colab-df-container\">\n",
       "    <button class=\"colab-df-convert\" onclick=\"convertToInteractive('df-d47fa174-2d72-48e5-9f25-11146e7f1c0f')\"\n",
       "            title=\"Convert this dataframe to an interactive table.\"\n",
       "            style=\"display:none;\">\n",
       "\n",
       "  <svg xmlns=\"http://www.w3.org/2000/svg\" height=\"24px\" viewBox=\"0 -960 960 960\">\n",
       "    <path d=\"M120-120v-720h720v720H120Zm60-500h600v-160H180v160Zm220 220h160v-160H400v160Zm0 220h160v-160H400v160ZM180-400h160v-160H180v160Zm440 0h160v-160H620v160ZM180-180h160v-160H180v160Zm440 0h160v-160H620v160Z\"/>\n",
       "  </svg>\n",
       "    </button>\n",
       "\n",
       "  <style>\n",
       "    .colab-df-container {\n",
       "      display:flex;\n",
       "      gap: 12px;\n",
       "    }\n",
       "\n",
       "    .colab-df-convert {\n",
       "      background-color: #E8F0FE;\n",
       "      border: none;\n",
       "      border-radius: 50%;\n",
       "      cursor: pointer;\n",
       "      display: none;\n",
       "      fill: #1967D2;\n",
       "      height: 32px;\n",
       "      padding: 0 0 0 0;\n",
       "      width: 32px;\n",
       "    }\n",
       "\n",
       "    .colab-df-convert:hover {\n",
       "      background-color: #E2EBFA;\n",
       "      box-shadow: 0px 1px 2px rgba(60, 64, 67, 0.3), 0px 1px 3px 1px rgba(60, 64, 67, 0.15);\n",
       "      fill: #174EA6;\n",
       "    }\n",
       "\n",
       "    .colab-df-buttons div {\n",
       "      margin-bottom: 4px;\n",
       "    }\n",
       "\n",
       "    [theme=dark] .colab-df-convert {\n",
       "      background-color: #3B4455;\n",
       "      fill: #D2E3FC;\n",
       "    }\n",
       "\n",
       "    [theme=dark] .colab-df-convert:hover {\n",
       "      background-color: #434B5C;\n",
       "      box-shadow: 0px 1px 3px 1px rgba(0, 0, 0, 0.15);\n",
       "      filter: drop-shadow(0px 1px 2px rgba(0, 0, 0, 0.3));\n",
       "      fill: #FFFFFF;\n",
       "    }\n",
       "  </style>\n",
       "\n",
       "    <script>\n",
       "      const buttonEl =\n",
       "        document.querySelector('#df-d47fa174-2d72-48e5-9f25-11146e7f1c0f button.colab-df-convert');\n",
       "      buttonEl.style.display =\n",
       "        google.colab.kernel.accessAllowed ? 'block' : 'none';\n",
       "\n",
       "      async function convertToInteractive(key) {\n",
       "        const element = document.querySelector('#df-d47fa174-2d72-48e5-9f25-11146e7f1c0f');\n",
       "        const dataTable =\n",
       "          await google.colab.kernel.invokeFunction('convertToInteractive',\n",
       "                                                    [key], {});\n",
       "        if (!dataTable) return;\n",
       "\n",
       "        const docLinkHtml = 'Like what you see? Visit the ' +\n",
       "          '<a target=\"_blank\" href=https://colab.research.google.com/notebooks/data_table.ipynb>data table notebook</a>'\n",
       "          + ' to learn more about interactive tables.';\n",
       "        element.innerHTML = '';\n",
       "        dataTable['output_type'] = 'display_data';\n",
       "        await google.colab.output.renderOutput(dataTable, element);\n",
       "        const docLink = document.createElement('div');\n",
       "        docLink.innerHTML = docLinkHtml;\n",
       "        element.appendChild(docLink);\n",
       "      }\n",
       "    </script>\n",
       "  </div>\n",
       "\n",
       "\n",
       "<div id=\"df-5ecc2ac2-a790-423e-9d56-44a66a930110\">\n",
       "  <button class=\"colab-df-quickchart\" onclick=\"quickchart('df-5ecc2ac2-a790-423e-9d56-44a66a930110')\"\n",
       "            title=\"Suggest charts\"\n",
       "            style=\"display:none;\">\n",
       "\n",
       "<svg xmlns=\"http://www.w3.org/2000/svg\" height=\"24px\"viewBox=\"0 0 24 24\"\n",
       "     width=\"24px\">\n",
       "    <g>\n",
       "        <path d=\"M19 3H5c-1.1 0-2 .9-2 2v14c0 1.1.9 2 2 2h14c1.1 0 2-.9 2-2V5c0-1.1-.9-2-2-2zM9 17H7v-7h2v7zm4 0h-2V7h2v10zm4 0h-2v-4h2v4z\"/>\n",
       "    </g>\n",
       "</svg>\n",
       "  </button>\n",
       "\n",
       "<style>\n",
       "  .colab-df-quickchart {\n",
       "      --bg-color: #E8F0FE;\n",
       "      --fill-color: #1967D2;\n",
       "      --hover-bg-color: #E2EBFA;\n",
       "      --hover-fill-color: #174EA6;\n",
       "      --disabled-fill-color: #AAA;\n",
       "      --disabled-bg-color: #DDD;\n",
       "  }\n",
       "\n",
       "  [theme=dark] .colab-df-quickchart {\n",
       "      --bg-color: #3B4455;\n",
       "      --fill-color: #D2E3FC;\n",
       "      --hover-bg-color: #434B5C;\n",
       "      --hover-fill-color: #FFFFFF;\n",
       "      --disabled-bg-color: #3B4455;\n",
       "      --disabled-fill-color: #666;\n",
       "  }\n",
       "\n",
       "  .colab-df-quickchart {\n",
       "    background-color: var(--bg-color);\n",
       "    border: none;\n",
       "    border-radius: 50%;\n",
       "    cursor: pointer;\n",
       "    display: none;\n",
       "    fill: var(--fill-color);\n",
       "    height: 32px;\n",
       "    padding: 0;\n",
       "    width: 32px;\n",
       "  }\n",
       "\n",
       "  .colab-df-quickchart:hover {\n",
       "    background-color: var(--hover-bg-color);\n",
       "    box-shadow: 0 1px 2px rgba(60, 64, 67, 0.3), 0 1px 3px 1px rgba(60, 64, 67, 0.15);\n",
       "    fill: var(--button-hover-fill-color);\n",
       "  }\n",
       "\n",
       "  .colab-df-quickchart-complete:disabled,\n",
       "  .colab-df-quickchart-complete:disabled:hover {\n",
       "    background-color: var(--disabled-bg-color);\n",
       "    fill: var(--disabled-fill-color);\n",
       "    box-shadow: none;\n",
       "  }\n",
       "\n",
       "  .colab-df-spinner {\n",
       "    border: 2px solid var(--fill-color);\n",
       "    border-color: transparent;\n",
       "    border-bottom-color: var(--fill-color);\n",
       "    animation:\n",
       "      spin 1s steps(1) infinite;\n",
       "  }\n",
       "\n",
       "  @keyframes spin {\n",
       "    0% {\n",
       "      border-color: transparent;\n",
       "      border-bottom-color: var(--fill-color);\n",
       "      border-left-color: var(--fill-color);\n",
       "    }\n",
       "    20% {\n",
       "      border-color: transparent;\n",
       "      border-left-color: var(--fill-color);\n",
       "      border-top-color: var(--fill-color);\n",
       "    }\n",
       "    30% {\n",
       "      border-color: transparent;\n",
       "      border-left-color: var(--fill-color);\n",
       "      border-top-color: var(--fill-color);\n",
       "      border-right-color: var(--fill-color);\n",
       "    }\n",
       "    40% {\n",
       "      border-color: transparent;\n",
       "      border-right-color: var(--fill-color);\n",
       "      border-top-color: var(--fill-color);\n",
       "    }\n",
       "    60% {\n",
       "      border-color: transparent;\n",
       "      border-right-color: var(--fill-color);\n",
       "    }\n",
       "    80% {\n",
       "      border-color: transparent;\n",
       "      border-right-color: var(--fill-color);\n",
       "      border-bottom-color: var(--fill-color);\n",
       "    }\n",
       "    90% {\n",
       "      border-color: transparent;\n",
       "      border-bottom-color: var(--fill-color);\n",
       "    }\n",
       "  }\n",
       "</style>\n",
       "\n",
       "  <script>\n",
       "    async function quickchart(key) {\n",
       "      const quickchartButtonEl =\n",
       "        document.querySelector('#' + key + ' button');\n",
       "      quickchartButtonEl.disabled = true;  // To prevent multiple clicks.\n",
       "      quickchartButtonEl.classList.add('colab-df-spinner');\n",
       "      try {\n",
       "        const charts = await google.colab.kernel.invokeFunction(\n",
       "            'suggestCharts', [key], {});\n",
       "      } catch (error) {\n",
       "        console.error('Error during call to suggestCharts:', error);\n",
       "      }\n",
       "      quickchartButtonEl.classList.remove('colab-df-spinner');\n",
       "      quickchartButtonEl.classList.add('colab-df-quickchart-complete');\n",
       "    }\n",
       "    (() => {\n",
       "      let quickchartButtonEl =\n",
       "        document.querySelector('#df-5ecc2ac2-a790-423e-9d56-44a66a930110 button');\n",
       "      quickchartButtonEl.style.display =\n",
       "        google.colab.kernel.accessAllowed ? 'block' : 'none';\n",
       "    })();\n",
       "  </script>\n",
       "</div>\n",
       "\n",
       "    </div>\n",
       "  </div>\n"
      ],
      "text/plain": [
       "     id          klass                                               text  \\\n",
       "0    24     aggressive      @USUARIO Lo que tu no respetas es al país HDP   \n",
       "1  1536  nonaggressive  no sé cómo pedirle a la señora que me ayuda a ...   \n",
       "2  2401  nonaggressive  ¿Cómo hacer entender en el grupo de la familia...   \n",
       "3   923  nonaggressive  Jaja, perdón por esta vida loca. Nos vemos pro...   \n",
       "4  6075  nonaggressive  Pero que putas hacen esos argentinos hablando ...   \n",
       "\n",
       "                                           embedding  \n",
       "0  [-0.047211677, -0.01908352, -0.01999174, 0.024...  \n",
       "1  [-0.033048205, -0.020297991, 0.025773568, -0.0...  \n",
       "2  [-0.045047347, 0.0062094647, -0.0025499659, 0....  \n",
       "3  [-0.015040112, 0.008109028, 0.009956434, 0.006...  \n",
       "4  [-0.029231621, -0.015333876, 0.0017929205, 0.0...  "
      ]
     },
     "execution_count": 12,
     "metadata": {},
     "output_type": "execute_result"
    }
   ],
   "source": [
    "# Extracción de los textos en arreglos de numpy\n",
    "# Se aplica una función lambda para obtener el vector de cada texto del conjunto de datos\n",
    "# El resultado es una nueva columna \"embedding\"\n",
    "\n",
    "#Preprocesamientos\n",
    "dataset[\"text\"] = dataset[\"text\"].str.replace(\"\\n\", \"\")\n",
    "\n",
    "dataset[\"embedding\"] = dataset[\"text\"].map(lambda x: ft.get_sentence_vector(x))\n",
    "dataset.head()"
   ]
  },
  {
   "cell_type": "markdown",
   "metadata": {},
   "source": [
    "### Preparación del conjunto de entrenamiento"
   ]
  },
  {
   "cell_type": "code",
   "execution_count": 13,
   "metadata": {
    "colab": {
     "base_uri": "https://localhost:8080/"
    },
    "executionInfo": {
     "elapsed": 210,
     "status": "ok",
     "timestamp": 1732248001544,
     "user": {
      "displayName": "Sabino Miranda Jimenez",
      "userId": "07512468615211987324"
     },
     "user_tz": 360
    },
    "id": "mf3pOkY4Bs5w",
    "outputId": "e01deb9b-cf8c-4e0f-9f25-f2808ee605df"
   },
   "outputs": [
    {
     "name": "stdout",
     "output_type": "stream",
     "text": [
      "Datos: (5132, 300)\n",
      "Etiquetas: (5132,)\n"
     ]
    }
   ],
   "source": [
    "# Cada renglón representa un documento codificado en un texto de embeddings\n",
    "X = np.vstack(dataset['embedding'].to_numpy())\n",
    "Y = dataset['klass'].to_numpy()\n",
    "\n",
    "print(\"Datos:\", X.shape)\n",
    "print(\"Etiquetas:\", Y.shape)"
   ]
  },
  {
   "cell_type": "markdown",
   "metadata": {},
   "source": [
    "### Codificación de etiquetas"
   ]
  },
  {
   "cell_type": "code",
   "execution_count": 15,
   "metadata": {
    "colab": {
     "base_uri": "https://localhost:8080/"
    },
    "executionInfo": {
     "elapsed": 200,
     "status": "ok",
     "timestamp": 1732248037151,
     "user": {
      "displayName": "Sabino Miranda Jimenez",
      "userId": "07512468615211987324"
     },
     "user_tz": 360
    },
    "id": "jkX-YUVmBvSI",
    "outputId": "02fe23e9-84d0-44bc-b12a-b34478acc4b4"
   },
   "outputs": [
    {
     "name": "stdout",
     "output_type": "stream",
     "text": [
      "Clases:\n",
      "['aggressive' 'nonaggressive']\n",
      "Clases codificadas:\n",
      "[0 1]\n"
     ]
    }
   ],
   "source": [
    "# TODO: Codificar las etiquetas de los datos a una forma categórica numérica: LabelEncoder.\n",
    "\n",
    "le = LabelEncoder()\n",
    "# Normalizar las etiquetas a una codificación ordinal para entrada del clasificador\n",
    "Y_encoded= le.fit_transform(Y)\n",
    "print(\"Clases:\")\n",
    "print(le.classes_)\n",
    "print(\"Clases codificadas:\")\n",
    "print(le.transform(le.classes_))"
   ]
  },
  {
   "cell_type": "markdown",
   "metadata": {},
   "source": [
    "### Separación del conjunto de datos en train, validación y test"
   ]
  },
  {
   "cell_type": "code",
   "execution_count": 16,
   "metadata": {
    "executionInfo": {
     "elapsed": 227,
     "status": "ok",
     "timestamp": 1732248039569,
     "user": {
      "displayName": "Sabino Miranda Jimenez",
      "userId": "07512468615211987324"
     },
     "user_tz": 360
    },
    "id": "82boPo8_B1aC"
   },
   "outputs": [],
   "source": [
    "# Dividir el conjunto de datos en conjunto de entrenamiento (80%) y conjunto de pruebas (20%)\n",
    "\n",
    "X_train, X_test, Y_train, Y_test =  train_test_split(X, Y_encoded, test_size=0.2, stratify=Y_encoded, random_state=42)\n",
    "\n",
    "# Dividir el conjunto de entrenamiento en:  entrenamiento (90%) y validación (10%)\n",
    "X_train, X_val, Y_train, Y_val =  train_test_split(X_train, Y_train, test_size=0.1, stratify=Y_train, random_state=42)\n",
    "\n",
    "\n",
    "\n",
    "# Codificar las clases en forma one-hot\n",
    "NUM_CLASSES = 2\n",
    "Y_train_one_hot = nn.functional.one_hot(torch.from_numpy(Y_train), num_classes=NUM_CLASSES).float()\n",
    "\n",
    "\n",
    "# Crear minibatches en PyTorch usando DataLoader\n",
    "def create_minibatches(X, Y, batch_size):\n",
    "    # Recibe los documentos en X y las etiquetas en Y\n",
    "    dataset = TensorDataset(X, Y) # Cargar los datos en un dataset de tensores\n",
    "    loader = DataLoader(dataset, batch_size=batch_size, shuffle=True)\n",
    "    # loader = DataLoader(dataset, batch_size=batch_size)\n",
    "    return loader"
   ]
  },
  {
   "cell_type": "code",
   "execution_count": 17,
   "metadata": {
    "colab": {
     "base_uri": "https://localhost:8080/"
    },
    "executionInfo": {
     "elapsed": 177,
     "status": "ok",
     "timestamp": 1732248049122,
     "user": {
      "displayName": "Sabino Miranda Jimenez",
      "userId": "07512468615211987324"
     },
     "user_tz": 360
    },
    "id": "msonyvdbB46P",
    "outputId": "4c115002-4ee6-4d32-961a-087acc520663"
   },
   "outputs": [
    {
     "data": {
      "text/plain": [
       "((3694, 300), (3694,), (411, 300), (411,), (1027, 300), (1027,))"
      ]
     },
     "execution_count": 17,
     "metadata": {},
     "output_type": "execute_result"
    }
   ],
   "source": [
    "\n",
    "X_train.shape, Y_train.shape, X_val.shape, Y_val.shape, X_test.shape, Y_test.shape"
   ]
  },
  {
   "cell_type": "markdown",
   "metadata": {},
   "source": [
    "### Definición de la arquitectura de la red"
   ]
  },
  {
   "cell_type": "code",
   "execution_count": 18,
   "metadata": {
    "executionInfo": {
     "elapsed": 186,
     "status": "ok",
     "timestamp": 1732248062798,
     "user": {
      "displayName": "Sabino Miranda Jimenez",
      "userId": "07512468615211987324"
     },
     "user_tz": 360
    },
    "id": "Ip3VOaNjB76X"
   },
   "outputs": [],
   "source": [
    "# Definir la red neuronal en PyTorch heredando de la clase base de Redes Neuronales: Module\n",
    "class FF(nn.Module):\n",
    "    def __init__(self, input_size, output_size):\n",
    "        super().__init__()\n",
    "        # Definición de capas, funciones de activación e inicialización de pesos\n",
    "        input_size_h1 = 128\n",
    "        input_size_h2 = 8\n",
    "        self.fc1 = nn.Linear(input_size, input_size_h1)\n",
    "        self.fc2 = nn.Linear(input_size_h1, input_size_h2)\n",
    "        self.output = nn.Linear(input_size_h2, output_size)\n",
    "        self.act1= nn.PReLU()\n",
    "        self.act2= nn.PReLU()\n",
    "\n",
    "        nn.init.xavier_uniform_(self.fc1.weight)\n",
    "        nn.init.xavier_uniform_(self.fc2.weight)\n",
    "        nn.init.xavier_uniform_(self.output.weight)\n",
    "\n",
    "        if self.fc1.bias is not None:\n",
    "            nn.init.zeros_(self.fc1.bias)\n",
    "        if self.fc2.bias is not None:\n",
    "            nn.init.zeros_(self.fc2.bias)\n",
    "        if self.output.bias is not None:\n",
    "            nn.init.zeros_(self.output.bias)\n",
    "\n",
    "\n",
    "    def forward(self, X):\n",
    "        # Definición del orden de conexión de las capas y aplición de las funciones de activación\n",
    "        x = self.fc1(X)\n",
    "        x = self.act1(x)\n",
    "        x = self.fc2(x)\n",
    "        x = self.act2(x)\n",
    "        x = self.output(x)\n",
    "        return x"
   ]
  },
  {
   "cell_type": "markdown",
   "metadata": {},
   "source": [
    "### Entrenamiento de de la red"
   ]
  },
  {
   "cell_type": "code",
   "execution_count": 19,
   "metadata": {
    "colab": {
     "base_uri": "https://localhost:8080/"
    },
    "executionInfo": {
     "elapsed": 12001,
     "status": "ok",
     "timestamp": 1732248087479,
     "user": {
      "displayName": "Sabino Miranda Jimenez",
      "userId": "07512468615211987324"
     },
     "user_tz": 360
    },
    "id": "yJWnon97B_Er",
    "outputId": "9c28f02a-5c8b-4c2b-bcb2-6311b4d4a708"
   },
   "outputs": [
    {
     "name": "stdout",
     "output_type": "stream",
     "text": [
      "Iniciando entrenamiento en PyTorch\n",
      "Batch Error : 0.6770150065422058\n",
      "Batch Error : 0.65428626537323\n",
      "Época 1/10, Pérdida: 0.6450552981475304\n",
      "Época 1/10\n",
      "P= 0.3564476885644769\n",
      "R= 0.5\n",
      "F1= 0.4161931818181818\n",
      "Acc= 0.7128953771289538\n",
      "Batch Error : 0.624316930770874\n",
      "Batch Error : 0.6543532013893127\n",
      "Batch Error : 0.5273614525794983\n",
      "Batch Error : 0.6213216185569763\n"
     ]
    },
    {
     "name": "stderr",
     "output_type": "stream",
     "text": [
      "/usr/local/lib/python3.10/dist-packages/sklearn/metrics/_classification.py:1531: UndefinedMetricWarning: Precision is ill-defined and being set to 0.0 in labels with no predicted samples. Use `zero_division` parameter to control this behavior.\n",
      "  _warn_prf(average, modifier, f\"{metric.capitalize()} is\", len(result))\n",
      "/usr/local/lib/python3.10/dist-packages/sklearn/metrics/_classification.py:1531: UndefinedMetricWarning: Precision is ill-defined and being set to 0.0 in labels with no predicted samples. Use `zero_division` parameter to control this behavior.\n",
      "  _warn_prf(average, modifier, f\"{metric.capitalize()} is\", len(result))\n"
     ]
    },
    {
     "name": "stdout",
     "output_type": "stream",
     "text": [
      "Batch Error : 0.6050226092338562\n",
      "Época 2/10, Pérdida: 0.5899707859960096\n",
      "Época 2/10\n",
      "P= 0.3564476885644769\n",
      "R= 0.5\n",
      "F1= 0.4161931818181818\n",
      "Acc= 0.7128953771289538\n",
      "Batch Error : 0.6083561182022095\n",
      "Batch Error : 0.6114820837974548\n",
      "Batch Error : 0.5589755177497864\n",
      "Batch Error : 0.5854372382164001\n",
      "Batch Error : 0.5097629427909851\n",
      "Época 3/10, Pérdida: 0.5753231541863804\n",
      "Época 3/10\n",
      "P= 0.3564476885644769\n",
      "R= 0.5\n",
      "F1= 0.4161931818181818\n",
      "Acc= 0.7128953771289538\n",
      "Batch Error : 0.6084818840026855\n",
      "Batch Error : 0.5501173734664917\n"
     ]
    },
    {
     "name": "stderr",
     "output_type": "stream",
     "text": [
      "/usr/local/lib/python3.10/dist-packages/sklearn/metrics/_classification.py:1531: UndefinedMetricWarning: Precision is ill-defined and being set to 0.0 in labels with no predicted samples. Use `zero_division` parameter to control this behavior.\n",
      "  _warn_prf(average, modifier, f\"{metric.capitalize()} is\", len(result))\n"
     ]
    },
    {
     "name": "stdout",
     "output_type": "stream",
     "text": [
      "Batch Error : 0.5683636665344238\n",
      "Época 4/10, Pérdida: 0.551000216911579\n",
      "Época 4/10\n",
      "P= 0.7384085213032581\n",
      "R= 0.5330161392954242\n",
      "F1= 0.48830591373943977\n",
      "Acc= 0.7274939172749392\n",
      "Batch Error : 0.5141305327415466\n",
      "Época 5/10, Pérdida: 0.4966999497906915\n",
      "Época 5/10\n",
      "P= 0.7203299750439043\n",
      "R= 0.6378926360849193\n",
      "F1= 0.651453790238837\n",
      "Acc= 0.7615571776155717\n",
      "Batch Error : 0.5271028876304626\n",
      "Batch Error : 0.4228875935077667\n",
      "Batch Error : 0.4410017132759094\n",
      "Batch Error : 0.4043583571910858\n",
      "Batch Error : 0.478652685880661\n",
      "Época 6/10, Pérdida: 0.45055795846314267\n",
      "Época 6/10\n",
      "P= 0.7420896930200651\n",
      "R= 0.6633163648984787\n",
      "F1= 0.6803611280178535\n",
      "Acc= 0.7761557177615572\n",
      "Batch Error : 0.4568142294883728\n",
      "Batch Error : 0.46392756700515747\n",
      "Época 7/10, Pérdida: 0.4276038531599374\n",
      "Época 7/10\n",
      "P= 0.719383346425766\n",
      "R= 0.6615520333198357\n",
      "F1= 0.6761441985685206\n",
      "Acc= 0.7664233576642335\n",
      "Batch Error : 0.44882920384407043\n",
      "Batch Error : 0.38600748777389526\n",
      "Batch Error : 0.38755857944488525\n",
      "Época 8/10, Pérdida: 0.4202872843577944\n",
      "Época 8/10\n",
      "P= 0.7351119894598155\n",
      "R= 0.6548417886272921\n",
      "F1= 0.6708975057925582\n",
      "Acc= 0.7712895377128953\n",
      "Batch Error : 0.4614713191986084\n",
      "Batch Error : 0.38195285201072693\n",
      "Batch Error : 0.4248979687690735\n",
      "Época 9/10, Pérdida: 0.40759104284746894\n",
      "Época 9/10\n",
      "P= 0.7039919045292763\n",
      "R= 0.669086596864696\n",
      "F1= 0.6803817603393425\n",
      "Acc= 0.7591240875912408\n",
      "Batch Error : 0.2925143539905548\n",
      "Batch Error : 0.40085530281066895\n",
      "Época 10/10, Pérdida: 0.404246620063124\n",
      "Época 10/10\n",
      "P= 0.7102496310870634\n",
      "R= 0.6978076010875225\n",
      "F1= 0.7032049134561698\n",
      "Acc= 0.7639902676399026\n"
     ]
    }
   ],
   "source": [
    "import numpy as np\n",
    "from sklearn.metrics import precision_score, recall_score, f1_score, accuracy_score\n",
    "\n",
    "# Establecer los parámetros de la red\n",
    "\n",
    "# Parámetros de la red\n",
    "input_size =  X_train.shape[1]\n",
    "\n",
    "output_size = 2   # 2 clases\n",
    "\n",
    "epochs = 10 # variar el número de épocas, para probar que funciona la programación\n",
    "                 # solo usar 2 épocas, para entrenamiento total usar por ejemplo 1000 épocas\n",
    "learning_rate = 0.001 # Generalmente se usan learning rate pequeños (0.001),\n",
    "\n",
    "# Se recomiendan tamaños de batch_size potencias de 2: 16, 32, 64, 128, 256\n",
    "# Entre mayor el número más cantidad de memoria se requiere para el procesamiento\n",
    "batch_size = 128 # definir el tamaño del lote de procesamiento\n",
    "\n",
    "\n",
    "# Convertir los datos de entrenamiento y etiquetas a tensores  de PyTorch\n",
    "\n",
    "X_train_t = torch.from_numpy(X_train)\n",
    "X_train_t = X_train_t.to(torch.float32)\n",
    "Y_train_t = Y_train_one_hot\n",
    "\n",
    "X_val_t = torch.from_numpy(X_val)\n",
    "X_val_t = X_val_t.to(torch.float32)\n",
    "\n",
    "\n",
    "# Crear la red\n",
    "model = FF(input_size, output_size)\n",
    "\n",
    "# Definir la función de pérdida\n",
    "# Entropía Cruzada\n",
    "criterion = nn.CrossEntropyLoss()\n",
    "\n",
    "# Definir el optimizador\n",
    "#Parámetros del optimizador: parámetros del modelo y learning rate\n",
    "# Adaptive Moment Estimation\n",
    "optimizer = optim.Adam(model.parameters(), lr=learning_rate)\n",
    "\n",
    "# Entrenamiento\n",
    "print(\"Iniciando entrenamiento en PyTorch\")\n",
    "\n",
    "\n",
    "for epoch in range(epochs):\n",
    "# Poner el modelo en modo de entrenamiento\n",
    "    model.train()\n",
    "    lossTotal = 0\n",
    "    #definir el batch_size\n",
    "    dataloader = create_minibatches(X_train_t, Y_train_t, batch_size=batch_size)\n",
    "    for X_tr, y_tr in dataloader:\n",
    "        # inicializar los gradientes en cero para cada época\n",
    "        optimizer.zero_grad()\n",
    "\n",
    "        # Propagación hacia adelante\n",
    "        y_pred = model(X_tr)  #invoca al método forward de la clase MLP\n",
    "        # Calcular el error MSE\n",
    "        loss = criterion(y_pred, y_tr)\n",
    "        #Acumular el error\n",
    "        lossTotal += loss.item()\n",
    "\n",
    "        # Propagación hacia atrás: cálculo de los gradientes de los pesos y bias\n",
    "        loss.backward()\n",
    "\n",
    "        # actualización de los pesos: regla de actualización basado en el gradiente:\n",
    "        #\n",
    "        optimizer.step()\n",
    "        if np.random.random() < 0.1:\n",
    "            print(f\"Batch Error : {loss.item()}\")\n",
    "\n",
    "    print(f\"Época {epoch+1}/{epochs}, Pérdida: {lossTotal/len(dataloader)}\")\n",
    "\n",
    "    # Evalúa el modelo con el conjunto de validación\n",
    "    model.eval()  # Establecer el modo del modelo a \"evaluación\"\n",
    "    with torch.no_grad():  # No  calcular gradientes\n",
    "        y_pred = model(X_val_t)\n",
    "        # Obtiene una única clase, la más probable\n",
    "        y_pred = torch.argmax(y_pred, dim=1)\n",
    "        print(f\"Época {epoch+1}/{epochs}\")\n",
    "        print(\"P=\", precision_score(Y_val, y_pred, average='macro'))\n",
    "        print(\"R=\", recall_score(Y_val, y_pred, average='macro'))\n",
    "        print(\"F1=\", f1_score(Y_val, y_pred, average='macro'))\n",
    "        print(\"Acc=\", accuracy_score(Y_val, y_pred))\n"
   ]
  },
  {
   "cell_type": "markdown",
   "metadata": {},
   "source": [
    "### Precicción de los datos de test"
   ]
  },
  {
   "cell_type": "code",
   "execution_count": 20,
   "metadata": {
    "colab": {
     "base_uri": "https://localhost:8080/"
    },
    "executionInfo": {
     "elapsed": 212,
     "status": "ok",
     "timestamp": 1732248102400,
     "user": {
      "displayName": "Sabino Miranda Jimenez",
      "userId": "07512468615211987324"
     },
     "user_tz": 360
    },
    "id": "BDmS3lZJCFu7",
    "outputId": "eef0aa73-2d42-455c-b6e7-258398e82ec4"
   },
   "outputs": [
    {
     "name": "stdout",
     "output_type": "stream",
     "text": [
      "tensor([0, 1, 1,  ..., 0, 1, 0])\n"
     ]
    }
   ],
   "source": [
    "# TODO: Transformar el dataset de test con los mismos preprocesamientos y al  espacio de\n",
    "# representación vectorial que el modelo entrenado, es decir, al espacio de la matriz TFIDF\n",
    "\n",
    "# Convertir los datos de prueba a tensores de PyTorch\n",
    "\n",
    "X_t = torch.from_numpy(X_test)\n",
    "X_t = X_t.to(torch.float32)\n",
    "\n",
    "# Desactivar el comportamiento de modo de  entrenamiento: por ejemplo, capas como Dropout\n",
    "model.eval()  # Establecer el modo del modelo a \"evaluación\"\n",
    "\n",
    "with torch.no_grad():  # No  calcular gradientes\n",
    "    y_pred_test= model(X_t)\n",
    "\n",
    "# y_test_pred contiene las predicciones\n",
    "\n",
    "# Obtener la clase real\n",
    "y_pred_test = torch.argmax(y_pred_test, dim=1)\n",
    "\n",
    "print(y_pred_test)"
   ]
  },
  {
   "cell_type": "markdown",
   "metadata": {},
   "source": [
    "### Evaluación del rendimiento del modelo con los datos de test"
   ]
  },
  {
   "cell_type": "code",
   "execution_count": 21,
   "metadata": {
    "colab": {
     "base_uri": "https://localhost:8080/"
    },
    "executionInfo": {
     "elapsed": 204,
     "status": "ok",
     "timestamp": 1732248114631,
     "user": {
      "displayName": "Sabino Miranda Jimenez",
      "userId": "07512468615211987324"
     },
     "user_tz": 360
    },
    "id": "6dRB6oSXCIle",
    "outputId": "65781d62-23b9-4c65-90e0-beb38a32fe8d"
   },
   "outputs": [
    {
     "name": "stdout",
     "output_type": "stream",
     "text": [
      "[[175 121]\n",
      " [ 78 653]]\n",
      "              precision    recall  f1-score   support\n",
      "\n",
      "           0     0.6917    0.5912    0.6375       296\n",
      "           1     0.8437    0.8933    0.8678       731\n",
      "\n",
      "    accuracy                         0.8062      1027\n",
      "   macro avg     0.7677    0.7423    0.7526      1027\n",
      "weighted avg     0.7999    0.8062    0.8014      1027\n",
      "\n"
     ]
    }
   ],
   "source": [
    "# TODO: Evaluar el modelo con las predicciones obtenidas y las etiquetas esperadas:\n",
    "# classification_report y  matriz de confusión (métricas Precisión, Recall, F1-measaure, Accuracy)\n",
    "\n",
    "from sklearn.metrics import classification_report\n",
    "from sklearn.metrics import confusion_matrix\n",
    "\n",
    "\n",
    "print(confusion_matrix(Y_test, y_pred_test))\n",
    "print(classification_report(Y_test, y_pred_test, digits=4, zero_division='warn'))"
   ]
  },
  {
   "cell_type": "markdown",
   "metadata": {},
   "source": [
    "### Evaluación con nuevos datos"
   ]
  },
  {
   "cell_type": "code",
   "execution_count": 22,
   "metadata": {
    "colab": {
     "base_uri": "https://localhost:8080/"
    },
    "executionInfo": {
     "elapsed": 215,
     "status": "ok",
     "timestamp": 1732248127931,
     "user": {
      "displayName": "Sabino Miranda Jimenez",
      "userId": "07512468615211987324"
     },
     "user_tz": 360
    },
    "id": "cPDe1kL5CLvI",
    "outputId": "3fd56c37-ae06-4cb3-9264-9fb4159c96b3"
   },
   "outputs": [
    {
     "name": "stdout",
     "output_type": "stream",
     "text": [
      "['nonaggressive' 'aggressive' 'nonaggressive']\n"
     ]
    }
   ],
   "source": [
    "\n",
    "x_datos = [\"Ese tipo se llevó mis cosas\", \"ese hijo de se llevo el dinero\", \"mi app de calendario no sirve\"]\n",
    "# Transformar los datos a vectores densos: word embeddings\n",
    "x_datos = [ft.get_sentence_vector(texto) for texto in x_datos]\n",
    "\n",
    "# Apilar los vectores verticalmente para tener un ejemplo.\n",
    "vectores = np.vstack(x_datos)\n",
    "\n",
    "x_datos_t = torch.from_numpy(vectores)\n",
    "x_datos_t = x_datos_t.to(torch.float32)\n",
    "\n",
    "model.eval()  # Establecer el modo del modelo a \"evaluación\"\n",
    "with torch.no_grad():  # No  calcular gradientes\n",
    "    y_pred = model(x_datos_t)\n",
    "    y_pred = torch.argmax(y_pred, dim=1)\n",
    "    print(le.inverse_transform(y_pred))"
   ]
  }
 ],
 "metadata": {
  "colab": {
   "authorship_tag": "ABX9TyO2BJeai4V5VEvs1sHdsa9f",
   "mount_file_id": "1GSUjTQ6WxsMHx7-C4pwwq51EU0UAXYcQ",
   "provenance": [],
   "toc_visible": true
  },
  "kernelspec": {
   "display_name": "PT",
   "language": "python",
   "name": "python3"
  },
  "language_info": {
   "codemirror_mode": {
    "name": "ipython",
    "version": 3
   },
   "file_extension": ".py",
   "mimetype": "text/x-python",
   "name": "python",
   "nbconvert_exporter": "python",
   "pygments_lexer": "ipython3",
   "version": "3.12.3"
  }
 },
 "nbformat": 4,
 "nbformat_minor": 0
}
